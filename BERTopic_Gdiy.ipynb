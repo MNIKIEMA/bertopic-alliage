{
  "cells": [
    {
      "cell_type": "markdown",
      "metadata": {
        "id": "NHwNgTnKp6R0"
      },
      "source": [
        "# **BERTopic sur des transcription du podcast**\n",
        "\n",
        "BERTopic est un puissant framework pour analyser les données textuelles.\n",
        "Nous allons l'utiliser dans ce projet pour analyser des transcriptions du podcast [GDIY](https://www.gdiy.fr/).\n",
        "Les données ont été netoyées pour faciliter la compréhension. Vous pouvez trouver les données sur ce repo [Github](https://github.com/MNIKIEMA/gdiy-search/tree/main/gdiy_json_data).\n",
        "\n",
        "**Disclaimer**: Je ne suis pas sponsorisé par le podcast Génération Do It Yourself."
      ]
    },
    {
      "cell_type": "code",
      "execution_count": 1,
      "metadata": {
        "id": "swkRsYLdC9YE"
      },
      "outputs": [],
      "source": [
        "%%capture\n",
        "\n",
        "#!pip install safetensors\n",
        "#%pip install datasets\n",
        "#%pip install datashader\n",
        "#%pip install adjustText"
      ]
    },
    {
      "cell_type": "markdown",
      "metadata": {
        "id": "FGsO8BShl778"
      },
      "source": [
        "# **La base de donnée**\n",
        "- Les transcriptions ont été nettoyées en supprimant les mots non important\n",
        "- Les données sont de format `json` et subdivisées en petit bloc pour calculer les embeddings\n",
        "- On a le format suivant:\n",
        "```json\n",
        "{\n",
        "    \"text\": [\"text_1\", \"text_2\", \"etc\"],\n",
        "    \"date\": [\"date_1\", \"date_2\", \"etc\"]\n",
        "}\n",
        "```"
      ]
    },
    {
      "cell_type": "code",
      "execution_count": 1,
      "metadata": {},
      "outputs": [],
      "source": [
        "from langchain.text_splitter import RecursiveCharacterTextSplitter\n",
        "from sentence_transformers import SentenceTransformer\n",
        "import json\n",
        "from tqdm.auto import tqdm\n",
        "import os\n",
        "from nltk.corpus import stopwords\n",
        "import numpy as np"
      ]
    },
    {
      "cell_type": "code",
      "execution_count": 2,
      "metadata": {},
      "outputs": [],
      "source": [
        "stopword = stopwords.words('french')\n",
        "stopword += ['ouais', 'épisode', 'faire', 'morgan','prudhomme', 'lire', 'génération','podcast', 'gdiy',\n",
        "           'recommande','deux','quand','the','livre', 'être','yourself', 'orso', 'doi', 'an',\n",
        "           'merci', 'avoir','timeline','face','million','monde', 'vie','and','fait','abonnez', 'parce',\n",
        "             'ouai', 'sai', 'it', 'do', 'mets', 'yourself','si', 'chose','oui', 'truc', 'dessus', 'traite',\n",
        "             'that', 'fai', 'accord', 'gens', 'exemple', 'cosa', 'legalstart', 'start']"
      ]
    },
    {
      "cell_type": "code",
      "execution_count": 3,
      "metadata": {
        "colab": {
          "base_uri": "https://localhost:8080/"
        },
        "id": "Dd-ANJvnxph4",
        "outputId": "bcea1d59-0002-45ab-fc87-06e965302845"
      },
      "outputs": [
        {
          "name": "stdout",
          "output_type": "stream",
          "text": [
            "49892\n"
          ]
        }
      ],
      "source": [
        "import json\n",
        "with open('./dataset/clean_docs.json', 'r') as f:\n",
        "    data = json.load(f)\n",
        "\n",
        "docs = data['text']\n",
        "date = data['date']\n",
        "\n",
        "print(len(docs))"
      ]
    },
    {
      "cell_type": "markdown",
      "metadata": {
        "id": "kWxZKbi_p8BW"
      },
      "source": [
        "# **Premier pas avec Bertopic**\n",
        "\n",
        "- On va illustrer l'entrainement sur une base de donnée en utiliser quelques lignes de codes.\n",
        "- Plus tard, nous allons explorer la modularité de `Bertopic`"
      ]
    },
    {
      "cell_type": "markdown",
      "metadata": {
        "id": "MuJA4WTxmDqs"
      },
      "source": [
        "## Embeddings\n",
        "\n",
        "- Nous pré-calculerons et sauvegarderons les embeddings pour le modèle BERTopic\n",
        "- Cela nous permet de gagner du temps en évitant cette étape lors des itérations futures sur le modèle."
      ]
    },
    {
      "cell_type": "code",
      "execution_count": 11,
      "metadata": {
        "id": "PeUXF7nOxDjZ"
      },
      "outputs": [
        {
          "data": {
            "application/vnd.jupyter.widget-view+json": {
              "model_id": "81bf0f7933604d4589415169df861c07",
              "version_major": 2,
              "version_minor": 0
            },
            "text/plain": [
              "Batches:   0%|          | 0/1560 [00:00<?, ?it/s]"
            ]
          },
          "metadata": {},
          "output_type": "display_data"
        }
      ],
      "source": [
        "# Creation des embeddings\n",
        "model = SentenceTransformer('sentence-transformers/all-MiniLM-L6-v2') #'sentence-transformers/all-MiniLM-L6-v2'\n",
        "embeddings = model.encode(docs, show_progress_bar=True)"
      ]
    },
    {
      "cell_type": "markdown",
      "metadata": {
        "id": "kcOMYUNdnuVH"
      },
      "source": [
        "Il est recommendé de sauvegarder les embeddings pour ne pas les calculer tout temps:"
      ]
    },
    {
      "cell_type": "code",
      "execution_count": 12,
      "metadata": {
        "id": "jGJge6cqxlLl"
      },
      "outputs": [],
      "source": [
        "with open('./embeddings.npy', 'wb') as f:\n",
        "    np.save(f, embeddings)"
      ]
    },
    {
      "cell_type": "markdown",
      "metadata": {
        "id": "zD4EBs6dxALj"
      },
      "source": [
        "- On peut les charger en mémoire comme suit:"
      ]
    },
    {
      "cell_type": "code",
      "execution_count": 4,
      "metadata": {
        "id": "bvo2URBXOy8E"
      },
      "outputs": [],
      "source": [
        "embeddings = np.load('./embeddings.npy')"
      ]
    },
    {
      "cell_type": "code",
      "execution_count": 5,
      "metadata": {},
      "outputs": [
        {
          "data": {
            "text/plain": [
              "(49892, 384)"
            ]
          },
          "execution_count": 5,
          "metadata": {},
          "output_type": "execute_result"
        }
      ],
      "source": [
        "embeddings.shape"
      ]
    },
    {
      "cell_type": "markdown",
      "metadata": {
        "id": "-bX8BEd7zph0"
      },
      "source": [
        "## Preparation du vocabulaire\n",
        "\n",
        "L'auteur suggère de préparer le vocabulaire en amont pour économiser de la mémoire avant d'entraîner leur modèle.\n",
        "\n",
        "Cette étape, bien que facultative avec assez de RAM, peut aider à réduire son utilisation. \n",
        "\n",
        "Il recommande aussi d'utiliser un `CountVectorizer` personnalisé plutôt que le `CountVectorizer` par défaut, s'il est disponible."
      ]
    },
    {
      "cell_type": "code",
      "execution_count": 6,
      "metadata": {
        "colab": {
          "base_uri": "https://localhost:8080/"
        },
        "id": "SmxBX5UIzl_o",
        "outputId": "4fcf8787-bd77-496c-f743-19ca736691ad"
      },
      "outputs": [
        {
          "name": "stderr",
          "output_type": "stream",
          "text": [
            "100%|██████████| 49892/49892 [00:00<00:00, 104374.97it/s]\n"
          ]
        }
      ],
      "source": [
        "import collections\n",
        "from tqdm import tqdm\n",
        "from sklearn.feature_extraction.text import CountVectorizer\n",
        "\n",
        "# Construction du vocabulaire\n",
        "vocab = collections.Counter()\n",
        "tokenizer = CountVectorizer().build_tokenizer()\n",
        "for doc in tqdm(docs):\n",
        "  vocab.update(tokenizer(doc))\n",
        "\n",
        "# On garde les mots dont la fréquence est supérieur à 15\n",
        "vocab = [word for word, frequency in vocab.items() if frequency >= 15]"
      ]
    },
    {
      "cell_type": "markdown",
      "metadata": {},
      "source": [
        "- On peut ainsi voir le nombre de mots dans notre vocabulaire"
      ]
    },
    {
      "cell_type": "code",
      "execution_count": 7,
      "metadata": {},
      "outputs": [
        {
          "data": {
            "text/plain": [
              "6731"
            ]
          },
          "execution_count": 7,
          "metadata": {},
          "output_type": "execute_result"
        }
      ],
      "source": [
        "len(vocab)"
      ]
    },
    {
      "cell_type": "markdown",
      "metadata": {
        "id": "yeB091ZHzyRk"
      },
      "source": [
        "## Entrainement de `BERTopic`\n",
        "\n",
        "Nous pouvons entraîner notre modèle `BERTopic`.\n",
        "\n",
        "Nous sélectionnons un modèle d'embeddings de phrases de la librairie SentenceTransformer et nous choisissons les modèles `HDBSCAN` et `UMAP`. \n",
        "\n",
        "Nvidia a développé des versions accélérées par GPU de `HDBSCAN` et `UMAP`, ce qui permet d'améliorer l'entraînement sur un ensemble de données aussi volumineux."
      ]
    },
    {
      "cell_type": "code",
      "execution_count": 8,
      "metadata": {
        "id": "OvnyNuYJzy_J"
      },
      "outputs": [
        {
          "name": "stdout",
          "output_type": "stream",
          "text": [
            "UMAP(angular_rp_forest=True, metric='cosine', n_components=5, n_neighbors=50, random_state=42, verbose=True)\n",
            "Sat Nov 18 20:55:44 2023 Construct fuzzy simplicial set\n",
            "Sat Nov 18 20:55:44 2023 Finding Nearest Neighbors\n",
            "Sat Nov 18 20:55:44 2023 Building RP forest with 16 trees\n",
            "Sat Nov 18 20:55:48 2023 NN descent for 16 iterations\n",
            "\t 1  /  16\n",
            "\t 2  /  16\n",
            "\t 3  /  16\n",
            "\t 4  /  16\n",
            "\t 5  /  16\n",
            "\tStopping threshold met -- exiting after 5 iterations\n",
            "Sat Nov 18 20:56:04 2023 Finished Nearest Neighbor Search\n",
            "Sat Nov 18 20:56:07 2023 Construct embedding\n"
          ]
        },
        {
          "data": {
            "application/vnd.jupyter.widget-view+json": {
              "model_id": "316ea9fb263249f8a79a26ca88b8bf06",
              "version_major": 2,
              "version_minor": 0
            },
            "text/plain": [
              "Epochs completed:   0%|            0/200 [00:00]"
            ]
          },
          "metadata": {},
          "output_type": "display_data"
        },
        {
          "name": "stderr",
          "output_type": "stream",
          "text": [
            "2023-11-18 20:56:55,419 - BERTopic - Reduced dimensionality\n"
          ]
        },
        {
          "name": "stdout",
          "output_type": "stream",
          "text": [
            "Sat Nov 18 20:56:55 2023 Finished embedding\n"
          ]
        },
        {
          "name": "stderr",
          "output_type": "stream",
          "text": [
            "2023-11-18 20:56:57,965 - BERTopic - Clustered reduced embeddings\n",
            "c:\\Users\\MahamadiNikiema\\anaconda3\\envs\\podcast-env\\lib\\site-packages\\bertopic\\vectorizers\\_ctfidf.py:69: RuntimeWarning: divide by zero encountered in divide\n",
            "  idf = np.log((avg_nr_samples / df)+1)\n"
          ]
        }
      ],
      "source": [
        "from umap import UMAP\n",
        "import hdbscan\n",
        "from bertopic import BERTopic\n",
        "\n",
        "# Preparation des modèles\n",
        "\n",
        "#\n",
        "embedding_model = SentenceTransformer('sentence-transformers/all-MiniLM-L6-v2')\n",
        "# UMAP\n",
        "umap_model = UMAP(n_components=5, n_neighbors=50, random_state=42,\n",
        "                  metric=\"cosine\", verbose=True)\n",
        "# HDBSCAN\n",
        "hdbscan_model = hdbscan.HDBSCAN(min_samples=20, gen_min_span_tree=True,\n",
        "                                prediction_data=False, min_cluster_size=20)\n",
        "# Vectorizer\n",
        "vectorizer_model = CountVectorizer(vocabulary=vocab, stop_words=list(stopword))\n",
        "\n",
        "# Fit BERTopic without actually performing any clustering\n",
        "topic_model= BERTopic(\n",
        "        embedding_model=embedding_model,\n",
        "        umap_model=umap_model,\n",
        "        hdbscan_model=hdbscan_model,\n",
        "        vectorizer_model=vectorizer_model,\n",
        "        verbose=True\n",
        ").fit(docs, embeddings=embeddings)"
      ]
    },
    {
      "cell_type": "markdown",
      "metadata": {
        "id": "3tJJAjYjpmMv"
      },
      "source": [
        "Nous pouvons examiner les sujets comme suit :"
      ]
    },
    {
      "cell_type": "code",
      "execution_count": 9,
      "metadata": {
        "id": "uMAjGXEwpx3X"
      },
      "outputs": [
        {
          "data": {
            "text/html": [
              "<div>\n",
              "<style scoped>\n",
              "    .dataframe tbody tr th:only-of-type {\n",
              "        vertical-align: middle;\n",
              "    }\n",
              "\n",
              "    .dataframe tbody tr th {\n",
              "        vertical-align: top;\n",
              "    }\n",
              "\n",
              "    .dataframe thead th {\n",
              "        text-align: right;\n",
              "    }\n",
              "</style>\n",
              "<table border=\"1\" class=\"dataframe\">\n",
              "  <thead>\n",
              "    <tr style=\"text-align: right;\">\n",
              "      <th></th>\n",
              "      <th>Topic</th>\n",
              "      <th>Count</th>\n",
              "      <th>Name</th>\n",
              "      <th>Representation</th>\n",
              "      <th>Representative_Docs</th>\n",
              "    </tr>\n",
              "  </thead>\n",
              "  <tbody>\n",
              "    <tr>\n",
              "      <th>0</th>\n",
              "      <td>-1</td>\n",
              "      <td>31771</td>\n",
              "      <td>-1_coup_boîte_temps_moment</td>\n",
              "      <td>[coup, boîte, temps, moment, fois, personne, j...</td>\n",
              "      <td>[ensemble trois coup idée france france péruvi...</td>\n",
              "    </tr>\n",
              "    <tr>\n",
              "      <th>1</th>\n",
              "      <td>0</td>\n",
              "      <td>992</td>\n",
              "      <td>0_restaurant_chef_cuisine_café</td>\n",
              "      <td>[restaurant, chef, cuisine, café, restauration...</td>\n",
              "      <td>[restaurant quartier fooding restaurant quarti...</td>\n",
              "    </tr>\n",
              "    <tr>\n",
              "      <th>2</th>\n",
              "      <td>1</td>\n",
              "      <td>811</td>\n",
              "      <td>1_musique_album_artiste_disque</td>\n",
              "      <td>[musique, album, artiste, disque, dj, piano, c...</td>\n",
              "      <td>[rencontre coup titre tube cas europe sud vrai...</td>\n",
              "    </tr>\n",
              "    <tr>\n",
              "      <th>3</th>\n",
              "      <td>2</td>\n",
              "      <td>689</td>\n",
              "      <td>2_entrepreneur_entrepreneuriat_investisseur_pr...</td>\n",
              "      <td>[entrepreneur, entrepreneuriat, investisseur, ...</td>\n",
              "      <td>[plein façon entrepreneur entrepreneur entrepr...</td>\n",
              "    </tr>\n",
              "    <tr>\n",
              "      <th>4</th>\n",
              "      <td>3</td>\n",
              "      <td>520</td>\n",
              "      <td>3_moment_armée_chance_ontario</td>\n",
              "      <td>[moment, armée, chance, ontario, projet, quest...</td>\n",
              "      <td>[place moment marché moment échange propos cha...</td>\n",
              "    </tr>\n",
              "    <tr>\n",
              "      <th>...</th>\n",
              "      <td>...</td>\n",
              "      <td>...</td>\n",
              "      <td>...</td>\n",
              "      <td>...</td>\n",
              "      <td>...</td>\n",
              "    </tr>\n",
              "    <tr>\n",
              "      <th>152</th>\n",
              "      <td>151</td>\n",
              "      <td>22</td>\n",
              "      <td>151_intelligence_cerveau_excellence_avenir</td>\n",
              "      <td>[intelligence, cerveau, excellence, avenir, st...</td>\n",
              "      <td>[intelligence bullshit intelligence aig intell...</td>\n",
              "    </tr>\n",
              "    <tr>\n",
              "      <th>153</th>\n",
              "      <td>152</td>\n",
              "      <td>21</td>\n",
              "      <td>152_tiktok_follower_insta_youtube</td>\n",
              "      <td>[tiktok, follower, insta, youtube, algorithme,...</td>\n",
              "      <td>[contenu viral cas follower règle 2023 mec ris...</td>\n",
              "    </tr>\n",
              "    <tr>\n",
              "      <th>154</th>\n",
              "      <td>153</td>\n",
              "      <td>21</td>\n",
              "      <td>153_planet_time_for_climatisation</td>\n",
              "      <td>[planet, time, for, climatisation, planète, ai...</td>\n",
              "      <td>[time for planet dimension retour investisseme...</td>\n",
              "    </tr>\n",
              "    <tr>\n",
              "      <th>155</th>\n",
              "      <td>154</td>\n",
              "      <td>21</td>\n",
              "      <td>154_science_po_fac_connaissance</td>\n",
              "      <td>[science, po, fac, connaissance, géant, dr, on...</td>\n",
              "      <td>[récit valeur coup science po puisque fonction...</td>\n",
              "    </tr>\n",
              "    <tr>\n",
              "      <th>156</th>\n",
              "      <td>155</td>\n",
              "      <td>20</td>\n",
              "      <td>155_fonds_cash_levée_argent</td>\n",
              "      <td>[fonds, cash, levée, argent, 50, préférence, p...</td>\n",
              "      <td>[effet comme levée fond erreur effet levée fon...</td>\n",
              "    </tr>\n",
              "  </tbody>\n",
              "</table>\n",
              "<p>157 rows × 5 columns</p>\n",
              "</div>"
            ],
            "text/plain": [
              "     Topic  Count                                               Name  \\\n",
              "0       -1  31771                         -1_coup_boîte_temps_moment   \n",
              "1        0    992                     0_restaurant_chef_cuisine_café   \n",
              "2        1    811                     1_musique_album_artiste_disque   \n",
              "3        2    689  2_entrepreneur_entrepreneuriat_investisseur_pr...   \n",
              "4        3    520                      3_moment_armée_chance_ontario   \n",
              "..     ...    ...                                                ...   \n",
              "152    151     22         151_intelligence_cerveau_excellence_avenir   \n",
              "153    152     21                  152_tiktok_follower_insta_youtube   \n",
              "154    153     21                  153_planet_time_for_climatisation   \n",
              "155    154     21                    154_science_po_fac_connaissance   \n",
              "156    155     20                        155_fonds_cash_levée_argent   \n",
              "\n",
              "                                        Representation  \\\n",
              "0    [coup, boîte, temps, moment, fois, personne, j...   \n",
              "1    [restaurant, chef, cuisine, café, restauration...   \n",
              "2    [musique, album, artiste, disque, dj, piano, c...   \n",
              "3    [entrepreneur, entrepreneuriat, investisseur, ...   \n",
              "4    [moment, armée, chance, ontario, projet, quest...   \n",
              "..                                                 ...   \n",
              "152  [intelligence, cerveau, excellence, avenir, st...   \n",
              "153  [tiktok, follower, insta, youtube, algorithme,...   \n",
              "154  [planet, time, for, climatisation, planète, ai...   \n",
              "155  [science, po, fac, connaissance, géant, dr, on...   \n",
              "156  [fonds, cash, levée, argent, 50, préférence, p...   \n",
              "\n",
              "                                   Representative_Docs  \n",
              "0    [ensemble trois coup idée france france péruvi...  \n",
              "1    [restaurant quartier fooding restaurant quarti...  \n",
              "2    [rencontre coup titre tube cas europe sud vrai...  \n",
              "3    [plein façon entrepreneur entrepreneur entrepr...  \n",
              "4    [place moment marché moment échange propos cha...  \n",
              "..                                                 ...  \n",
              "152  [intelligence bullshit intelligence aig intell...  \n",
              "153  [contenu viral cas follower règle 2023 mec ris...  \n",
              "154  [time for planet dimension retour investisseme...  \n",
              "155  [récit valeur coup science po puisque fonction...  \n",
              "156  [effet comme levée fond erreur effet levée fon...  \n",
              "\n",
              "[157 rows x 5 columns]"
            ]
          },
          "execution_count": 9,
          "metadata": {},
          "output_type": "execute_result"
        }
      ],
      "source": [
        "topic_model.get_topic_info()"
      ]
    },
    {
      "cell_type": "code",
      "execution_count": 34,
      "metadata": {},
      "outputs": [
        {
          "data": {
            "application/vnd.plotly.v1+json": {
              "config": {
                "plotlyServerURL": "https://plot.ly"
              },
              "data": [
                {
                  "marker": {
                    "color": "#D55E00"
                  },
                  "orientation": "h",
                  "type": "bar",
                  "x": [
                    0.4714040756225586,
                    0.48367422819137573,
                    0.4917446970939636,
                    0.5100210309028625,
                    0.7478715777397156
                  ],
                  "xaxis": "x",
                  "y": [
                    "instrument  ",
                    "musical  ",
                    "musicien  ",
                    "music  ",
                    "musique  "
                  ],
                  "yaxis": "y"
                },
                {
                  "marker": {
                    "color": "#0072B2"
                  },
                  "orientation": "h",
                  "type": "bar",
                  "x": [
                    0.4497782289981842,
                    0.519096851348877,
                    0.673103928565979,
                    0.6935041546821594,
                    0.6968152523040771
                  ],
                  "xaxis": "x2",
                  "y": [
                    "investissement  ",
                    "entreprenariat  ",
                    "entrepreneurial  ",
                    "entrepreneuriat  ",
                    "entrepreneur  "
                  ],
                  "yaxis": "y2"
                },
                {
                  "marker": {
                    "color": "#CC79A7"
                  },
                  "orientation": "h",
                  "type": "bar",
                  "x": [
                    0.39203202724456787,
                    0.42006808519363403,
                    0.43222755193710327,
                    0.43885692954063416,
                    0.6338528394699097
                  ],
                  "xaxis": "x3",
                  "y": [
                    "projet  ",
                    "sujet  ",
                    "mission  ",
                    "entreprise  ",
                    "coup  "
                  ],
                  "yaxis": "y3"
                },
                {
                  "marker": {
                    "color": "#E69F00"
                  },
                  "orientation": "h",
                  "type": "bar",
                  "x": [
                    0.4482220709323883,
                    0.492110013961792,
                    0.49265411496162415,
                    0.5321080684661865,
                    0.5842799544334412
                  ],
                  "xaxis": "x4",
                  "y": [
                    "smartphone  ",
                    "téléchargement  ",
                    "télécom  ",
                    "télécommunication  ",
                    "téléphone  "
                  ],
                  "yaxis": "y4"
                },
                {
                  "marker": {
                    "color": "#56B4E9"
                  },
                  "orientation": "h",
                  "type": "bar",
                  "x": [
                    0.3595566153526306,
                    0.39109665155410767,
                    0.4590321183204651,
                    0.48281577229499817,
                    0.6192476749420166
                  ],
                  "xaxis": "x5",
                  "y": [
                    "envie  ",
                    "papa  ",
                    "enfance  ",
                    "enfant  ",
                    "parent  "
                  ],
                  "yaxis": "y5"
                },
                {
                  "marker": {
                    "color": "#009E73"
                  },
                  "orientation": "h",
                  "type": "bar",
                  "x": [
                    0.427310973405838,
                    0.516564667224884,
                    0.5246889591217041,
                    0.543681800365448,
                    0.5893913507461548
                  ],
                  "xaxis": "x6",
                  "y": [
                    "problème  ",
                    "fois  ",
                    "homme  ",
                    "féminisme  ",
                    "femme  "
                  ],
                  "yaxis": "y6"
                },
                {
                  "marker": {
                    "color": "#F0E442"
                  },
                  "orientation": "h",
                  "type": "bar",
                  "x": [
                    0.36416420340538025,
                    0.4047561585903168,
                    0.41331803798675537,
                    0.41488876938819885,
                    0.6514036655426025
                  ],
                  "xaxis": "x7",
                  "y": [
                    "changement  ",
                    "période  ",
                    "mois  ",
                    "faiblesse  ",
                    "moment  "
                  ],
                  "yaxis": "y7"
                },
                {
                  "marker": {
                    "color": "#D55E00"
                  },
                  "orientation": "h",
                  "type": "bar",
                  "x": [
                    0.3696221113204956,
                    0.3788244426250458,
                    0.3799935281276703,
                    0.3828851282596588,
                    0.7253392934799194
                  ],
                  "xaxis": "x8",
                  "y": [
                    "antoine  ",
                    "langue  ",
                    "françois  ",
                    "école  ",
                    "histoire  "
                  ],
                  "yaxis": "y8"
                }
              ],
              "layout": {
                "annotations": [
                  {
                    "font": {
                      "size": 16
                    },
                    "showarrow": false,
                    "text": "Topic 0",
                    "x": 0.0875,
                    "xanchor": "center",
                    "xref": "paper",
                    "y": 1,
                    "yanchor": "bottom",
                    "yref": "paper"
                  },
                  {
                    "font": {
                      "size": 16
                    },
                    "showarrow": false,
                    "text": "Topic 1",
                    "x": 0.36250000000000004,
                    "xanchor": "center",
                    "xref": "paper",
                    "y": 1,
                    "yanchor": "bottom",
                    "yref": "paper"
                  },
                  {
                    "font": {
                      "size": 16
                    },
                    "showarrow": false,
                    "text": "Topic 2",
                    "x": 0.6375000000000001,
                    "xanchor": "center",
                    "xref": "paper",
                    "y": 1,
                    "yanchor": "bottom",
                    "yref": "paper"
                  },
                  {
                    "font": {
                      "size": 16
                    },
                    "showarrow": false,
                    "text": "Topic 3",
                    "x": 0.9125,
                    "xanchor": "center",
                    "xref": "paper",
                    "y": 1,
                    "yanchor": "bottom",
                    "yref": "paper"
                  },
                  {
                    "font": {
                      "size": 16
                    },
                    "showarrow": false,
                    "text": "Topic 4",
                    "x": 0.0875,
                    "xanchor": "center",
                    "xref": "paper",
                    "y": 0.4,
                    "yanchor": "bottom",
                    "yref": "paper"
                  },
                  {
                    "font": {
                      "size": 16
                    },
                    "showarrow": false,
                    "text": "Topic 5",
                    "x": 0.36250000000000004,
                    "xanchor": "center",
                    "xref": "paper",
                    "y": 0.4,
                    "yanchor": "bottom",
                    "yref": "paper"
                  },
                  {
                    "font": {
                      "size": 16
                    },
                    "showarrow": false,
                    "text": "Topic 6",
                    "x": 0.6375000000000001,
                    "xanchor": "center",
                    "xref": "paper",
                    "y": 0.4,
                    "yanchor": "bottom",
                    "yref": "paper"
                  },
                  {
                    "font": {
                      "size": 16
                    },
                    "showarrow": false,
                    "text": "Topic 7",
                    "x": 0.9125,
                    "xanchor": "center",
                    "xref": "paper",
                    "y": 0.4,
                    "yanchor": "bottom",
                    "yref": "paper"
                  }
                ],
                "height": 500,
                "hoverlabel": {
                  "bgcolor": "white",
                  "font": {
                    "family": "Rockwell",
                    "size": 16
                  }
                },
                "showlegend": false,
                "template": {
                  "data": {
                    "bar": [
                      {
                        "error_x": {
                          "color": "#2a3f5f"
                        },
                        "error_y": {
                          "color": "#2a3f5f"
                        },
                        "marker": {
                          "line": {
                            "color": "white",
                            "width": 0.5
                          },
                          "pattern": {
                            "fillmode": "overlay",
                            "size": 10,
                            "solidity": 0.2
                          }
                        },
                        "type": "bar"
                      }
                    ],
                    "barpolar": [
                      {
                        "marker": {
                          "line": {
                            "color": "white",
                            "width": 0.5
                          },
                          "pattern": {
                            "fillmode": "overlay",
                            "size": 10,
                            "solidity": 0.2
                          }
                        },
                        "type": "barpolar"
                      }
                    ],
                    "carpet": [
                      {
                        "aaxis": {
                          "endlinecolor": "#2a3f5f",
                          "gridcolor": "#C8D4E3",
                          "linecolor": "#C8D4E3",
                          "minorgridcolor": "#C8D4E3",
                          "startlinecolor": "#2a3f5f"
                        },
                        "baxis": {
                          "endlinecolor": "#2a3f5f",
                          "gridcolor": "#C8D4E3",
                          "linecolor": "#C8D4E3",
                          "minorgridcolor": "#C8D4E3",
                          "startlinecolor": "#2a3f5f"
                        },
                        "type": "carpet"
                      }
                    ],
                    "choropleth": [
                      {
                        "colorbar": {
                          "outlinewidth": 0,
                          "ticks": ""
                        },
                        "type": "choropleth"
                      }
                    ],
                    "contour": [
                      {
                        "colorbar": {
                          "outlinewidth": 0,
                          "ticks": ""
                        },
                        "colorscale": [
                          [
                            0,
                            "#0d0887"
                          ],
                          [
                            0.1111111111111111,
                            "#46039f"
                          ],
                          [
                            0.2222222222222222,
                            "#7201a8"
                          ],
                          [
                            0.3333333333333333,
                            "#9c179e"
                          ],
                          [
                            0.4444444444444444,
                            "#bd3786"
                          ],
                          [
                            0.5555555555555556,
                            "#d8576b"
                          ],
                          [
                            0.6666666666666666,
                            "#ed7953"
                          ],
                          [
                            0.7777777777777778,
                            "#fb9f3a"
                          ],
                          [
                            0.8888888888888888,
                            "#fdca26"
                          ],
                          [
                            1,
                            "#f0f921"
                          ]
                        ],
                        "type": "contour"
                      }
                    ],
                    "contourcarpet": [
                      {
                        "colorbar": {
                          "outlinewidth": 0,
                          "ticks": ""
                        },
                        "type": "contourcarpet"
                      }
                    ],
                    "heatmap": [
                      {
                        "colorbar": {
                          "outlinewidth": 0,
                          "ticks": ""
                        },
                        "colorscale": [
                          [
                            0,
                            "#0d0887"
                          ],
                          [
                            0.1111111111111111,
                            "#46039f"
                          ],
                          [
                            0.2222222222222222,
                            "#7201a8"
                          ],
                          [
                            0.3333333333333333,
                            "#9c179e"
                          ],
                          [
                            0.4444444444444444,
                            "#bd3786"
                          ],
                          [
                            0.5555555555555556,
                            "#d8576b"
                          ],
                          [
                            0.6666666666666666,
                            "#ed7953"
                          ],
                          [
                            0.7777777777777778,
                            "#fb9f3a"
                          ],
                          [
                            0.8888888888888888,
                            "#fdca26"
                          ],
                          [
                            1,
                            "#f0f921"
                          ]
                        ],
                        "type": "heatmap"
                      }
                    ],
                    "heatmapgl": [
                      {
                        "colorbar": {
                          "outlinewidth": 0,
                          "ticks": ""
                        },
                        "colorscale": [
                          [
                            0,
                            "#0d0887"
                          ],
                          [
                            0.1111111111111111,
                            "#46039f"
                          ],
                          [
                            0.2222222222222222,
                            "#7201a8"
                          ],
                          [
                            0.3333333333333333,
                            "#9c179e"
                          ],
                          [
                            0.4444444444444444,
                            "#bd3786"
                          ],
                          [
                            0.5555555555555556,
                            "#d8576b"
                          ],
                          [
                            0.6666666666666666,
                            "#ed7953"
                          ],
                          [
                            0.7777777777777778,
                            "#fb9f3a"
                          ],
                          [
                            0.8888888888888888,
                            "#fdca26"
                          ],
                          [
                            1,
                            "#f0f921"
                          ]
                        ],
                        "type": "heatmapgl"
                      }
                    ],
                    "histogram": [
                      {
                        "marker": {
                          "pattern": {
                            "fillmode": "overlay",
                            "size": 10,
                            "solidity": 0.2
                          }
                        },
                        "type": "histogram"
                      }
                    ],
                    "histogram2d": [
                      {
                        "colorbar": {
                          "outlinewidth": 0,
                          "ticks": ""
                        },
                        "colorscale": [
                          [
                            0,
                            "#0d0887"
                          ],
                          [
                            0.1111111111111111,
                            "#46039f"
                          ],
                          [
                            0.2222222222222222,
                            "#7201a8"
                          ],
                          [
                            0.3333333333333333,
                            "#9c179e"
                          ],
                          [
                            0.4444444444444444,
                            "#bd3786"
                          ],
                          [
                            0.5555555555555556,
                            "#d8576b"
                          ],
                          [
                            0.6666666666666666,
                            "#ed7953"
                          ],
                          [
                            0.7777777777777778,
                            "#fb9f3a"
                          ],
                          [
                            0.8888888888888888,
                            "#fdca26"
                          ],
                          [
                            1,
                            "#f0f921"
                          ]
                        ],
                        "type": "histogram2d"
                      }
                    ],
                    "histogram2dcontour": [
                      {
                        "colorbar": {
                          "outlinewidth": 0,
                          "ticks": ""
                        },
                        "colorscale": [
                          [
                            0,
                            "#0d0887"
                          ],
                          [
                            0.1111111111111111,
                            "#46039f"
                          ],
                          [
                            0.2222222222222222,
                            "#7201a8"
                          ],
                          [
                            0.3333333333333333,
                            "#9c179e"
                          ],
                          [
                            0.4444444444444444,
                            "#bd3786"
                          ],
                          [
                            0.5555555555555556,
                            "#d8576b"
                          ],
                          [
                            0.6666666666666666,
                            "#ed7953"
                          ],
                          [
                            0.7777777777777778,
                            "#fb9f3a"
                          ],
                          [
                            0.8888888888888888,
                            "#fdca26"
                          ],
                          [
                            1,
                            "#f0f921"
                          ]
                        ],
                        "type": "histogram2dcontour"
                      }
                    ],
                    "mesh3d": [
                      {
                        "colorbar": {
                          "outlinewidth": 0,
                          "ticks": ""
                        },
                        "type": "mesh3d"
                      }
                    ],
                    "parcoords": [
                      {
                        "line": {
                          "colorbar": {
                            "outlinewidth": 0,
                            "ticks": ""
                          }
                        },
                        "type": "parcoords"
                      }
                    ],
                    "pie": [
                      {
                        "automargin": true,
                        "type": "pie"
                      }
                    ],
                    "scatter": [
                      {
                        "fillpattern": {
                          "fillmode": "overlay",
                          "size": 10,
                          "solidity": 0.2
                        },
                        "type": "scatter"
                      }
                    ],
                    "scatter3d": [
                      {
                        "line": {
                          "colorbar": {
                            "outlinewidth": 0,
                            "ticks": ""
                          }
                        },
                        "marker": {
                          "colorbar": {
                            "outlinewidth": 0,
                            "ticks": ""
                          }
                        },
                        "type": "scatter3d"
                      }
                    ],
                    "scattercarpet": [
                      {
                        "marker": {
                          "colorbar": {
                            "outlinewidth": 0,
                            "ticks": ""
                          }
                        },
                        "type": "scattercarpet"
                      }
                    ],
                    "scattergeo": [
                      {
                        "marker": {
                          "colorbar": {
                            "outlinewidth": 0,
                            "ticks": ""
                          }
                        },
                        "type": "scattergeo"
                      }
                    ],
                    "scattergl": [
                      {
                        "marker": {
                          "colorbar": {
                            "outlinewidth": 0,
                            "ticks": ""
                          }
                        },
                        "type": "scattergl"
                      }
                    ],
                    "scattermapbox": [
                      {
                        "marker": {
                          "colorbar": {
                            "outlinewidth": 0,
                            "ticks": ""
                          }
                        },
                        "type": "scattermapbox"
                      }
                    ],
                    "scatterpolar": [
                      {
                        "marker": {
                          "colorbar": {
                            "outlinewidth": 0,
                            "ticks": ""
                          }
                        },
                        "type": "scatterpolar"
                      }
                    ],
                    "scatterpolargl": [
                      {
                        "marker": {
                          "colorbar": {
                            "outlinewidth": 0,
                            "ticks": ""
                          }
                        },
                        "type": "scatterpolargl"
                      }
                    ],
                    "scatterternary": [
                      {
                        "marker": {
                          "colorbar": {
                            "outlinewidth": 0,
                            "ticks": ""
                          }
                        },
                        "type": "scatterternary"
                      }
                    ],
                    "surface": [
                      {
                        "colorbar": {
                          "outlinewidth": 0,
                          "ticks": ""
                        },
                        "colorscale": [
                          [
                            0,
                            "#0d0887"
                          ],
                          [
                            0.1111111111111111,
                            "#46039f"
                          ],
                          [
                            0.2222222222222222,
                            "#7201a8"
                          ],
                          [
                            0.3333333333333333,
                            "#9c179e"
                          ],
                          [
                            0.4444444444444444,
                            "#bd3786"
                          ],
                          [
                            0.5555555555555556,
                            "#d8576b"
                          ],
                          [
                            0.6666666666666666,
                            "#ed7953"
                          ],
                          [
                            0.7777777777777778,
                            "#fb9f3a"
                          ],
                          [
                            0.8888888888888888,
                            "#fdca26"
                          ],
                          [
                            1,
                            "#f0f921"
                          ]
                        ],
                        "type": "surface"
                      }
                    ],
                    "table": [
                      {
                        "cells": {
                          "fill": {
                            "color": "#EBF0F8"
                          },
                          "line": {
                            "color": "white"
                          }
                        },
                        "header": {
                          "fill": {
                            "color": "#C8D4E3"
                          },
                          "line": {
                            "color": "white"
                          }
                        },
                        "type": "table"
                      }
                    ]
                  },
                  "layout": {
                    "annotationdefaults": {
                      "arrowcolor": "#2a3f5f",
                      "arrowhead": 0,
                      "arrowwidth": 1
                    },
                    "autotypenumbers": "strict",
                    "coloraxis": {
                      "colorbar": {
                        "outlinewidth": 0,
                        "ticks": ""
                      }
                    },
                    "colorscale": {
                      "diverging": [
                        [
                          0,
                          "#8e0152"
                        ],
                        [
                          0.1,
                          "#c51b7d"
                        ],
                        [
                          0.2,
                          "#de77ae"
                        ],
                        [
                          0.3,
                          "#f1b6da"
                        ],
                        [
                          0.4,
                          "#fde0ef"
                        ],
                        [
                          0.5,
                          "#f7f7f7"
                        ],
                        [
                          0.6,
                          "#e6f5d0"
                        ],
                        [
                          0.7,
                          "#b8e186"
                        ],
                        [
                          0.8,
                          "#7fbc41"
                        ],
                        [
                          0.9,
                          "#4d9221"
                        ],
                        [
                          1,
                          "#276419"
                        ]
                      ],
                      "sequential": [
                        [
                          0,
                          "#0d0887"
                        ],
                        [
                          0.1111111111111111,
                          "#46039f"
                        ],
                        [
                          0.2222222222222222,
                          "#7201a8"
                        ],
                        [
                          0.3333333333333333,
                          "#9c179e"
                        ],
                        [
                          0.4444444444444444,
                          "#bd3786"
                        ],
                        [
                          0.5555555555555556,
                          "#d8576b"
                        ],
                        [
                          0.6666666666666666,
                          "#ed7953"
                        ],
                        [
                          0.7777777777777778,
                          "#fb9f3a"
                        ],
                        [
                          0.8888888888888888,
                          "#fdca26"
                        ],
                        [
                          1,
                          "#f0f921"
                        ]
                      ],
                      "sequentialminus": [
                        [
                          0,
                          "#0d0887"
                        ],
                        [
                          0.1111111111111111,
                          "#46039f"
                        ],
                        [
                          0.2222222222222222,
                          "#7201a8"
                        ],
                        [
                          0.3333333333333333,
                          "#9c179e"
                        ],
                        [
                          0.4444444444444444,
                          "#bd3786"
                        ],
                        [
                          0.5555555555555556,
                          "#d8576b"
                        ],
                        [
                          0.6666666666666666,
                          "#ed7953"
                        ],
                        [
                          0.7777777777777778,
                          "#fb9f3a"
                        ],
                        [
                          0.8888888888888888,
                          "#fdca26"
                        ],
                        [
                          1,
                          "#f0f921"
                        ]
                      ]
                    },
                    "colorway": [
                      "#636efa",
                      "#EF553B",
                      "#00cc96",
                      "#ab63fa",
                      "#FFA15A",
                      "#19d3f3",
                      "#FF6692",
                      "#B6E880",
                      "#FF97FF",
                      "#FECB52"
                    ],
                    "font": {
                      "color": "#2a3f5f"
                    },
                    "geo": {
                      "bgcolor": "white",
                      "lakecolor": "white",
                      "landcolor": "white",
                      "showlakes": true,
                      "showland": true,
                      "subunitcolor": "#C8D4E3"
                    },
                    "hoverlabel": {
                      "align": "left"
                    },
                    "hovermode": "closest",
                    "mapbox": {
                      "style": "light"
                    },
                    "paper_bgcolor": "white",
                    "plot_bgcolor": "white",
                    "polar": {
                      "angularaxis": {
                        "gridcolor": "#EBF0F8",
                        "linecolor": "#EBF0F8",
                        "ticks": ""
                      },
                      "bgcolor": "white",
                      "radialaxis": {
                        "gridcolor": "#EBF0F8",
                        "linecolor": "#EBF0F8",
                        "ticks": ""
                      }
                    },
                    "scene": {
                      "xaxis": {
                        "backgroundcolor": "white",
                        "gridcolor": "#DFE8F3",
                        "gridwidth": 2,
                        "linecolor": "#EBF0F8",
                        "showbackground": true,
                        "ticks": "",
                        "zerolinecolor": "#EBF0F8"
                      },
                      "yaxis": {
                        "backgroundcolor": "white",
                        "gridcolor": "#DFE8F3",
                        "gridwidth": 2,
                        "linecolor": "#EBF0F8",
                        "showbackground": true,
                        "ticks": "",
                        "zerolinecolor": "#EBF0F8"
                      },
                      "zaxis": {
                        "backgroundcolor": "white",
                        "gridcolor": "#DFE8F3",
                        "gridwidth": 2,
                        "linecolor": "#EBF0F8",
                        "showbackground": true,
                        "ticks": "",
                        "zerolinecolor": "#EBF0F8"
                      }
                    },
                    "shapedefaults": {
                      "line": {
                        "color": "#2a3f5f"
                      }
                    },
                    "ternary": {
                      "aaxis": {
                        "gridcolor": "#DFE8F3",
                        "linecolor": "#A2B1C6",
                        "ticks": ""
                      },
                      "baxis": {
                        "gridcolor": "#DFE8F3",
                        "linecolor": "#A2B1C6",
                        "ticks": ""
                      },
                      "bgcolor": "white",
                      "caxis": {
                        "gridcolor": "#DFE8F3",
                        "linecolor": "#A2B1C6",
                        "ticks": ""
                      }
                    },
                    "title": {
                      "x": 0.05
                    },
                    "xaxis": {
                      "automargin": true,
                      "gridcolor": "#EBF0F8",
                      "linecolor": "#EBF0F8",
                      "ticks": "",
                      "title": {
                        "standoff": 15
                      },
                      "zerolinecolor": "#EBF0F8",
                      "zerolinewidth": 2
                    },
                    "yaxis": {
                      "automargin": true,
                      "gridcolor": "#EBF0F8",
                      "linecolor": "#EBF0F8",
                      "ticks": "",
                      "title": {
                        "standoff": 15
                      },
                      "zerolinecolor": "#EBF0F8",
                      "zerolinewidth": 2
                    }
                  }
                },
                "title": {
                  "font": {
                    "color": "Black",
                    "size": 22
                  },
                  "text": "Topic Word Scores",
                  "x": 0.5,
                  "xanchor": "center",
                  "yanchor": "top"
                },
                "width": 1000,
                "xaxis": {
                  "anchor": "y",
                  "domain": [
                    0,
                    0.175
                  ],
                  "showgrid": true
                },
                "xaxis2": {
                  "anchor": "y2",
                  "domain": [
                    0.275,
                    0.45
                  ],
                  "showgrid": true
                },
                "xaxis3": {
                  "anchor": "y3",
                  "domain": [
                    0.55,
                    0.7250000000000001
                  ],
                  "showgrid": true
                },
                "xaxis4": {
                  "anchor": "y4",
                  "domain": [
                    0.825,
                    1
                  ],
                  "showgrid": true
                },
                "xaxis5": {
                  "anchor": "y5",
                  "domain": [
                    0,
                    0.175
                  ],
                  "showgrid": true
                },
                "xaxis6": {
                  "anchor": "y6",
                  "domain": [
                    0.275,
                    0.45
                  ],
                  "showgrid": true
                },
                "xaxis7": {
                  "anchor": "y7",
                  "domain": [
                    0.55,
                    0.7250000000000001
                  ],
                  "showgrid": true
                },
                "xaxis8": {
                  "anchor": "y8",
                  "domain": [
                    0.825,
                    1
                  ],
                  "showgrid": true
                },
                "yaxis": {
                  "anchor": "x",
                  "domain": [
                    0.6000000000000001,
                    1
                  ],
                  "showgrid": true
                },
                "yaxis2": {
                  "anchor": "x2",
                  "domain": [
                    0.6000000000000001,
                    1
                  ],
                  "showgrid": true
                },
                "yaxis3": {
                  "anchor": "x3",
                  "domain": [
                    0.6000000000000001,
                    1
                  ],
                  "showgrid": true
                },
                "yaxis4": {
                  "anchor": "x4",
                  "domain": [
                    0.6000000000000001,
                    1
                  ],
                  "showgrid": true
                },
                "yaxis5": {
                  "anchor": "x5",
                  "domain": [
                    0,
                    0.4
                  ],
                  "showgrid": true
                },
                "yaxis6": {
                  "anchor": "x6",
                  "domain": [
                    0,
                    0.4
                  ],
                  "showgrid": true
                },
                "yaxis7": {
                  "anchor": "x7",
                  "domain": [
                    0,
                    0.4
                  ],
                  "showgrid": true
                },
                "yaxis8": {
                  "anchor": "x8",
                  "domain": [
                    0,
                    0.4
                  ],
                  "showgrid": true
                }
              }
            }
          },
          "metadata": {},
          "output_type": "display_data"
        }
      ],
      "source": [
        "topic_model.visualize_barchart()"
      ]
    },
    {
      "cell_type": "markdown",
      "metadata": {},
      "source": [
        "## Visualiser la hiérarchie des thèmes\n",
        "\n",
        "- Certaines thématiques sont en fait des sous-thèmes d'autres thématiques.\n",
        "- Comprendre la hiérarchie permet de déterminer quelles thématiques devraient être fusionnées et lesquelles ne le devraient pas."
      ]
    },
    {
      "cell_type": "code",
      "execution_count": 32,
      "metadata": {},
      "outputs": [
        {
          "name": "stderr",
          "output_type": "stream",
          "text": [
            "100%|██████████| 136/136 [00:09<00:00, 14.34it/s]\n"
          ]
        }
      ],
      "source": [
        "from scipy.cluster import hierarchy as sch\n",
        "linkage_function = lambda x: sch.linkage(x, 'centroid', optimal_ordering=True)\n",
        "hierarchical_topics = topic_model.hierarchical_topics(docs, linkage_function=linkage_function)"
      ]
    },
    {
      "cell_type": "code",
      "execution_count": 33,
      "metadata": {},
      "outputs": [
        {
          "data": {
            "application/vnd.plotly.v1+json": {
              "config": {
                "plotlyServerURL": "https://plot.ly"
              },
              "data": [
                {
                  "hoverinfo": "text",
                  "marker": {
                    "color": "rgb(61,153,112)"
                  },
                  "mode": "lines",
                  "text": [
                    "plateforme_workcity_employé_city_écoute",
                    "",
                    "",
                    "workcity_plateforme_city_vou_envie"
                  ],
                  "type": "scatter",
                  "x": [
                    0,
                    0.053374698851225255,
                    0.053374698851225255,
                    0
                  ],
                  "xaxis": "x",
                  "y": [
                    -5,
                    -5,
                    -15,
                    -15
                  ],
                  "yaxis": "y"
                },
                {
                  "hoverinfo": "text",
                  "marker": {
                    "color": "rgb(61,153,112)"
                  },
                  "mode": "lines",
                  "text": [
                    "workcity_temps_plateforme_city_écoute",
                    "",
                    "",
                    "workcity_employé_city_couverture_cv"
                  ],
                  "type": "scatter",
                  "x": [
                    0,
                    0.1295416632741191,
                    0.1295416632741191,
                    0
                  ],
                  "xaxis": "x",
                  "y": [
                    -25,
                    -25,
                    -35,
                    -35
                  ],
                  "yaxis": "y"
                },
                {
                  "hoverinfo": "text",
                  "marker": {
                    "color": "rgb(61,153,112)"
                  },
                  "mode": "lines",
                  "text": [
                    "workcity_employé_plateforme_city_vou",
                    "",
                    "",
                    "workcity_employé_city_cv_bureau"
                  ],
                  "type": "scatter",
                  "x": [
                    0.053374698851225255,
                    0.26896141448085553,
                    0.26896141448085553,
                    0.1295416632741191
                  ],
                  "xaxis": "x",
                  "y": [
                    -10,
                    -10,
                    -30,
                    -30
                  ],
                  "yaxis": "y"
                },
                {
                  "hoverinfo": "text",
                  "marker": {
                    "color": "rgb(255,65,54)"
                  },
                  "mode": "lines",
                  "text": [
                    "hygiène_médecine_consentement_laboratoire_workcity",
                    "",
                    "",
                    "professionnel_hygiène_essaye_consentement_déséquilibre"
                  ],
                  "type": "scatter",
                  "x": [
                    0,
                    0.18005171472153914,
                    0.18005171472153914,
                    0
                  ],
                  "xaxis": "x",
                  "y": [
                    -45,
                    -45,
                    -55,
                    -55
                  ],
                  "yaxis": "y"
                },
                {
                  "hoverinfo": "text",
                  "marker": {
                    "color": "rgb(255,65,54)"
                  },
                  "mode": "lines",
                  "text": [
                    "workcity_café_industrie_hygiène_sujet",
                    "",
                    "",
                    "sujet_café_hygiène_kitchen_media"
                  ],
                  "type": "scatter",
                  "x": [
                    0,
                    0.07734452229400246,
                    0.07734452229400246,
                    0
                  ],
                  "xaxis": "x",
                  "y": [
                    -65,
                    -65,
                    -75,
                    -75
                  ],
                  "yaxis": "y"
                },
                {
                  "hoverinfo": "text",
                  "marker": {
                    "color": "rgb(255,65,54)"
                  },
                  "mode": "lines",
                  "text": [
                    "hygiène_afterwork_essaye_laboratoire_consentement",
                    "",
                    "",
                    "sujet_hygiène_industrie_café_city"
                  ],
                  "type": "scatter",
                  "x": [
                    0.18005171472153914,
                    0.46325999577983434,
                    0.46325999577983434,
                    0.07734452229400246
                  ],
                  "xaxis": "x",
                  "y": [
                    -50,
                    -50,
                    -70,
                    -70
                  ],
                  "yaxis": "y"
                },
                {
                  "hoverinfo": "text",
                  "marker": {
                    "color": "rgb(255,65,54)"
                  },
                  "mode": "lines",
                  "text": [
                    "city_afterwork_york_café_sujet",
                    "",
                    "",
                    "city_manhattan_suite_york_semaine"
                  ],
                  "type": "scatter",
                  "x": [
                    0,
                    0.12449980092693469,
                    0.12449980092693469,
                    0
                  ],
                  "xaxis": "x",
                  "y": [
                    -85,
                    -85,
                    -95,
                    -95
                  ],
                  "yaxis": "y"
                },
                {
                  "hoverinfo": "text",
                  "marker": {
                    "color": "rgb(255,65,54)"
                  },
                  "mode": "lines",
                  "text": [
                    "city_manhattan_york_suite_sujet",
                    "",
                    "",
                    "semaine_workcity_classement_fr_mail"
                  ],
                  "type": "scatter",
                  "x": [
                    0.12449980092693469,
                    0.3696346671512199,
                    0.3696346671512199,
                    0
                  ],
                  "xaxis": "x",
                  "y": [
                    -90,
                    -90,
                    -105,
                    -105
                  ],
                  "yaxis": "y"
                },
                {
                  "hoverinfo": "text",
                  "marker": {
                    "color": "rgb(255,65,54)"
                  },
                  "mode": "lines",
                  "text": [
                    "city_manhattan_york_suite_sujet",
                    "",
                    "",
                    "semaine_workcity_classement_fr_mail"
                  ],
                  "type": "scatter",
                  "x": [
                    0.46325999577983434,
                    0.8546911388584921,
                    0.8546911388584921,
                    0.3696346671512199
                  ],
                  "xaxis": "x",
                  "y": [
                    -60,
                    -60,
                    -97.5,
                    -97.5
                  ],
                  "yaxis": "y"
                },
                {
                  "hoverinfo": "text",
                  "marker": {
                    "color": "rgb(0,116,217)"
                  },
                  "mode": "lines",
                  "text": [
                    "workcity_employé_city_freelance_plateforme",
                    "",
                    "",
                    "semaine_workcity_classement_fr_mail"
                  ],
                  "type": "scatter",
                  "x": [
                    0.26896141448085553,
                    1.1902255366682999,
                    1.1902255366682999,
                    0.8546911388584921
                  ],
                  "xaxis": "x",
                  "y": [
                    -20,
                    -20,
                    -78.75,
                    -78.75
                  ],
                  "yaxis": "y"
                },
                {
                  "hoverinfo": "text",
                  "marker": {
                    "color": "rgb(35,205,205)"
                  },
                  "mode": "lines",
                  "text": [
                    "vision_perception_développement_problème_entreprise",
                    "",
                    "",
                    "management_manager_leadership_organisation_leader"
                  ],
                  "type": "scatter",
                  "x": [
                    0,
                    0.7561994908974994,
                    0.7561994908974994,
                    0
                  ],
                  "xaxis": "x",
                  "y": [
                    -125,
                    -125,
                    -135,
                    -135
                  ],
                  "yaxis": "y"
                },
                {
                  "hoverinfo": "text",
                  "marker": {
                    "color": "rgb(35,205,205)"
                  },
                  "mode": "lines",
                  "text": [
                    "vision_perception_développement_problème_entreprise",
                    "",
                    "",
                    "talent_compétence_ambition_industrie_collaborateur"
                  ],
                  "type": "scatter",
                  "x": [
                    0.7561994908974994,
                    0.8372659949101818,
                    0.8372659949101818,
                    0
                  ],
                  "xaxis": "x",
                  "y": [
                    -130,
                    -130,
                    -145,
                    -145
                  ],
                  "yaxis": "y"
                },
                {
                  "hoverinfo": "text",
                  "marker": {
                    "color": "rgb(35,205,205)"
                  },
                  "mode": "lines",
                  "text": [
                    "capacité_fonctionnalité_boîte_utilisation_problème",
                    "",
                    "",
                    "talent_compétence_ambition_industrie_collaborateur"
                  ],
                  "type": "scatter",
                  "x": [
                    0,
                    0.8580700972525978,
                    0.8580700972525978,
                    0.8372659949101818
                  ],
                  "xaxis": "x",
                  "y": [
                    -115,
                    -115,
                    -137.5,
                    -137.5
                  ],
                  "yaxis": "y"
                },
                {
                  "hoverinfo": "text",
                  "marker": {
                    "color": "rgb(35,205,205)"
                  },
                  "mode": "lines",
                  "text": [
                    "capacité_fonctionnalité_boîte_utilisation_problème",
                    "",
                    "",
                    "culture_langue_impression_biais_valeur"
                  ],
                  "type": "scatter",
                  "x": [
                    0.8580700972525978,
                    0.8889732359763375,
                    0.8889732359763375,
                    0
                  ],
                  "xaxis": "x",
                  "y": [
                    -126.25,
                    -126.25,
                    -155,
                    -155
                  ],
                  "yaxis": "y"
                },
                {
                  "hoverinfo": "text",
                  "marker": {
                    "color": "rgb(35,205,205)"
                  },
                  "mode": "lines",
                  "text": [
                    "startup_employé_entreprenariat_investissement_entrepreneur",
                    "",
                    "",
                    "écosystème_environnement_infrastructure_mouvement_planète"
                  ],
                  "type": "scatter",
                  "x": [
                    0,
                    0.8764723437329603,
                    0.8764723437329603,
                    0
                  ],
                  "xaxis": "x",
                  "y": [
                    -165,
                    -165,
                    -175,
                    -175
                  ],
                  "yaxis": "y"
                },
                {
                  "hoverinfo": "text",
                  "marker": {
                    "color": "rgb(35,205,205)"
                  },
                  "mode": "lines",
                  "text": [
                    "startup_employé_entreprenariat_investissement_entrepreneur",
                    "",
                    "",
                    "écosystème_environnement_infrastructure_mouvement_planète"
                  ],
                  "type": "scatter",
                  "x": [
                    0.8889732359763375,
                    0.9131556940894848,
                    0.9131556940894848,
                    0.8764723437329603
                  ],
                  "xaxis": "x",
                  "y": [
                    -140.625,
                    -140.625,
                    -170,
                    -170
                  ],
                  "yaxis": "y"
                },
                {
                  "hoverinfo": "text",
                  "marker": {
                    "color": "rgb(35,205,205)"
                  },
                  "mode": "lines",
                  "text": [
                    "boîte_boulot_investissement_tête_bourrin",
                    "",
                    "",
                    "investissement_capital_financement_capitalisation_investment"
                  ],
                  "type": "scatter",
                  "x": [
                    0,
                    0.6401323042976376,
                    0.6401323042976376,
                    0
                  ],
                  "xaxis": "x",
                  "y": [
                    -195,
                    -195,
                    -205,
                    -205
                  ],
                  "yaxis": "y"
                },
                {
                  "hoverinfo": "text",
                  "marker": {
                    "color": "rgb(35,205,205)"
                  },
                  "mode": "lines",
                  "text": [
                    "ensemble_société_genre_groupe_éditeur",
                    "",
                    "",
                    "investissement_capital_financement_capitalisation_investment"
                  ],
                  "type": "scatter",
                  "x": [
                    0,
                    0.7721968031279183,
                    0.7721968031279183,
                    0.6401323042976376
                  ],
                  "xaxis": "x",
                  "y": [
                    -185,
                    -185,
                    -200,
                    -200
                  ],
                  "yaxis": "y"
                },
                {
                  "hoverinfo": "text",
                  "marker": {
                    "color": "rgb(35,205,205)"
                  },
                  "mode": "lines",
                  "text": [
                    "moment_faiblesse_mois_période_changement",
                    "",
                    "",
                    "coup_entreprise_mission_sujet_projet"
                  ],
                  "type": "scatter",
                  "x": [
                    0,
                    0.44643678180768653,
                    0.44643678180768653,
                    0
                  ],
                  "xaxis": "x",
                  "y": [
                    -235,
                    -235,
                    -245,
                    -245
                  ],
                  "yaxis": "y"
                },
                {
                  "hoverinfo": "text",
                  "marker": {
                    "color": "rgb(35,205,205)"
                  },
                  "mode": "lines",
                  "text": [
                    "moment_coup_problème_changement_occurrence",
                    "",
                    "",
                    "entrepreneur_entrepreneuriat_entrepreneurial_entreprenariat_investissement"
                  ],
                  "type": "scatter",
                  "x": [
                    0.44643678180768653,
                    0.5517290115402066,
                    0.5517290115402066,
                    0
                  ],
                  "xaxis": "x",
                  "y": [
                    -240,
                    -240,
                    -255,
                    -255
                  ],
                  "yaxis": "y"
                },
                {
                  "hoverinfo": "text",
                  "marker": {
                    "color": "rgb(35,205,205)"
                  },
                  "mode": "lines",
                  "text": [
                    "temps_température_problématique_environnement_enfant",
                    "",
                    "",
                    "entrepreneuriat_entrepreneur_investissement_investisseur_business"
                  ],
                  "type": "scatter",
                  "x": [
                    0,
                    0.6432426197029397,
                    0.6432426197029397,
                    0.5517290115402066
                  ],
                  "xaxis": "x",
                  "y": [
                    -225,
                    -225,
                    -247.5,
                    -247.5
                  ],
                  "yaxis": "y"
                },
                {
                  "hoverinfo": "text",
                  "marker": {
                    "color": "rgb(35,205,205)"
                  },
                  "mode": "lines",
                  "text": [
                    "entrepreneuriat_entrepreneur_investissement_investisseur_entreprise",
                    "",
                    "",
                    "histoire_école_françois_langue_antoine"
                  ],
                  "type": "scatter",
                  "x": [
                    0.6432426197029397,
                    0.7026658657998509,
                    0.7026658657998509,
                    0
                  ],
                  "xaxis": "x",
                  "y": [
                    -236.25,
                    -236.25,
                    -265,
                    -265
                  ],
                  "yaxis": "y"
                },
                {
                  "hoverinfo": "text",
                  "marker": {
                    "color": "rgb(35,205,205)"
                  },
                  "mode": "lines",
                  "text": [
                    "troisième_semaine_trois_deuxième_intéressant",
                    "",
                    "",
                    "histoire_école_françois_langue_antoine"
                  ],
                  "type": "scatter",
                  "x": [
                    0,
                    0.7109329042519142,
                    0.7109329042519142,
                    0.7026658657998509
                  ],
                  "xaxis": "x",
                  "y": [
                    -215,
                    -215,
                    -250.625,
                    -250.625
                  ],
                  "yaxis": "y"
                },
                {
                  "hoverinfo": "text",
                  "marker": {
                    "color": "rgb(35,205,205)"
                  },
                  "mode": "lines",
                  "text": [
                    "troisième_semaine_trois_deuxième_intéressant",
                    "",
                    "",
                    "train_locomotive_problème_fois_personne"
                  ],
                  "type": "scatter",
                  "x": [
                    0.7109329042519142,
                    0.7508990760650087,
                    0.7508990760650087,
                    0
                  ],
                  "xaxis": "x",
                  "y": [
                    -232.8125,
                    -232.8125,
                    -275,
                    -275
                  ],
                  "yaxis": "y"
                },
                {
                  "hoverinfo": "text",
                  "marker": {
                    "color": "rgb(35,205,205)"
                  },
                  "mode": "lines",
                  "text": [
                    "troisième_semaine_trois_deuxième_intéressant",
                    "",
                    "",
                    "train_locomotive_problème_fois_personne"
                  ],
                  "type": "scatter",
                  "x": [
                    0.7721968031279183,
                    0.7932377983558524,
                    0.7932377983558524,
                    0.7508990760650087
                  ],
                  "xaxis": "x",
                  "y": [
                    -192.5,
                    -192.5,
                    -253.90625,
                    -253.90625
                  ],
                  "yaxis": "y"
                },
                {
                  "hoverinfo": "text",
                  "marker": {
                    "color": "rgb(35,205,205)"
                  },
                  "mode": "lines",
                  "text": [
                    "troisième_semaine_trois_deuxième_intéressant",
                    "",
                    "",
                    "train_locomotive_problème_fois_personne"
                  ],
                  "type": "scatter",
                  "x": [
                    0.9131556940894848,
                    0.9904035656648099,
                    0.9904035656648099,
                    0.7932377983558524
                  ],
                  "xaxis": "x",
                  "y": [
                    -155.3125,
                    -155.3125,
                    -223.203125,
                    -223.203125
                  ],
                  "yaxis": "y"
                },
                {
                  "hoverinfo": "text",
                  "marker": {
                    "color": "rgb(133,20,75)"
                  },
                  "mode": "lines",
                  "text": [
                    "téléphone_télécommunication_télécom_téléchargement_smartphone",
                    "",
                    "",
                    "client_customer_consultant_service_marketing"
                  ],
                  "type": "scatter",
                  "x": [
                    0,
                    0.6628903948801397,
                    0.6628903948801397,
                    0
                  ],
                  "xaxis": "x",
                  "y": [
                    -295,
                    -295,
                    -305,
                    -305
                  ],
                  "yaxis": "y"
                },
                {
                  "hoverinfo": "text",
                  "marker": {
                    "color": "rgb(133,20,75)"
                  },
                  "mode": "lines",
                  "text": [
                    "téléphone_télécommunication_télécom_téléchargement_smartphone",
                    "",
                    "",
                    "plateforme_plate_demande_carrière_problème"
                  ],
                  "type": "scatter",
                  "x": [
                    0.6628903948801397,
                    0.751301307136911,
                    0.751301307136911,
                    0
                  ],
                  "xaxis": "x",
                  "y": [
                    -300,
                    -300,
                    -315,
                    -315
                  ],
                  "yaxis": "y"
                },
                {
                  "hoverinfo": "text",
                  "marker": {
                    "color": "rgb(133,20,75)"
                  },
                  "mode": "lines",
                  "text": [
                    "marketing_market_commerce_forme_pratique",
                    "",
                    "",
                    "plateforme_plate_demande_carrière_problème"
                  ],
                  "type": "scatter",
                  "x": [
                    0,
                    0.8186512653626992,
                    0.8186512653626992,
                    0.751301307136911
                  ],
                  "xaxis": "x",
                  "y": [
                    -285,
                    -285,
                    -307.5,
                    -307.5
                  ],
                  "yaxis": "y"
                },
                {
                  "hoverinfo": "text",
                  "marker": {
                    "color": "rgb(133,20,75)"
                  },
                  "mode": "lines",
                  "text": [
                    "euro_franc_semaine_baguette_fois",
                    "",
                    "",
                    "prix_véhicule_ferrari_peugeot_demande"
                  ],
                  "type": "scatter",
                  "x": [
                    0,
                    0.6909936068067637,
                    0.6909936068067637,
                    0
                  ],
                  "xaxis": "x",
                  "y": [
                    -325,
                    -325,
                    -335,
                    -335
                  ],
                  "yaxis": "y"
                },
                {
                  "hoverinfo": "text",
                  "marker": {
                    "color": "rgb(133,20,75)"
                  },
                  "mode": "lines",
                  "text": [
                    "euro_franc_semaine_baguette_fois",
                    "",
                    "",
                    "design_fabrication_designer_industriel_manufacture"
                  ],
                  "type": "scatter",
                  "x": [
                    0.6909936068067637,
                    0.8034192644552993,
                    0.8034192644552993,
                    0
                  ],
                  "xaxis": "x",
                  "y": [
                    -330,
                    -330,
                    -345,
                    -345
                  ],
                  "yaxis": "y"
                },
                {
                  "hoverinfo": "text",
                  "marker": {
                    "color": "rgb(133,20,75)"
                  },
                  "mode": "lines",
                  "text": [
                    "euro_franc_semaine_baguette_fois",
                    "",
                    "",
                    "design_fabrication_designer_industriel_manufacture"
                  ],
                  "type": "scatter",
                  "x": [
                    0.8186512653626992,
                    0.8527732144399481,
                    0.8527732144399481,
                    0.8034192644552993
                  ],
                  "xaxis": "x",
                  "y": [
                    -296.25,
                    -296.25,
                    -337.5,
                    -337.5
                  ],
                  "yaxis": "y"
                },
                {
                  "hoverinfo": "text",
                  "marker": {
                    "color": "rgb(133,20,75)"
                  },
                  "mode": "lines",
                  "text": [
                    "boutique_shop_retailer_shops_retail",
                    "",
                    "",
                    "marketplace_commerceur_commerce_market_shopify"
                  ],
                  "type": "scatter",
                  "x": [
                    0,
                    0.7544626919147285,
                    0.7544626919147285,
                    0
                  ],
                  "xaxis": "x",
                  "y": [
                    -355,
                    -355,
                    -365,
                    -365
                  ],
                  "yaxis": "y"
                },
                {
                  "hoverinfo": "text",
                  "marker": {
                    "color": "rgb(133,20,75)"
                  },
                  "mode": "lines",
                  "text": [
                    "boutique_shop_retailer_shops_retail",
                    "",
                    "",
                    "marketplace_commerceur_commerce_market_shopify"
                  ],
                  "type": "scatter",
                  "x": [
                    0.8527732144399481,
                    0.8963912630955988,
                    0.8963912630955988,
                    0.7544626919147285
                  ],
                  "xaxis": "x",
                  "y": [
                    -316.875,
                    -316.875,
                    -360,
                    -360
                  ],
                  "yaxis": "y"
                },
                {
                  "hoverinfo": "text",
                  "marker": {
                    "color": "rgb(0,116,217)"
                  },
                  "mode": "lines",
                  "text": [
                    "boutique_shop_retailer_shops_retail",
                    "",
                    "",
                    "marketplace_commerceur_commerce_market_shopify"
                  ],
                  "type": "scatter",
                  "x": [
                    0.9904035656648099,
                    1.147430902580705,
                    1.147430902580705,
                    0.8963912630955988
                  ],
                  "xaxis": "x",
                  "y": [
                    -189.2578125,
                    -189.2578125,
                    -338.4375,
                    -338.4375
                  ],
                  "yaxis": "y"
                },
                {
                  "hoverinfo": "text",
                  "marker": {
                    "color": "rgb(255,220,0)"
                  },
                  "mode": "lines",
                  "text": [
                    "cancer_médecin_oncologue_examen_traitement",
                    "",
                    "",
                    "médecine_médecin_professionnel_patient_médicament"
                  ],
                  "type": "scatter",
                  "x": [
                    0,
                    0.7638645555579022,
                    0.7638645555579022,
                    0
                  ],
                  "xaxis": "x",
                  "y": [
                    -375,
                    -375,
                    -385,
                    -385
                  ],
                  "yaxis": "y"
                },
                {
                  "hoverinfo": "text",
                  "marker": {
                    "color": "rgb(40,35,35)"
                  },
                  "mode": "lines",
                  "text": [
                    "algorithme_learning_software_machine_technologie",
                    "",
                    "",
                    "vente_vent_affaire_méthode_problème"
                  ],
                  "type": "scatter",
                  "x": [
                    0,
                    0.7731928438817877,
                    0.7731928438817877,
                    0
                  ],
                  "xaxis": "x",
                  "y": [
                    -405,
                    -405,
                    -415,
                    -415
                  ],
                  "yaxis": "y"
                },
                {
                  "hoverinfo": "text",
                  "marker": {
                    "color": "rgb(40,35,35)"
                  },
                  "mode": "lines",
                  "text": [
                    "robot_robotisation_robotique_drone_machine",
                    "",
                    "",
                    "vente_vent_affaire_méthode_problème"
                  ],
                  "type": "scatter",
                  "x": [
                    0,
                    0.8915252761057667,
                    0.8915252761057667,
                    0.7731928438817877
                  ],
                  "xaxis": "x",
                  "y": [
                    -395,
                    -395,
                    -410,
                    -410
                  ],
                  "yaxis": "y"
                },
                {
                  "hoverinfo": "text",
                  "marker": {
                    "color": "rgb(40,35,35)"
                  },
                  "mode": "lines",
                  "text": [
                    "robot_robotisation_robotique_drone_machine",
                    "",
                    "",
                    "logicielle_logiciel_problématique_service_mise"
                  ],
                  "type": "scatter",
                  "x": [
                    0.8915252761057667,
                    0.9389923475816294,
                    0.9389923475816294,
                    0
                  ],
                  "xaxis": "x",
                  "y": [
                    -402.5,
                    -402.5,
                    -425,
                    -425
                  ],
                  "yaxis": "y"
                },
                {
                  "hoverinfo": "text",
                  "marker": {
                    "color": "rgb(0,116,217)"
                  },
                  "mode": "lines",
                  "text": [
                    "robot_robotisation_robotique_drone_machine",
                    "",
                    "",
                    "logicielle_logiciel_problématique_service_mise"
                  ],
                  "type": "scatter",
                  "x": [
                    0.7638645555579022,
                    1.0654974764278562,
                    1.0654974764278562,
                    0.9389923475816294
                  ],
                  "xaxis": "x",
                  "y": [
                    -380,
                    -380,
                    -413.75,
                    -413.75
                  ],
                  "yaxis": "y"
                },
                {
                  "hoverinfo": "text",
                  "marker": {
                    "color": "rgb(61,153,112)"
                  },
                  "mode": "lines",
                  "text": [
                    "prison_tribunal_comportement_prisonnier_pénal",
                    "",
                    "",
                    "cannabis_plante_champignon_fameuse_fois"
                  ],
                  "type": "scatter",
                  "x": [
                    0,
                    0.9313365501418944,
                    0.9313365501418944,
                    0
                  ],
                  "xaxis": "x",
                  "y": [
                    -435,
                    -435,
                    -445,
                    -445
                  ],
                  "yaxis": "y"
                },
                {
                  "hoverinfo": "text",
                  "marker": {
                    "color": "rgb(255,65,54)"
                  },
                  "mode": "lines",
                  "text": [
                    "chocolat_baguette_école_japonais_carré",
                    "",
                    "",
                    "café_caféine_restaurant_origine_château"
                  ],
                  "type": "scatter",
                  "x": [
                    0,
                    0.9093134063713465,
                    0.9093134063713465,
                    0
                  ],
                  "xaxis": "x",
                  "y": [
                    -465,
                    -465,
                    -475,
                    -475
                  ],
                  "yaxis": "y"
                },
                {
                  "hoverinfo": "text",
                  "marker": {
                    "color": "rgb(255,65,54)"
                  },
                  "mode": "lines",
                  "text": [
                    "biscuit_cookie_demande_poste_commande",
                    "",
                    "",
                    "café_caféine_restaurant_origine_château"
                  ],
                  "type": "scatter",
                  "x": [
                    0,
                    0.974222109601338,
                    0.974222109601338,
                    0.9093134063713465
                  ],
                  "xaxis": "x",
                  "y": [
                    -455,
                    -455,
                    -470,
                    -470
                  ],
                  "yaxis": "y"
                },
                {
                  "hoverinfo": "text",
                  "marker": {
                    "color": "rgb(35,205,205)"
                  },
                  "mode": "lines",
                  "text": [
                    "obsession_obsessionnel_philosophie_pense_maire",
                    "",
                    "",
                    "cigarette_époque_copain_pense_projet"
                  ],
                  "type": "scatter",
                  "x": [
                    0,
                    0.9606098505640173,
                    0.9606098505640173,
                    0
                  ],
                  "xaxis": "x",
                  "y": [
                    -495,
                    -495,
                    -505,
                    -505
                  ],
                  "yaxis": "y"
                },
                {
                  "hoverinfo": "text",
                  "marker": {
                    "color": "rgb(35,205,205)"
                  },
                  "mode": "lines",
                  "text": [
                    "square_paiement_vente_auditeur_code",
                    "",
                    "",
                    "cigarette_époque_copain_pense_projet"
                  ],
                  "type": "scatter",
                  "x": [
                    0,
                    0.9769056671457224,
                    0.9769056671457224,
                    0.9606098505640173
                  ],
                  "xaxis": "x",
                  "y": [
                    -485,
                    -485,
                    -500,
                    -500
                  ],
                  "yaxis": "y"
                },
                {
                  "hoverinfo": "text",
                  "marker": {
                    "color": "rgb(35,205,205)"
                  },
                  "mode": "lines",
                  "text": [
                    "square_paiement_vente_auditeur_code",
                    "",
                    "",
                    "aquarium_scientifique_croyance_respiration_changement"
                  ],
                  "type": "scatter",
                  "x": [
                    0.9769056671457224,
                    0.9948603984326168,
                    0.9948603984326168,
                    0
                  ],
                  "xaxis": "x",
                  "y": [
                    -492.5,
                    -492.5,
                    -515,
                    -515
                  ],
                  "yaxis": "y"
                },
                {
                  "hoverinfo": "text",
                  "marker": {
                    "color": "rgb(0,116,217)"
                  },
                  "mode": "lines",
                  "text": [
                    "square_paiement_vente_auditeur_code",
                    "",
                    "",
                    "aquarium_scientifique_croyance_respiration_changement"
                  ],
                  "type": "scatter",
                  "x": [
                    0.974222109601338,
                    1.0021648479067071,
                    1.0021648479067071,
                    0.9948603984326168
                  ],
                  "xaxis": "x",
                  "y": [
                    -462.5,
                    -462.5,
                    -503.75,
                    -503.75
                  ],
                  "yaxis": "y"
                },
                {
                  "hoverinfo": "text",
                  "marker": {
                    "color": "rgb(0,116,217)"
                  },
                  "mode": "lines",
                  "text": [
                    "square_paiement_vente_auditeur_code",
                    "",
                    "",
                    "aquarium_scientifique_croyance_respiration_changement"
                  ],
                  "type": "scatter",
                  "x": [
                    0.9313365501418944,
                    1.014115810687959,
                    1.014115810687959,
                    1.0021648479067071
                  ],
                  "xaxis": "x",
                  "y": [
                    -440,
                    -440,
                    -483.125,
                    -483.125
                  ],
                  "yaxis": "y"
                },
                {
                  "hoverinfo": "text",
                  "marker": {
                    "color": "rgb(61,153,112)"
                  },
                  "mode": "lines",
                  "text": [
                    "fruit_investissement_production_propriété_plaisir",
                    "",
                    "",
                    "agriculture_agroalimentaire_hectare_agriculteur_agro"
                  ],
                  "type": "scatter",
                  "x": [
                    0,
                    0.8807247411336631,
                    0.8807247411336631,
                    0
                  ],
                  "xaxis": "x",
                  "y": [
                    -535,
                    -535,
                    -545,
                    -545
                  ],
                  "yaxis": "y"
                },
                {
                  "hoverinfo": "text",
                  "marker": {
                    "color": "rgb(61,153,112)"
                  },
                  "mode": "lines",
                  "text": [
                    "fruit_investissement_production_propriété_plaisir",
                    "",
                    "",
                    "animal_écosystème_organisme_écologie_problème"
                  ],
                  "type": "scatter",
                  "x": [
                    0.8807247411336631,
                    0.9211042051353654,
                    0.9211042051353654,
                    0
                  ],
                  "xaxis": "x",
                  "y": [
                    -540,
                    -540,
                    -555,
                    -555
                  ],
                  "yaxis": "y"
                },
                {
                  "hoverinfo": "text",
                  "marker": {
                    "color": "rgb(61,153,112)"
                  },
                  "mode": "lines",
                  "text": [
                    "nutrition_nutritionniste_calorie_protéine_vitamine",
                    "",
                    "",
                    "animal_écosystème_organisme_écologie_problème"
                  ],
                  "type": "scatter",
                  "x": [
                    0,
                    0.9333209033701781,
                    0.9333209033701781,
                    0.9211042051353654
                  ],
                  "xaxis": "x",
                  "y": [
                    -525,
                    -525,
                    -547.5,
                    -547.5
                  ],
                  "yaxis": "y"
                },
                {
                  "hoverinfo": "text",
                  "marker": {
                    "color": "rgb(0,116,217)"
                  },
                  "mode": "lines",
                  "text": [
                    "nutrition_nutritionniste_calorie_protéine_vitamine",
                    "",
                    "",
                    "animal_écosystème_organisme_écologie_problème"
                  ],
                  "type": "scatter",
                  "x": [
                    1.014115810687959,
                    1.0335268808535674,
                    1.0335268808535674,
                    0.9333209033701781
                  ],
                  "xaxis": "x",
                  "y": [
                    -461.5625,
                    -461.5625,
                    -536.25,
                    -536.25
                  ],
                  "yaxis": "y"
                },
                {
                  "hoverinfo": "text",
                  "marker": {
                    "color": "rgb(255,65,54)"
                  },
                  "mode": "lines",
                  "text": [
                    "méditation_utilisation_entraînement_yoga_pratique",
                    "",
                    "",
                    "yoga_posture_gym_routine_méditation"
                  ],
                  "type": "scatter",
                  "x": [
                    0,
                    0.8653756539120403,
                    0.8653756539120403,
                    0
                  ],
                  "xaxis": "x",
                  "y": [
                    -565,
                    -565,
                    -575,
                    -575
                  ],
                  "yaxis": "y"
                },
                {
                  "hoverinfo": "text",
                  "marker": {
                    "color": "rgb(255,65,54)"
                  },
                  "mode": "lines",
                  "text": [
                    "karaté_martial_judo_kata_combat",
                    "",
                    "",
                    "box_boxe_vinyle_commerce_bagarre"
                  ],
                  "type": "scatter",
                  "x": [
                    0,
                    0.9338267311301393,
                    0.9338267311301393,
                    0
                  ],
                  "xaxis": "x",
                  "y": [
                    -585,
                    -585,
                    -595,
                    -595
                  ],
                  "yaxis": "y"
                },
                {
                  "hoverinfo": "text",
                  "marker": {
                    "color": "rgb(255,65,54)"
                  },
                  "mode": "lines",
                  "text": [
                    "karaté_martial_judo_kata_combat",
                    "",
                    "",
                    "box_boxe_vinyle_commerce_bagarre"
                  ],
                  "type": "scatter",
                  "x": [
                    0.8653756539120403,
                    0.9764412575658641,
                    0.9764412575658641,
                    0.9338267311301393
                  ],
                  "xaxis": "x",
                  "y": [
                    -570,
                    -570,
                    -590,
                    -590
                  ],
                  "yaxis": "y"
                },
                {
                  "hoverinfo": "text",
                  "marker": {
                    "color": "rgb(0,116,217)"
                  },
                  "mode": "lines",
                  "text": [
                    "karaté_martial_judo_kata_combat",
                    "",
                    "",
                    "box_boxe_vinyle_commerce_bagarre"
                  ],
                  "type": "scatter",
                  "x": [
                    1.0335268808535674,
                    1.0612663112631495,
                    1.0612663112631495,
                    0.9764412575658641
                  ],
                  "xaxis": "x",
                  "y": [
                    -498.90625,
                    -498.90625,
                    -580,
                    -580
                  ],
                  "yaxis": "y"
                },
                {
                  "hoverinfo": "text",
                  "marker": {
                    "color": "rgb(35,205,205)"
                  },
                  "mode": "lines",
                  "text": [
                    "accident_problème_examen_organe_crash",
                    "",
                    "",
                    "moto_motoblue_moteur_pilote_contrôle"
                  ],
                  "type": "scatter",
                  "x": [
                    0,
                    0.889540618138799,
                    0.889540618138799,
                    0
                  ],
                  "xaxis": "x",
                  "y": [
                    -615,
                    -615,
                    -625,
                    -625
                  ],
                  "yaxis": "y"
                },
                {
                  "hoverinfo": "text",
                  "marker": {
                    "color": "rgb(35,205,205)"
                  },
                  "mode": "lines",
                  "text": [
                    "scooter_scoot_véhicule_carte_marché",
                    "",
                    "",
                    "moto_motoblue_moteur_pilote_contrôle"
                  ],
                  "type": "scatter",
                  "x": [
                    0,
                    0.92411876506137,
                    0.92411876506137,
                    0.889540618138799
                  ],
                  "xaxis": "x",
                  "y": [
                    -605,
                    -605,
                    -620,
                    -620
                  ],
                  "yaxis": "y"
                },
                {
                  "hoverinfo": "text",
                  "marker": {
                    "color": "rgb(133,20,75)"
                  },
                  "mode": "lines",
                  "text": [
                    "milliard_milliardaire_investissement_problématique_affaire",
                    "",
                    "",
                    "ambition_accomplissement_société_motivation_étoile"
                  ],
                  "type": "scatter",
                  "x": [
                    0,
                    0.8768144795956156,
                    0.8768144795956156,
                    0
                  ],
                  "xaxis": "x",
                  "y": [
                    -645,
                    -645,
                    -655,
                    -655
                  ],
                  "yaxis": "y"
                },
                {
                  "hoverinfo": "text",
                  "marker": {
                    "color": "rgb(133,20,75)"
                  },
                  "mode": "lines",
                  "text": [
                    "échec_énormément_épreuve_problème_erreur",
                    "",
                    "",
                    "ambition_accomplissement_société_motivation_étoile"
                  ],
                  "type": "scatter",
                  "x": [
                    0,
                    0.951214918828462,
                    0.951214918828462,
                    0.8768144795956156
                  ],
                  "xaxis": "x",
                  "y": [
                    -635,
                    -635,
                    -650,
                    -650
                  ],
                  "yaxis": "y"
                },
                {
                  "hoverinfo": "text",
                  "marker": {
                    "color": "rgb(255,220,0)"
                  },
                  "mode": "lines",
                  "text": [
                    "fraude_audit_comportement_commerce_scam",
                    "",
                    "",
                    "crédit_credit_financement_investissement_finance"
                  ],
                  "type": "scatter",
                  "x": [
                    0,
                    0.8757079629771372,
                    0.8757079629771372,
                    0
                  ],
                  "xaxis": "x",
                  "y": [
                    -665,
                    -665,
                    -675,
                    -675
                  ],
                  "yaxis": "y"
                },
                {
                  "hoverinfo": "text",
                  "marker": {
                    "color": "rgb(255,220,0)"
                  },
                  "mode": "lines",
                  "text": [
                    "électricité_électricien_électroménager_produit_mégawatt",
                    "",
                    "",
                    "bitcoin_blockchain_crypto_ethereum_cryptos"
                  ],
                  "type": "scatter",
                  "x": [
                    0,
                    0.9283489207743479,
                    0.9283489207743479,
                    0
                  ],
                  "xaxis": "x",
                  "y": [
                    -685,
                    -685,
                    -695,
                    -695
                  ],
                  "yaxis": "y"
                },
                {
                  "hoverinfo": "text",
                  "marker": {
                    "color": "rgb(255,220,0)"
                  },
                  "mode": "lines",
                  "text": [
                    "électricité_électricien_électroménager_produit_mégawatt",
                    "",
                    "",
                    "hologramme_photocopie_photo_image_laser"
                  ],
                  "type": "scatter",
                  "x": [
                    0.9283489207743479,
                    0.9634588636699193,
                    0.9634588636699193,
                    0
                  ],
                  "xaxis": "x",
                  "y": [
                    -690,
                    -690,
                    -705,
                    -705
                  ],
                  "yaxis": "y"
                },
                {
                  "hoverinfo": "text",
                  "marker": {
                    "color": "rgb(255,220,0)"
                  },
                  "mode": "lines",
                  "text": [
                    "électricité_électricien_électroménager_produit_mégawatt",
                    "",
                    "",
                    "hologramme_photocopie_photo_image_laser"
                  ],
                  "type": "scatter",
                  "x": [
                    0.8757079629771372,
                    0.9773095417256761,
                    0.9773095417256761,
                    0.9634588636699193
                  ],
                  "xaxis": "x",
                  "y": [
                    -670,
                    -670,
                    -697.5,
                    -697.5
                  ],
                  "yaxis": "y"
                },
                {
                  "hoverinfo": "text",
                  "marker": {
                    "color": "rgb(0,116,217)"
                  },
                  "mode": "lines",
                  "text": [
                    "électricité_électricien_électroménager_produit_mégawatt",
                    "",
                    "",
                    "hologramme_photocopie_photo_image_laser"
                  ],
                  "type": "scatter",
                  "x": [
                    0.951214918828462,
                    1.0258020485658244,
                    1.0258020485658244,
                    0.9773095417256761
                  ],
                  "xaxis": "x",
                  "y": [
                    -642.5,
                    -642.5,
                    -683.75,
                    -683.75
                  ],
                  "yaxis": "y"
                },
                {
                  "hoverinfo": "text",
                  "marker": {
                    "color": "rgb(40,35,35)"
                  },
                  "mode": "lines",
                  "text": [
                    "skin_game_problème_market_marketplace",
                    "",
                    "",
                    "mean_idea_say_life_think"
                  ],
                  "type": "scatter",
                  "x": [
                    0,
                    0.9375150009384026,
                    0.9375150009384026,
                    0
                  ],
                  "xaxis": "x",
                  "y": [
                    -715,
                    -715,
                    -725,
                    -725
                  ],
                  "yaxis": "y"
                },
                {
                  "hoverinfo": "text",
                  "marker": {
                    "color": "rgb(0,116,217)"
                  },
                  "mode": "lines",
                  "text": [
                    "skin_game_problème_market_marketplace",
                    "",
                    "",
                    "mean_idea_say_life_think"
                  ],
                  "type": "scatter",
                  "x": [
                    1.0258020485658244,
                    1.054905369696512,
                    1.054905369696512,
                    0.9375150009384026
                  ],
                  "xaxis": "x",
                  "y": [
                    -663.125,
                    -663.125,
                    -720,
                    -720
                  ],
                  "yaxis": "y"
                },
                {
                  "hoverinfo": "text",
                  "marker": {
                    "color": "rgb(0,116,217)"
                  },
                  "mode": "lines",
                  "text": [
                    "skin_game_problème_market_marketplace",
                    "",
                    "",
                    "mean_idea_say_life_think"
                  ],
                  "type": "scatter",
                  "x": [
                    0.92411876506137,
                    1.0767695379061506,
                    1.0767695379061506,
                    1.054905369696512
                  ],
                  "xaxis": "x",
                  "y": [
                    -612.5,
                    -612.5,
                    -691.5625,
                    -691.5625
                  ],
                  "yaxis": "y"
                },
                {
                  "hoverinfo": "text",
                  "marker": {
                    "color": "rgb(0,116,217)"
                  },
                  "mode": "lines",
                  "text": [
                    "skin_game_problème_market_marketplace",
                    "",
                    "",
                    "mean_idea_say_life_think"
                  ],
                  "type": "scatter",
                  "x": [
                    1.0612663112631495,
                    1.0875268417318937,
                    1.0875268417318937,
                    1.0767695379061506
                  ],
                  "xaxis": "x",
                  "y": [
                    -539.453125,
                    -539.453125,
                    -652.03125,
                    -652.03125
                  ],
                  "yaxis": "y"
                },
                {
                  "hoverinfo": "text",
                  "marker": {
                    "color": "rgb(0,116,217)"
                  },
                  "mode": "lines",
                  "text": [
                    "skin_game_problème_market_marketplace",
                    "",
                    "",
                    "mean_idea_say_life_think"
                  ],
                  "type": "scatter",
                  "x": [
                    1.0654974764278562,
                    1.1190864554847302,
                    1.1190864554847302,
                    1.0875268417318937
                  ],
                  "xaxis": "x",
                  "y": [
                    -396.875,
                    -396.875,
                    -595.7421875,
                    -595.7421875
                  ],
                  "yaxis": "y"
                },
                {
                  "hoverinfo": "text",
                  "marker": {
                    "color": "rgb(61,153,112)"
                  },
                  "mode": "lines",
                  "text": [
                    "colis_problème_commande_reportage_poste",
                    "",
                    "",
                    "rendez_communiqué_personne_presse_rivière"
                  ],
                  "type": "scatter",
                  "x": [
                    0,
                    0.892306471097171,
                    0.892306471097171,
                    0
                  ],
                  "xaxis": "x",
                  "y": [
                    -735,
                    -735,
                    -745,
                    -745
                  ],
                  "yaxis": "y"
                },
                {
                  "hoverinfo": "text",
                  "marker": {
                    "color": "rgb(61,153,112)"
                  },
                  "mode": "lines",
                  "text": [
                    "mail_email_gmail_newsletter_mailchimp",
                    "",
                    "",
                    "linkedin_personne_poste_semaine_instagram"
                  ],
                  "type": "scatter",
                  "x": [
                    0,
                    0.8110020925608805,
                    0.8110020925608805,
                    0
                  ],
                  "xaxis": "x",
                  "y": [
                    -755,
                    -755,
                    -765,
                    -765
                  ],
                  "yaxis": "y"
                },
                {
                  "hoverinfo": "text",
                  "marker": {
                    "color": "rgb(61,153,112)"
                  },
                  "mode": "lines",
                  "text": [
                    "mail_email_gmail_newsletter_mailchimp",
                    "",
                    "",
                    "linkedin_personne_poste_semaine_instagram"
                  ],
                  "type": "scatter",
                  "x": [
                    0.892306471097171,
                    0.9645160755376175,
                    0.9645160755376175,
                    0.8110020925608805
                  ],
                  "xaxis": "x",
                  "y": [
                    -740,
                    -740,
                    -760,
                    -760
                  ],
                  "yaxis": "y"
                },
                {
                  "hoverinfo": "text",
                  "marker": {
                    "color": "rgb(255,65,54)"
                  },
                  "mode": "lines",
                  "text": [
                    "journaliste_journalisme_media_média_news",
                    "",
                    "",
                    "youtube_vidéo_youtubeur_vitre_youtuber"
                  ],
                  "type": "scatter",
                  "x": [
                    0,
                    0.7633730970560749,
                    0.7633730970560749,
                    0
                  ],
                  "xaxis": "x",
                  "y": [
                    -795,
                    -795,
                    -805,
                    -805
                  ],
                  "yaxis": "y"
                },
                {
                  "hoverinfo": "text",
                  "marker": {
                    "color": "rgb(255,65,54)"
                  },
                  "mode": "lines",
                  "text": [
                    "podcasteur_podcasts_podcaster_auditeur_audio",
                    "",
                    "",
                    "youtube_vidéo_youtubeur_vitre_youtuber"
                  ],
                  "type": "scatter",
                  "x": [
                    0,
                    0.7965525004526567,
                    0.7965525004526567,
                    0.7633730970560749
                  ],
                  "xaxis": "x",
                  "y": [
                    -785,
                    -785,
                    -800,
                    -800
                  ],
                  "yaxis": "y"
                },
                {
                  "hoverinfo": "text",
                  "marker": {
                    "color": "rgb(255,65,54)"
                  },
                  "mode": "lines",
                  "text": [
                    "podcasteur_podcasts_podcaster_auditeur_audio",
                    "",
                    "",
                    "radio_station_fm_télé_bande"
                  ],
                  "type": "scatter",
                  "x": [
                    0.7965525004526567,
                    0.8665010186358076,
                    0.8665010186358076,
                    0
                  ],
                  "xaxis": "x",
                  "y": [
                    -792.5,
                    -792.5,
                    -815,
                    -815
                  ],
                  "yaxis": "y"
                },
                {
                  "hoverinfo": "text",
                  "marker": {
                    "color": "rgb(255,65,54)"
                  },
                  "mode": "lines",
                  "text": [
                    "tiktok_code_algorithme_influenceuse_semaine",
                    "",
                    "",
                    "radio_station_fm_télé_bande"
                  ],
                  "type": "scatter",
                  "x": [
                    0,
                    0.9752927033212734,
                    0.9752927033212734,
                    0.8665010186358076
                  ],
                  "xaxis": "x",
                  "y": [
                    -775,
                    -775,
                    -803.75,
                    -803.75
                  ],
                  "yaxis": "y"
                },
                {
                  "hoverinfo": "text",
                  "marker": {
                    "color": "rgb(0,116,217)"
                  },
                  "mode": "lines",
                  "text": [
                    "tiktok_code_algorithme_influenceuse_semaine",
                    "",
                    "",
                    "radio_station_fm_télé_bande"
                  ],
                  "type": "scatter",
                  "x": [
                    0.9645160755376175,
                    1.0484541295463998,
                    1.0484541295463998,
                    0.9752927033212734
                  ],
                  "xaxis": "x",
                  "y": [
                    -750,
                    -750,
                    -789.375,
                    -789.375
                  ],
                  "yaxis": "y"
                },
                {
                  "hoverinfo": "text",
                  "marker": {
                    "color": "rgb(35,205,205)"
                  },
                  "mode": "lines",
                  "text": [
                    "émission_pilote_coupe_production_lévy",
                    "",
                    "",
                    "co2_carbone_écologie_émission_écologiste"
                  ],
                  "type": "scatter",
                  "x": [
                    0,
                    0.6293497597995692,
                    0.6293497597995692,
                    0
                  ],
                  "xaxis": "x",
                  "y": [
                    -825,
                    -825,
                    -835,
                    -835
                  ],
                  "yaxis": "y"
                },
                {
                  "hoverinfo": "text",
                  "marker": {
                    "color": "rgb(0,116,217)"
                  },
                  "mode": "lines",
                  "text": [
                    "émission_pilote_coupe_production_lévy",
                    "",
                    "",
                    "émission_pétrole_écologiste_pollution_carbone"
                  ],
                  "type": "scatter",
                  "x": [
                    1.0484541295463998,
                    1.1509627572781316,
                    1.1509627572781316,
                    0.6293497597995692
                  ],
                  "xaxis": "x",
                  "y": [
                    -769.6875,
                    -769.6875,
                    -830,
                    -830
                  ],
                  "yaxis": "y"
                },
                {
                  "hoverinfo": "text",
                  "marker": {
                    "color": "rgb(61,153,112)"
                  },
                  "mode": "lines",
                  "text": [
                    "bateau_batte_bataille_bâtiment_pont",
                    "",
                    "",
                    "guerre_combat_pilote_histoire_connaissance"
                  ],
                  "type": "scatter",
                  "x": [
                    0,
                    0.9089144640447429,
                    0.9089144640447429,
                    0
                  ],
                  "xaxis": "x",
                  "y": [
                    -845,
                    -845,
                    -855,
                    -855
                  ],
                  "yaxis": "y"
                },
                {
                  "hoverinfo": "text",
                  "marker": {
                    "color": "rgb(255,65,54)"
                  },
                  "mode": "lines",
                  "text": [
                    "virus_coronavirus_covid_viralité_vaccin",
                    "",
                    "",
                    "confinement_sous_corse_temps_covid"
                  ],
                  "type": "scatter",
                  "x": [
                    0,
                    0.7586667577170971,
                    0.7586667577170971,
                    0
                  ],
                  "xaxis": "x",
                  "y": [
                    -865,
                    -865,
                    -875,
                    -875
                  ],
                  "yaxis": "y"
                },
                {
                  "hoverinfo": "text",
                  "marker": {
                    "color": "rgb(0,116,217)"
                  },
                  "mode": "lines",
                  "text": [
                    "virus_coronavirus_covid_viralité_vaccin",
                    "",
                    "",
                    "confinement_sous_corse_temps_covid"
                  ],
                  "type": "scatter",
                  "x": [
                    0.9089144640447429,
                    1.0100613934326323,
                    1.0100613934326323,
                    0.7586667577170971
                  ],
                  "xaxis": "x",
                  "y": [
                    -850,
                    -850,
                    -870,
                    -870
                  ],
                  "yaxis": "y"
                },
                {
                  "hoverinfo": "text",
                  "marker": {
                    "color": "rgb(35,205,205)"
                  },
                  "mode": "lines",
                  "text": [
                    "voyage_voyageur_tourisme_travel_touriste",
                    "",
                    "",
                    "pilote_aviation_pilotage_air_aéronautique"
                  ],
                  "type": "scatter",
                  "x": [
                    0,
                    0.8250078748317763,
                    0.8250078748317763,
                    0
                  ],
                  "xaxis": "x",
                  "y": [
                    -885,
                    -885,
                    -895,
                    -895
                  ],
                  "yaxis": "y"
                },
                {
                  "hoverinfo": "text",
                  "marker": {
                    "color": "rgb(35,205,205)"
                  },
                  "mode": "lines",
                  "text": [
                    "patron_patronne_ministère_école_langue",
                    "",
                    "",
                    "état_etats_états_européen_france"
                  ],
                  "type": "scatter",
                  "x": [
                    0,
                    0.7539881688999973,
                    0.7539881688999973,
                    0
                  ],
                  "xaxis": "x",
                  "y": [
                    -905,
                    -905,
                    -915,
                    -915
                  ],
                  "yaxis": "y"
                },
                {
                  "hoverinfo": "text",
                  "marker": {
                    "color": "rgb(35,205,205)"
                  },
                  "mode": "lines",
                  "text": [
                    "patron_patronne_ministère_école_langue",
                    "",
                    "",
                    "tunisien_tunisie_tunis_tourisme_estonie"
                  ],
                  "type": "scatter",
                  "x": [
                    0.7539881688999973,
                    0.8491558344635772,
                    0.8491558344635772,
                    0
                  ],
                  "xaxis": "x",
                  "y": [
                    -910,
                    -910,
                    -925,
                    -925
                  ],
                  "yaxis": "y"
                },
                {
                  "hoverinfo": "text",
                  "marker": {
                    "color": "rgb(35,205,205)"
                  },
                  "mode": "lines",
                  "text": [
                    "patron_patronne_ministère_école_langue",
                    "",
                    "",
                    "tunisien_tunisie_tunis_tourisme_estonie"
                  ],
                  "type": "scatter",
                  "x": [
                    0.8250078748317763,
                    0.9338433854699184,
                    0.9338433854699184,
                    0.8491558344635772
                  ],
                  "xaxis": "x",
                  "y": [
                    -890,
                    -890,
                    -917.5,
                    -917.5
                  ],
                  "yaxis": "y"
                },
                {
                  "hoverinfo": "text",
                  "marker": {
                    "color": "rgb(0,116,217)"
                  },
                  "mode": "lines",
                  "text": [
                    "patron_patronne_ministère_école_langue",
                    "",
                    "",
                    "tunisien_tunisie_tunis_tourisme_estonie"
                  ],
                  "type": "scatter",
                  "x": [
                    1.0100613934326323,
                    1.0382051594881458,
                    1.0382051594881458,
                    0.9338433854699184
                  ],
                  "xaxis": "x",
                  "y": [
                    -860,
                    -860,
                    -903.75,
                    -903.75
                  ],
                  "yaxis": "y"
                },
                {
                  "hoverinfo": "text",
                  "marker": {
                    "color": "rgb(133,20,75)"
                  },
                  "mode": "lines",
                  "text": [
                    "chef_cuisine_restaurant_pâtisserie_sous",
                    "",
                    "",
                    "cuisine_restaurant_chef_food_kitchen"
                  ],
                  "type": "scatter",
                  "x": [
                    0,
                    0.8104166743544478,
                    0.8104166743544478,
                    0
                  ],
                  "xaxis": "x",
                  "y": [
                    -935,
                    -935,
                    -945,
                    -945
                  ],
                  "yaxis": "y"
                },
                {
                  "hoverinfo": "text",
                  "marker": {
                    "color": "rgb(133,20,75)"
                  },
                  "mode": "lines",
                  "text": [
                    "chef_cuisine_restaurant_pâtisserie_sous",
                    "",
                    "",
                    "restaurant_restaurateur_dîner_tourisme_cuisine"
                  ],
                  "type": "scatter",
                  "x": [
                    0.8104166743544478,
                    0.8436365890700706,
                    0.8436365890700706,
                    0
                  ],
                  "xaxis": "x",
                  "y": [
                    -940,
                    -940,
                    -955,
                    -955
                  ],
                  "yaxis": "y"
                },
                {
                  "hoverinfo": "text",
                  "marker": {
                    "color": "rgb(255,220,0)"
                  },
                  "mode": "lines",
                  "text": [
                    "hôtel_hôtelier_hôtellerie_logement_fois",
                    "",
                    "",
                    "airbnb_hôtel_booking_hôtellerie_problème"
                  ],
                  "type": "scatter",
                  "x": [
                    0,
                    0.8562866673790627,
                    0.8562866673790627,
                    0
                  ],
                  "xaxis": "x",
                  "y": [
                    -965,
                    -965,
                    -975,
                    -975
                  ],
                  "yaxis": "y"
                },
                {
                  "hoverinfo": "text",
                  "marker": {
                    "color": "rgb(40,35,35)"
                  },
                  "mode": "lines",
                  "text": [
                    "avocat_interne_appel_demande_problème",
                    "",
                    "",
                    "cabinet_auditeur_problème_apprentissage_quarantaine"
                  ],
                  "type": "scatter",
                  "x": [
                    0,
                    0.8159755732331843,
                    0.8159755732331843,
                    0
                  ],
                  "xaxis": "x",
                  "y": [
                    -985,
                    -985,
                    -995,
                    -995
                  ],
                  "yaxis": "y"
                },
                {
                  "hoverinfo": "text",
                  "marker": {
                    "color": "rgb(0,116,217)"
                  },
                  "mode": "lines",
                  "text": [
                    "avocat_interne_appel_demande_problème",
                    "",
                    "",
                    "cabinet_auditeur_problème_apprentissage_quarantaine"
                  ],
                  "type": "scatter",
                  "x": [
                    0.8562866673790627,
                    1.0271577490273374,
                    1.0271577490273374,
                    0.8159755732331843
                  ],
                  "xaxis": "x",
                  "y": [
                    -970,
                    -970,
                    -990,
                    -990
                  ],
                  "yaxis": "y"
                },
                {
                  "hoverinfo": "text",
                  "marker": {
                    "color": "rgb(0,116,217)"
                  },
                  "mode": "lines",
                  "text": [
                    "avocat_interne_appel_demande_problème",
                    "",
                    "",
                    "cabinet_auditeur_problème_apprentissage_quarantaine"
                  ],
                  "type": "scatter",
                  "x": [
                    0.8436365890700706,
                    1.0464393272334556,
                    1.0464393272334556,
                    1.0271577490273374
                  ],
                  "xaxis": "x",
                  "y": [
                    -947.5,
                    -947.5,
                    -980,
                    -980
                  ],
                  "yaxis": "y"
                },
                {
                  "hoverinfo": "text",
                  "marker": {
                    "color": "rgb(0,116,217)"
                  },
                  "mode": "lines",
                  "text": [
                    "avocat_interne_appel_demande_problème",
                    "",
                    "",
                    "cabinet_auditeur_problème_apprentissage_quarantaine"
                  ],
                  "type": "scatter",
                  "x": [
                    1.0382051594881458,
                    1.0833463124945863,
                    1.0833463124945863,
                    1.0464393272334556
                  ],
                  "xaxis": "x",
                  "y": [
                    -881.875,
                    -881.875,
                    -963.75,
                    -963.75
                  ],
                  "yaxis": "y"
                },
                {
                  "hoverinfo": "text",
                  "marker": {
                    "color": "rgb(61,153,112)"
                  },
                  "mode": "lines",
                  "text": [
                    "théâtre_cinéma_histoire_audience_troupe",
                    "",
                    "",
                    "film_cinéma_envie_histoire_théâtre"
                  ],
                  "type": "scatter",
                  "x": [
                    0,
                    0.8185432012966585,
                    0.8185432012966585,
                    0
                  ],
                  "xaxis": "x",
                  "y": [
                    -1005,
                    -1005,
                    -1015,
                    -1015
                  ],
                  "yaxis": "y"
                },
                {
                  "hoverinfo": "text",
                  "marker": {
                    "color": "rgb(61,153,112)"
                  },
                  "mode": "lines",
                  "text": [
                    "musique_music_musicien_musical_instrument",
                    "",
                    "",
                    "galerie_artiste_art_musée_sculpture"
                  ],
                  "type": "scatter",
                  "x": [
                    0,
                    0.778908543632327,
                    0.778908543632327,
                    0
                  ],
                  "xaxis": "x",
                  "y": [
                    -1025,
                    -1025,
                    -1035,
                    -1035
                  ],
                  "yaxis": "y"
                },
                {
                  "hoverinfo": "text",
                  "marker": {
                    "color": "rgb(61,153,112)"
                  },
                  "mode": "lines",
                  "text": [
                    "musique_music_musicien_musical_instrument",
                    "",
                    "",
                    "photographe_photographie_photo_portrait_caméra"
                  ],
                  "type": "scatter",
                  "x": [
                    0.778908543632327,
                    0.8343984115439048,
                    0.8343984115439048,
                    0
                  ],
                  "xaxis": "x",
                  "y": [
                    -1030,
                    -1030,
                    -1045,
                    -1045
                  ],
                  "yaxis": "y"
                },
                {
                  "hoverinfo": "text",
                  "marker": {
                    "color": "rgb(61,153,112)"
                  },
                  "mode": "lines",
                  "text": [
                    "musique_music_musicien_musical_instrument",
                    "",
                    "",
                    "photographe_photographie_photo_portrait_caméra"
                  ],
                  "type": "scatter",
                  "x": [
                    0.8185432012966585,
                    0.9761603378683689,
                    0.9761603378683689,
                    0.8343984115439048
                  ],
                  "xaxis": "x",
                  "y": [
                    -1010,
                    -1010,
                    -1037.5,
                    -1037.5
                  ],
                  "yaxis": "y"
                },
                {
                  "hoverinfo": "text",
                  "marker": {
                    "color": "rgb(255,65,54)"
                  },
                  "mode": "lines",
                  "text": [
                    "intuition_décision_instinct_process_méthode",
                    "",
                    "",
                    "ceo_entreprise_coup_leadership_forme"
                  ],
                  "type": "scatter",
                  "x": [
                    0,
                    0.8711241509386751,
                    0.8711241509386751,
                    0
                  ],
                  "xaxis": "x",
                  "y": [
                    -1065,
                    -1065,
                    -1075,
                    -1075
                  ],
                  "yaxis": "y"
                },
                {
                  "hoverinfo": "text",
                  "marker": {
                    "color": "rgb(255,65,54)"
                  },
                  "mode": "lines",
                  "text": [
                    "courage_énormément_ambition_forme_découverte",
                    "",
                    "",
                    "ceo_entreprise_coup_leadership_forme"
                  ],
                  "type": "scatter",
                  "x": [
                    0,
                    0.9390598693968693,
                    0.9390598693968693,
                    0.8711241509386751
                  ],
                  "xaxis": "x",
                  "y": [
                    -1055,
                    -1055,
                    -1070,
                    -1070
                  ],
                  "yaxis": "y"
                },
                {
                  "hoverinfo": "text",
                  "marker": {
                    "color": "rgb(255,65,54)"
                  },
                  "mode": "lines",
                  "text": [
                    "impression_enseignement_gratuitement_insouciance_mouvement",
                    "",
                    "",
                    "sentiment_biais_émotion_texte_vêtement"
                  ],
                  "type": "scatter",
                  "x": [
                    0,
                    0.8781295763876795,
                    0.8781295763876795,
                    0
                  ],
                  "xaxis": "x",
                  "y": [
                    -1085,
                    -1085,
                    -1095,
                    -1095
                  ],
                  "yaxis": "y"
                },
                {
                  "hoverinfo": "text",
                  "marker": {
                    "color": "rgb(255,65,54)"
                  },
                  "mode": "lines",
                  "text": [
                    "émotion_mood_sentiment_moment_adrénaline",
                    "",
                    "",
                    "neuroscience_psychologie_psychiatre_neuroscientifique_psychanalyse"
                  ],
                  "type": "scatter",
                  "x": [
                    0,
                    0.9014616635726238,
                    0.9014616635726238,
                    0
                  ],
                  "xaxis": "x",
                  "y": [
                    -1105,
                    -1105,
                    -1115,
                    -1115
                  ],
                  "yaxis": "y"
                },
                {
                  "hoverinfo": "text",
                  "marker": {
                    "color": "rgb(255,65,54)"
                  },
                  "mode": "lines",
                  "text": [
                    "émotion_mood_sentiment_moment_adrénaline",
                    "",
                    "",
                    "neuroscience_psychologie_psychiatre_neuroscientifique_psychanalyse"
                  ],
                  "type": "scatter",
                  "x": [
                    0.8781295763876795,
                    0.9148051661224026,
                    0.9148051661224026,
                    0.9014616635726238
                  ],
                  "xaxis": "x",
                  "y": [
                    -1090,
                    -1090,
                    -1110,
                    -1110
                  ],
                  "yaxis": "y"
                },
                {
                  "hoverinfo": "text",
                  "marker": {
                    "color": "rgb(255,65,54)"
                  },
                  "mode": "lines",
                  "text": [
                    "émotion_mood_sentiment_moment_adrénaline",
                    "",
                    "",
                    "neuroscience_psychologie_psychiatre_neuroscientifique_psychanalyse"
                  ],
                  "type": "scatter",
                  "x": [
                    0.9390598693968693,
                    0.9674514195892323,
                    0.9674514195892323,
                    0.9148051661224026
                  ],
                  "xaxis": "x",
                  "y": [
                    -1062.5,
                    -1062.5,
                    -1100,
                    -1100
                  ],
                  "yaxis": "y"
                },
                {
                  "hoverinfo": "text",
                  "marker": {
                    "color": "rgb(35,205,205)"
                  },
                  "mode": "lines",
                  "text": [
                    "parent_enfant_enfance_papa_envie",
                    "",
                    "",
                    "femme_féminisme_homme_fois_problème"
                  ],
                  "type": "scatter",
                  "x": [
                    0,
                    0.7688949535741314,
                    0.7688949535741314,
                    0
                  ],
                  "xaxis": "x",
                  "y": [
                    -1145,
                    -1145,
                    -1155,
                    -1155
                  ],
                  "yaxis": "y"
                },
                {
                  "hoverinfo": "text",
                  "marker": {
                    "color": "rgb(35,205,205)"
                  },
                  "mode": "lines",
                  "text": [
                    "éducation_école_problème_classroom_intérêt",
                    "",
                    "",
                    "femme_féminisme_homme_fois_problème"
                  ],
                  "type": "scatter",
                  "x": [
                    0,
                    0.8473014379190699,
                    0.8473014379190699,
                    0.7688949535741314
                  ],
                  "xaxis": "x",
                  "y": [
                    -1135,
                    -1135,
                    -1150,
                    -1150
                  ],
                  "yaxis": "y"
                },
                {
                  "hoverinfo": "text",
                  "marker": {
                    "color": "rgb(35,205,205)"
                  },
                  "mode": "lines",
                  "text": [
                    "éducation_école_problème_classroom_intérêt",
                    "",
                    "",
                    "passion_essaye_métier_inspiration_rivière"
                  ],
                  "type": "scatter",
                  "x": [
                    0.8473014379190699,
                    0.8951331166401759,
                    0.8951331166401759,
                    0
                  ],
                  "xaxis": "x",
                  "y": [
                    -1142.5,
                    -1142.5,
                    -1165,
                    -1165
                  ],
                  "yaxis": "y"
                },
                {
                  "hoverinfo": "text",
                  "marker": {
                    "color": "rgb(35,205,205)"
                  },
                  "mode": "lines",
                  "text": [
                    "mathématique_mathématicien_maths_matheux_problème",
                    "",
                    "",
                    "passion_essaye_métier_inspiration_rivière"
                  ],
                  "type": "scatter",
                  "x": [
                    0,
                    0.911835149730712,
                    0.911835149730712,
                    0.8951331166401759
                  ],
                  "xaxis": "x",
                  "y": [
                    -1125,
                    -1125,
                    -1153.75,
                    -1153.75
                  ],
                  "yaxis": "y"
                },
                {
                  "hoverinfo": "text",
                  "marker": {
                    "color": "rgb(35,205,205)"
                  },
                  "mode": "lines",
                  "text": [
                    "mathématique_mathématicien_maths_matheux_problème",
                    "",
                    "",
                    "conscience_contrôle_comportement_perception_égo"
                  ],
                  "type": "scatter",
                  "x": [
                    0.911835149730712,
                    0.9210470101422341,
                    0.9210470101422341,
                    0
                  ],
                  "xaxis": "x",
                  "y": [
                    -1139.375,
                    -1139.375,
                    -1175,
                    -1175
                  ],
                  "yaxis": "y"
                },
                {
                  "hoverinfo": "text",
                  "marker": {
                    "color": "rgb(35,205,205)"
                  },
                  "mode": "lines",
                  "text": [
                    "âge_agence_35_quarantaine_problème",
                    "",
                    "",
                    "footballeur_entraîneur_football_fois_ligue"
                  ],
                  "type": "scatter",
                  "x": [
                    0,
                    0.9105782920719541,
                    0.9105782920719541,
                    0
                  ],
                  "xaxis": "x",
                  "y": [
                    -1185,
                    -1185,
                    -1195,
                    -1195
                  ],
                  "yaxis": "y"
                },
                {
                  "hoverinfo": "text",
                  "marker": {
                    "color": "rgb(35,205,205)"
                  },
                  "mode": "lines",
                  "text": [
                    "âge_agence_35_quarantaine_problème",
                    "",
                    "",
                    "footballeur_entraîneur_football_fois_ligue"
                  ],
                  "type": "scatter",
                  "x": [
                    0.9210470101422341,
                    0.9666750737185783,
                    0.9666750737185783,
                    0.9105782920719541
                  ],
                  "xaxis": "x",
                  "y": [
                    -1157.1875,
                    -1157.1875,
                    -1190,
                    -1190
                  ],
                  "yaxis": "y"
                },
                {
                  "hoverinfo": "text",
                  "marker": {
                    "color": "rgb(0,116,217)"
                  },
                  "mode": "lines",
                  "text": [
                    "âge_agence_35_quarantaine_problème",
                    "",
                    "",
                    "footballeur_entraîneur_football_fois_ligue"
                  ],
                  "type": "scatter",
                  "x": [
                    0.9674514195892323,
                    1.008898477640302,
                    1.008898477640302,
                    0.9666750737185783
                  ],
                  "xaxis": "x",
                  "y": [
                    -1081.25,
                    -1081.25,
                    -1173.59375,
                    -1173.59375
                  ],
                  "yaxis": "y"
                },
                {
                  "hoverinfo": "text",
                  "marker": {
                    "color": "rgb(0,116,217)"
                  },
                  "mode": "lines",
                  "text": [
                    "âge_agence_35_quarantaine_problème",
                    "",
                    "",
                    "footballeur_entraîneur_football_fois_ligue"
                  ],
                  "type": "scatter",
                  "x": [
                    0.9761603378683689,
                    1.084190774691658,
                    1.084190774691658,
                    1.008898477640302
                  ],
                  "xaxis": "x",
                  "y": [
                    -1023.75,
                    -1023.75,
                    -1127.421875,
                    -1127.421875
                  ],
                  "yaxis": "y"
                },
                {
                  "hoverinfo": "text",
                  "marker": {
                    "color": "rgb(0,116,217)"
                  },
                  "mode": "lines",
                  "text": [
                    "âge_agence_35_quarantaine_problème",
                    "",
                    "",
                    "footballeur_entraîneur_football_fois_ligue"
                  ],
                  "type": "scatter",
                  "x": [
                    1.0833463124945863,
                    1.1237650832742563,
                    1.1237650832742563,
                    1.084190774691658
                  ],
                  "xaxis": "x",
                  "y": [
                    -922.8125,
                    -922.8125,
                    -1075.5859375,
                    -1075.5859375
                  ],
                  "yaxis": "y"
                },
                {
                  "hoverinfo": "text",
                  "marker": {
                    "color": "rgb(61,153,112)"
                  },
                  "mode": "lines",
                  "text": [
                    "tennis_sport_école_jour_joueur",
                    "",
                    "",
                    "sportif_entraînement_sport_athlète_entraîneur"
                  ],
                  "type": "scatter",
                  "x": [
                    0,
                    0.7397323571406005,
                    0.7397323571406005,
                    0
                  ],
                  "xaxis": "x",
                  "y": [
                    -1215,
                    -1215,
                    -1225,
                    -1225
                  ],
                  "yaxis": "y"
                },
                {
                  "hoverinfo": "text",
                  "marker": {
                    "color": "rgb(61,153,112)"
                  },
                  "mode": "lines",
                  "text": [
                    "coaché_coach_coaching_entraînement_entraîneur",
                    "",
                    "",
                    "sportif_entraînement_sport_athlète_entraîneur"
                  ],
                  "type": "scatter",
                  "x": [
                    0,
                    0.8452858655734363,
                    0.8452858655734363,
                    0.7397323571406005
                  ],
                  "xaxis": "x",
                  "y": [
                    -1205,
                    -1205,
                    -1220,
                    -1220
                  ],
                  "yaxis": "y"
                },
                {
                  "hoverinfo": "text",
                  "marker": {
                    "color": "rgb(61,153,112)"
                  },
                  "mode": "lines",
                  "text": [
                    "ski_skieur_vêtement_semaine_entraînement",
                    "",
                    "",
                    "marathon_entraînement_triathlon_runner_endurance"
                  ],
                  "type": "scatter",
                  "x": [
                    0,
                    0.882726011888195,
                    0.882726011888195,
                    0
                  ],
                  "xaxis": "x",
                  "y": [
                    -1235,
                    -1235,
                    -1245,
                    -1245
                  ],
                  "yaxis": "y"
                },
                {
                  "hoverinfo": "text",
                  "marker": {
                    "color": "rgb(61,153,112)"
                  },
                  "mode": "lines",
                  "text": [
                    "ski_skieur_vêtement_semaine_entraînement",
                    "",
                    "",
                    "marathon_entraînement_triathlon_runner_endurance"
                  ],
                  "type": "scatter",
                  "x": [
                    0.8452858655734363,
                    0.9356269270041265,
                    0.9356269270041265,
                    0.882726011888195
                  ],
                  "xaxis": "x",
                  "y": [
                    -1212.5,
                    -1212.5,
                    -1240,
                    -1240
                  ],
                  "yaxis": "y"
                },
                {
                  "hoverinfo": "text",
                  "marker": {
                    "color": "rgb(0,116,217)"
                  },
                  "mode": "lines",
                  "text": [
                    "ski_skieur_vêtement_semaine_entraînement",
                    "",
                    "",
                    "marathon_entraînement_triathlon_runner_endurance"
                  ],
                  "type": "scatter",
                  "x": [
                    1.1237650832742563,
                    1.1653524896697647,
                    1.1653524896697647,
                    0.9356269270041265
                  ],
                  "xaxis": "x",
                  "y": [
                    -999.19921875,
                    -999.19921875,
                    -1226.25,
                    -1226.25
                  ],
                  "yaxis": "y"
                },
                {
                  "hoverinfo": "text",
                  "marker": {
                    "color": "rgb(0,116,217)"
                  },
                  "mode": "lines",
                  "text": [
                    "ski_skieur_vêtement_semaine_entraînement",
                    "",
                    "",
                    "marathon_entraînement_triathlon_runner_endurance"
                  ],
                  "type": "scatter",
                  "x": [
                    1.1509627572781316,
                    1.184257074133143,
                    1.184257074133143,
                    1.1653524896697647
                  ],
                  "xaxis": "x",
                  "y": [
                    -799.84375,
                    -799.84375,
                    -1112.724609375,
                    -1112.724609375
                  ],
                  "yaxis": "y"
                },
                {
                  "hoverinfo": "text",
                  "marker": {
                    "color": "rgb(0,116,217)"
                  },
                  "mode": "lines",
                  "text": [
                    "ski_skieur_vêtement_semaine_entraînement",
                    "",
                    "",
                    "marathon_entraînement_triathlon_runner_endurance"
                  ],
                  "type": "scatter",
                  "x": [
                    1.1190864554847302,
                    1.2044354115047413,
                    1.2044354115047413,
                    1.184257074133143
                  ],
                  "xaxis": "x",
                  "y": [
                    -496.30859375,
                    -496.30859375,
                    -956.2841796875,
                    -956.2841796875
                  ],
                  "yaxis": "y"
                },
                {
                  "hoverinfo": "text",
                  "marker": {
                    "color": "rgb(0,116,217)"
                  },
                  "mode": "lines",
                  "text": [
                    "ski_skieur_vêtement_semaine_entraînement",
                    "",
                    "",
                    "marathon_entraînement_triathlon_runner_endurance"
                  ],
                  "type": "scatter",
                  "x": [
                    1.147430902580705,
                    1.5389030378000694,
                    1.5389030378000694,
                    1.2044354115047413
                  ],
                  "xaxis": "x",
                  "y": [
                    -263.84765625,
                    -263.84765625,
                    -726.29638671875,
                    -726.29638671875
                  ],
                  "yaxis": "y"
                },
                {
                  "hoverinfo": "text",
                  "marker": {
                    "color": "rgb(255,65,54)"
                  },
                  "mode": "lines",
                  "text": [
                    "entrepreneur_sponsor_moyenne_personne_artiste",
                    "",
                    "",
                    "entrepreneur_sponsor_moyenne_ministère_forme"
                  ],
                  "type": "scatter",
                  "x": [
                    0,
                    0.10222003454932815,
                    0.10222003454932815,
                    0
                  ],
                  "xaxis": "x",
                  "y": [
                    -1265,
                    -1265,
                    -1275,
                    -1275
                  ],
                  "yaxis": "y"
                },
                {
                  "hoverinfo": "text",
                  "marker": {
                    "color": "rgb(255,65,54)"
                  },
                  "mode": "lines",
                  "text": [
                    "entrepreneur_entrepreneurial_sponsor_investisseur_entreprise",
                    "",
                    "",
                    "entrepreneur_sponsor_moyenne_personne_artiste"
                  ],
                  "type": "scatter",
                  "x": [
                    0,
                    0.15790346155122012,
                    0.15790346155122012,
                    0.10222003454932815
                  ],
                  "xaxis": "x",
                  "y": [
                    -1255,
                    -1255,
                    -1270,
                    -1270
                  ],
                  "yaxis": "y"
                },
                {
                  "hoverinfo": "text",
                  "marker": {
                    "color": "rgb(35,205,205)"
                  },
                  "mode": "lines",
                  "text": [
                    "classement_forme_mathieu_fr_semaine",
                    "",
                    "",
                    "smartphone_téléphone_classement_fr_étoile"
                  ],
                  "type": "scatter",
                  "x": [
                    0,
                    0.3303658211126398,
                    0.3303658211126398,
                    0
                  ],
                  "xaxis": "x",
                  "y": [
                    -1285,
                    -1285,
                    -1295,
                    -1295
                  ],
                  "yaxis": "y"
                },
                {
                  "hoverinfo": "text",
                  "marker": {
                    "color": "rgb(0,116,217)"
                  },
                  "mode": "lines",
                  "text": [
                    "entrepreneur_entrepreneurial_investisseur_sponsor_moyenne",
                    "",
                    "",
                    "smartphone_téléphone_classement_commentaire_étoile"
                  ],
                  "type": "scatter",
                  "x": [
                    0.15790346155122012,
                    1.3353132467012796,
                    1.3353132467012796,
                    0.3303658211126398
                  ],
                  "xaxis": "x",
                  "y": [
                    -1262.5,
                    -1262.5,
                    -1290,
                    -1290
                  ],
                  "yaxis": "y"
                },
                {
                  "hoverinfo": "text",
                  "marker": {
                    "color": "rgb(0,116,217)"
                  },
                  "mode": "lines",
                  "text": [
                    "entrepreneur_entrepreneurial_investisseur_sponsor_moyenne",
                    "",
                    "",
                    "smartphone_téléphone_classement_commentaire_étoile"
                  ],
                  "type": "scatter",
                  "x": [
                    1.5389030378000694,
                    1.7346558968519303,
                    1.7346558968519303,
                    1.3353132467012796
                  ],
                  "xaxis": "x",
                  "y": [
                    -495.072021484375,
                    -495.072021484375,
                    -1276.25,
                    -1276.25
                  ],
                  "yaxis": "y"
                },
                {
                  "hoverinfo": "text",
                  "marker": {
                    "color": "rgb(133,20,75)"
                  },
                  "mode": "lines",
                  "text": [
                    "entrepreneur_entreprise_juriste_business_founders",
                    "",
                    "",
                    "entrepreneur_entreprenariat_juriste_entreprise_business"
                  ],
                  "type": "scatter",
                  "x": [
                    0,
                    0.05403974896410524,
                    0.05403974896410524,
                    0
                  ],
                  "xaxis": "x",
                  "y": [
                    -1305,
                    -1305,
                    -1315,
                    -1315
                  ],
                  "yaxis": "y"
                },
                {
                  "hoverinfo": "text",
                  "marker": {
                    "color": "rgb(133,20,75)"
                  },
                  "mode": "lines",
                  "text": [
                    "juriste_législation_application_code_business",
                    "",
                    "",
                    "code_juriste_commission_coder_promo"
                  ],
                  "type": "scatter",
                  "x": [
                    0,
                    0.12904663182523113,
                    0.12904663182523113,
                    0
                  ],
                  "xaxis": "x",
                  "y": [
                    -1325,
                    -1325,
                    -1335,
                    -1335
                  ],
                  "yaxis": "y"
                },
                {
                  "hoverinfo": "text",
                  "marker": {
                    "color": "rgb(133,20,75)"
                  },
                  "mode": "lines",
                  "text": [
                    "entrepreneur_entreprenariat_juriste_entreprise_founders",
                    "",
                    "",
                    "juriste_code_commission_législation_business"
                  ],
                  "type": "scatter",
                  "x": [
                    0.05403974896410524,
                    0.3512604137150209,
                    0.3512604137150209,
                    0.12904663182523113
                  ],
                  "xaxis": "x",
                  "y": [
                    -1310,
                    -1310,
                    -1330,
                    -1330
                  ],
                  "yaxis": "y"
                },
                {
                  "hoverinfo": "text",
                  "marker": {
                    "color": "rgb(133,20,75)"
                  },
                  "mode": "lines",
                  "text": [
                    "code_boutique_temps_suite_business",
                    "",
                    "",
                    "code_ultra_promo_équipe_chat"
                  ],
                  "type": "scatter",
                  "x": [
                    0,
                    0.07954362634557688,
                    0.07954362634557688,
                    0
                  ],
                  "xaxis": "x",
                  "y": [
                    -1345,
                    -1345,
                    -1355,
                    -1355
                  ],
                  "yaxis": "y"
                },
                {
                  "hoverinfo": "text",
                  "marker": {
                    "color": "rgb(133,20,75)"
                  },
                  "mode": "lines",
                  "text": [
                    "code_temps_suite_business_sujet",
                    "",
                    "",
                    "codé_code_coder_promo_forme"
                  ],
                  "type": "scatter",
                  "x": [
                    0.07954362634557688,
                    0.37699102166455895,
                    0.37699102166455895,
                    0
                  ],
                  "xaxis": "x",
                  "y": [
                    -1350,
                    -1350,
                    -1365,
                    -1365
                  ],
                  "yaxis": "y"
                },
                {
                  "hoverinfo": "text",
                  "marker": {
                    "color": "rgb(133,20,75)"
                  },
                  "mode": "lines",
                  "text": [
                    "entrepreneur_juriste_entreprise_business_founders",
                    "",
                    "",
                    "code_codé_temps_suite_coder"
                  ],
                  "type": "scatter",
                  "x": [
                    0.3512604137150209,
                    0.9599990939460552,
                    0.9599990939460552,
                    0.37699102166455895
                  ],
                  "xaxis": "x",
                  "y": [
                    -1320,
                    -1320,
                    -1357.5,
                    -1357.5
                  ],
                  "yaxis": "y"
                },
                {
                  "hoverinfo": "text",
                  "marker": {
                    "color": "rgb(0,116,217)"
                  },
                  "mode": "lines",
                  "text": [
                    "entrepreneur_juriste_entreprise_business_founders",
                    "",
                    "",
                    "juriste_code_informatique_promo_business"
                  ],
                  "type": "scatter",
                  "x": [
                    1.7346558968519303,
                    2.2713090536656537,
                    2.2713090536656537,
                    0.9599990939460552
                  ],
                  "xaxis": "x",
                  "y": [
                    -885.6610107421875,
                    -885.6610107421875,
                    -1338.75,
                    -1338.75
                  ],
                  "yaxis": "y"
                },
                {
                  "hoverinfo": "text",
                  "marker": {
                    "color": "rgb(0,116,217)"
                  },
                  "mode": "lines",
                  "text": [
                    "entrepreneur_juriste_entreprise_business_founders",
                    "",
                    "",
                    "juriste_code_informatique_promo_business"
                  ],
                  "type": "scatter",
                  "x": [
                    1.1902255366682999,
                    2.8423492181432364,
                    2.8423492181432364,
                    2.2713090536656537
                  ],
                  "xaxis": "x",
                  "y": [
                    -49.375,
                    -49.375,
                    -1112.2055053710938,
                    -1112.2055053710938
                  ],
                  "yaxis": "y"
                },
                {
                  "hoverinfo": "text",
                  "hovertext": [
                    "workcity_employé_plateforme_city_vou",
                    "hygiène_afterwork_essaye_laboratoire_consentement",
                    "city_manhattan_york_suite_sujet",
                    "city_manhattan_york_suite_sujet",
                    "workcity_employé_city_freelance_plateforme",
                    "vision_perception_développement_problème_entreprise",
                    "capacité_fonctionnalité_boîte_utilisation_problème",
                    "startup_employé_entreprenariat_investissement_entrepreneur",
                    "moment_coup_problème_changement_occurrence",
                    "entrepreneuriat_entrepreneur_investissement_investisseur_entreprise",
                    "troisième_semaine_trois_deuxième_intéressant",
                    "troisième_semaine_trois_deuxième_intéressant",
                    "troisième_semaine_trois_deuxième_intéressant",
                    "téléphone_télécommunication_télécom_téléchargement_smartphone",
                    "euro_franc_semaine_baguette_fois",
                    "euro_franc_semaine_baguette_fois",
                    "boutique_shop_retailer_shops_retail",
                    "boutique_shop_retailer_shops_retail",
                    "robot_robotisation_robotique_drone_machine",
                    "robot_robotisation_robotique_drone_machine",
                    "square_paiement_vente_auditeur_code",
                    "square_paiement_vente_auditeur_code",
                    "square_paiement_vente_auditeur_code",
                    "fruit_investissement_production_propriété_plaisir",
                    "nutrition_nutritionniste_calorie_protéine_vitamine",
                    "karaté_martial_judo_kata_combat",
                    "karaté_martial_judo_kata_combat",
                    "électricité_électricien_électroménager_produit_mégawatt",
                    "électricité_électricien_électroménager_produit_mégawatt",
                    "électricité_électricien_électroménager_produit_mégawatt",
                    "skin_game_problème_market_marketplace",
                    "skin_game_problème_market_marketplace",
                    "skin_game_problème_market_marketplace",
                    "skin_game_problème_market_marketplace",
                    "mail_email_gmail_newsletter_mailchimp",
                    "podcasteur_podcasts_podcaster_auditeur_audio",
                    "tiktok_code_algorithme_influenceuse_semaine",
                    "émission_pilote_coupe_production_lévy",
                    "virus_coronavirus_covid_viralité_vaccin",
                    "patron_patronne_ministère_école_langue",
                    "patron_patronne_ministère_école_langue",
                    "patron_patronne_ministère_école_langue",
                    "chef_cuisine_restaurant_pâtisserie_sous",
                    "avocat_interne_appel_demande_problème",
                    "avocat_interne_appel_demande_problème",
                    "avocat_interne_appel_demande_problème",
                    "musique_music_musicien_musical_instrument",
                    "musique_music_musicien_musical_instrument",
                    "émotion_mood_sentiment_moment_adrénaline",
                    "émotion_mood_sentiment_moment_adrénaline",
                    "éducation_école_problème_classroom_intérêt",
                    "mathématique_mathématicien_maths_matheux_problème",
                    "âge_agence_35_quarantaine_problème",
                    "âge_agence_35_quarantaine_problème",
                    "âge_agence_35_quarantaine_problème",
                    "âge_agence_35_quarantaine_problème",
                    "ski_skieur_vêtement_semaine_entraînement",
                    "ski_skieur_vêtement_semaine_entraînement",
                    "ski_skieur_vêtement_semaine_entraînement",
                    "ski_skieur_vêtement_semaine_entraînement",
                    "ski_skieur_vêtement_semaine_entraînement",
                    "entrepreneur_entrepreneurial_investisseur_sponsor_moyenne",
                    "entrepreneur_entrepreneurial_investisseur_sponsor_moyenne",
                    "entrepreneur_entreprenariat_juriste_entreprise_founders",
                    "code_temps_suite_business_sujet",
                    "entrepreneur_juriste_entreprise_business_founders",
                    "entrepreneur_juriste_entreprise_business_founders",
                    "entrepreneur_juriste_entreprise_business_founders"
                  ],
                  "marker": {
                    "color": "black"
                  },
                  "mode": "markers",
                  "showlegend": false,
                  "type": "scatter",
                  "x": [
                    0.053374698851225255,
                    0.18005171472153914,
                    0.12449980092693469,
                    0.46325999577983434,
                    0.26896141448085553,
                    0.7561994908974994,
                    0.8580700972525978,
                    0.8889732359763375,
                    0.44643678180768653,
                    0.6432426197029397,
                    0.7109329042519142,
                    0.7721968031279183,
                    0.9131556940894848,
                    0.6628903948801397,
                    0.6909936068067637,
                    0.8186512653626992,
                    0.8527732144399481,
                    0.9904035656648099,
                    0.8915252761057667,
                    0.7638645555579022,
                    0.9769056671457224,
                    0.974222109601338,
                    0.9313365501418944,
                    0.8807247411336631,
                    1.014115810687959,
                    0.8653756539120403,
                    1.0335268808535674,
                    0.9283489207743479,
                    0.8757079629771372,
                    0.951214918828462,
                    1.0258020485658244,
                    0.92411876506137,
                    1.0612663112631495,
                    1.0654974764278562,
                    0.892306471097171,
                    0.7965525004526567,
                    0.9645160755376175,
                    1.0484541295463998,
                    0.9089144640447429,
                    0.7539881688999973,
                    0.8250078748317763,
                    1.0100613934326323,
                    0.8104166743544478,
                    0.8562866673790627,
                    0.8436365890700706,
                    1.0382051594881458,
                    0.778908543632327,
                    0.8185432012966585,
                    0.8781295763876795,
                    0.9390598693968693,
                    0.8473014379190699,
                    0.911835149730712,
                    0.9210470101422341,
                    0.9674514195892323,
                    0.9761603378683689,
                    1.0833463124945863,
                    0.8452858655734363,
                    1.1237650832742563,
                    1.1509627572781316,
                    1.1190864554847302,
                    1.147430902580705,
                    0.15790346155122012,
                    1.5389030378000694,
                    0.05403974896410524,
                    0.07954362634557688,
                    0.3512604137150209,
                    1.7346558968519303,
                    1.1902255366682999
                  ],
                  "y": [
                    -10,
                    -50,
                    -90,
                    -60,
                    -20,
                    -130,
                    -126.25,
                    -140.625,
                    -240,
                    -236.25,
                    -232.8125,
                    -192.5,
                    -155.3125,
                    -300,
                    -330,
                    -296.25,
                    -316.875,
                    -189.2578125,
                    -402.5,
                    -380,
                    -492.5,
                    -462.5,
                    -440,
                    -540,
                    -461.5625,
                    -570,
                    -498.90625,
                    -690,
                    -670,
                    -642.5,
                    -663.125,
                    -612.5,
                    -539.453125,
                    -396.875,
                    -740,
                    -792.5,
                    -750,
                    -769.6875,
                    -850,
                    -910,
                    -890,
                    -860,
                    -940,
                    -970,
                    -947.5,
                    -881.875,
                    -1030,
                    -1010,
                    -1090,
                    -1062.5,
                    -1142.5,
                    -1139.375,
                    -1157.1875,
                    -1081.25,
                    -1023.75,
                    -922.8125,
                    -1212.5,
                    -999.19921875,
                    -799.84375,
                    -496.30859375,
                    -263.84765625,
                    -1262.5,
                    -495.072021484375,
                    -1310,
                    -1350,
                    -1320,
                    -885.6610107421875,
                    -49.375
                  ]
                },
                {
                  "hoverinfo": "text",
                  "hovertext": [
                    "workcity_employé_city_cv_bureau",
                    "sujet_hygiène_industrie_café_city",
                    "semaine_workcity_classement_fr_mail",
                    "semaine_workcity_classement_fr_mail",
                    "talent_compétence_ambition_industrie_collaborateur",
                    "écosystème_environnement_infrastructure_mouvement_planète",
                    "investissement_capital_financement_capitalisation_investment",
                    "entrepreneuriat_entrepreneur_investissement_investisseur_business",
                    "histoire_école_françois_langue_antoine",
                    "train_locomotive_problème_fois_personne",
                    "train_locomotive_problème_fois_personne",
                    "plateforme_plate_demande_carrière_problème",
                    "design_fabrication_designer_industriel_manufacture",
                    "marketplace_commerceur_commerce_market_shopify",
                    "marketplace_commerceur_commerce_market_shopify",
                    "vente_vent_affaire_méthode_problème",
                    "logicielle_logiciel_problématique_service_mise",
                    "café_caféine_restaurant_origine_château",
                    "cigarette_époque_copain_pense_projet",
                    "aquarium_scientifique_croyance_respiration_changement",
                    "aquarium_scientifique_croyance_respiration_changement",
                    "animal_écosystème_organisme_écologie_problème",
                    "animal_écosystème_organisme_écologie_problème",
                    "box_boxe_vinyle_commerce_bagarre",
                    "box_boxe_vinyle_commerce_bagarre",
                    "moto_motoblue_moteur_pilote_contrôle",
                    "ambition_accomplissement_société_motivation_étoile",
                    "hologramme_photocopie_photo_image_laser",
                    "hologramme_photocopie_photo_image_laser",
                    "mean_idea_say_life_think",
                    "mean_idea_say_life_think",
                    "mean_idea_say_life_think",
                    "mean_idea_say_life_think",
                    "linkedin_personne_poste_semaine_instagram",
                    "youtube_vidéo_youtubeur_vitre_youtuber",
                    "radio_station_fm_télé_bande",
                    "radio_station_fm_télé_bande",
                    "émission_pétrole_écologiste_pollution_carbone",
                    "confinement_sous_corse_temps_covid",
                    "tunisien_tunisie_tunis_tourisme_estonie",
                    "tunisien_tunisie_tunis_tourisme_estonie",
                    "cabinet_auditeur_problème_apprentissage_quarantaine",
                    "cabinet_auditeur_problème_apprentissage_quarantaine",
                    "cabinet_auditeur_problème_apprentissage_quarantaine",
                    "photographe_photographie_photo_portrait_caméra",
                    "ceo_entreprise_coup_leadership_forme",
                    "neuroscience_psychologie_psychiatre_neuroscientifique_psychanalyse",
                    "neuroscience_psychologie_psychiatre_neuroscientifique_psychanalyse",
                    "femme_féminisme_homme_fois_problème",
                    "passion_essaye_métier_inspiration_rivière",
                    "footballeur_entraîneur_football_fois_ligue",
                    "footballeur_entraîneur_football_fois_ligue",
                    "footballeur_entraîneur_football_fois_ligue",
                    "footballeur_entraîneur_football_fois_ligue",
                    "sportif_entraînement_sport_athlète_entraîneur",
                    "marathon_entraînement_triathlon_runner_endurance",
                    "marathon_entraînement_triathlon_runner_endurance",
                    "marathon_entraînement_triathlon_runner_endurance",
                    "marathon_entraînement_triathlon_runner_endurance",
                    "marathon_entraînement_triathlon_runner_endurance",
                    "entrepreneur_sponsor_moyenne_personne_artiste",
                    "smartphone_téléphone_classement_commentaire_étoile",
                    "smartphone_téléphone_classement_commentaire_étoile",
                    "juriste_code_commission_législation_business",
                    "code_codé_temps_suite_coder",
                    "juriste_code_informatique_promo_business",
                    "juriste_code_informatique_promo_business"
                  ],
                  "marker": {
                    "color": "black"
                  },
                  "mode": "markers",
                  "showlegend": false,
                  "type": "scatter",
                  "x": [
                    0.1295416632741191,
                    0.07734452229400246,
                    0.3696346671512199,
                    0.8546911388584921,
                    0.8372659949101818,
                    0.8764723437329603,
                    0.6401323042976376,
                    0.5517290115402066,
                    0.7026658657998509,
                    0.7508990760650087,
                    0.7932377983558524,
                    0.751301307136911,
                    0.8034192644552993,
                    0.7544626919147285,
                    0.8963912630955988,
                    0.7731928438817877,
                    0.9389923475816294,
                    0.9093134063713465,
                    0.9606098505640173,
                    0.9948603984326168,
                    1.0021648479067071,
                    0.9211042051353654,
                    0.9333209033701781,
                    0.9338267311301393,
                    0.9764412575658641,
                    0.889540618138799,
                    0.8768144795956156,
                    0.9634588636699193,
                    0.9773095417256761,
                    0.9375150009384026,
                    1.054905369696512,
                    1.0767695379061506,
                    1.0875268417318937,
                    0.8110020925608805,
                    0.7633730970560749,
                    0.8665010186358076,
                    0.9752927033212734,
                    0.6293497597995692,
                    0.7586667577170971,
                    0.8491558344635772,
                    0.9338433854699184,
                    0.8159755732331843,
                    1.0271577490273374,
                    1.0464393272334556,
                    0.8343984115439048,
                    0.8711241509386751,
                    0.9014616635726238,
                    0.9148051661224026,
                    0.7688949535741314,
                    0.8951331166401759,
                    0.9105782920719541,
                    0.9666750737185783,
                    1.008898477640302,
                    1.084190774691658,
                    0.7397323571406005,
                    0.882726011888195,
                    0.9356269270041265,
                    1.1653524896697647,
                    1.184257074133143,
                    1.2044354115047413,
                    0.10222003454932815,
                    0.3303658211126398,
                    1.3353132467012796,
                    0.12904663182523113,
                    0.37699102166455895,
                    0.9599990939460552,
                    2.2713090536656537
                  ],
                  "y": [
                    -30,
                    -70,
                    -97.5,
                    -78.75,
                    -137.5,
                    -170,
                    -200,
                    -247.5,
                    -250.625,
                    -253.90625,
                    -223.203125,
                    -307.5,
                    -337.5,
                    -360,
                    -338.4375,
                    -410,
                    -413.75,
                    -470,
                    -500,
                    -503.75,
                    -483.125,
                    -547.5,
                    -536.25,
                    -590,
                    -580,
                    -620,
                    -650,
                    -697.5,
                    -683.75,
                    -720,
                    -691.5625,
                    -652.03125,
                    -595.7421875,
                    -760,
                    -800,
                    -803.75,
                    -789.375,
                    -830,
                    -870,
                    -917.5,
                    -903.75,
                    -990,
                    -980,
                    -963.75,
                    -1037.5,
                    -1070,
                    -1110,
                    -1100,
                    -1150,
                    -1153.75,
                    -1190,
                    -1173.59375,
                    -1127.421875,
                    -1075.5859375,
                    -1220,
                    -1240,
                    -1226.25,
                    -1112.724609375,
                    -956.2841796875,
                    -726.29638671875,
                    -1270,
                    -1290,
                    -1276.25,
                    -1330,
                    -1357.5,
                    -1338.75,
                    -1112.2055053710938
                  ]
                }
              ],
              "layout": {
                "autosize": false,
                "height": 2255,
                "hoverlabel": {
                  "bgcolor": "white",
                  "font": {
                    "family": "Rockwell",
                    "size": 16
                  }
                },
                "hovermode": "closest",
                "plot_bgcolor": "#ECEFF1",
                "showlegend": false,
                "template": {
                  "data": {
                    "bar": [
                      {
                        "error_x": {
                          "color": "#2a3f5f"
                        },
                        "error_y": {
                          "color": "#2a3f5f"
                        },
                        "marker": {
                          "line": {
                            "color": "white",
                            "width": 0.5
                          },
                          "pattern": {
                            "fillmode": "overlay",
                            "size": 10,
                            "solidity": 0.2
                          }
                        },
                        "type": "bar"
                      }
                    ],
                    "barpolar": [
                      {
                        "marker": {
                          "line": {
                            "color": "white",
                            "width": 0.5
                          },
                          "pattern": {
                            "fillmode": "overlay",
                            "size": 10,
                            "solidity": 0.2
                          }
                        },
                        "type": "barpolar"
                      }
                    ],
                    "carpet": [
                      {
                        "aaxis": {
                          "endlinecolor": "#2a3f5f",
                          "gridcolor": "#C8D4E3",
                          "linecolor": "#C8D4E3",
                          "minorgridcolor": "#C8D4E3",
                          "startlinecolor": "#2a3f5f"
                        },
                        "baxis": {
                          "endlinecolor": "#2a3f5f",
                          "gridcolor": "#C8D4E3",
                          "linecolor": "#C8D4E3",
                          "minorgridcolor": "#C8D4E3",
                          "startlinecolor": "#2a3f5f"
                        },
                        "type": "carpet"
                      }
                    ],
                    "choropleth": [
                      {
                        "colorbar": {
                          "outlinewidth": 0,
                          "ticks": ""
                        },
                        "type": "choropleth"
                      }
                    ],
                    "contour": [
                      {
                        "colorbar": {
                          "outlinewidth": 0,
                          "ticks": ""
                        },
                        "colorscale": [
                          [
                            0,
                            "#0d0887"
                          ],
                          [
                            0.1111111111111111,
                            "#46039f"
                          ],
                          [
                            0.2222222222222222,
                            "#7201a8"
                          ],
                          [
                            0.3333333333333333,
                            "#9c179e"
                          ],
                          [
                            0.4444444444444444,
                            "#bd3786"
                          ],
                          [
                            0.5555555555555556,
                            "#d8576b"
                          ],
                          [
                            0.6666666666666666,
                            "#ed7953"
                          ],
                          [
                            0.7777777777777778,
                            "#fb9f3a"
                          ],
                          [
                            0.8888888888888888,
                            "#fdca26"
                          ],
                          [
                            1,
                            "#f0f921"
                          ]
                        ],
                        "type": "contour"
                      }
                    ],
                    "contourcarpet": [
                      {
                        "colorbar": {
                          "outlinewidth": 0,
                          "ticks": ""
                        },
                        "type": "contourcarpet"
                      }
                    ],
                    "heatmap": [
                      {
                        "colorbar": {
                          "outlinewidth": 0,
                          "ticks": ""
                        },
                        "colorscale": [
                          [
                            0,
                            "#0d0887"
                          ],
                          [
                            0.1111111111111111,
                            "#46039f"
                          ],
                          [
                            0.2222222222222222,
                            "#7201a8"
                          ],
                          [
                            0.3333333333333333,
                            "#9c179e"
                          ],
                          [
                            0.4444444444444444,
                            "#bd3786"
                          ],
                          [
                            0.5555555555555556,
                            "#d8576b"
                          ],
                          [
                            0.6666666666666666,
                            "#ed7953"
                          ],
                          [
                            0.7777777777777778,
                            "#fb9f3a"
                          ],
                          [
                            0.8888888888888888,
                            "#fdca26"
                          ],
                          [
                            1,
                            "#f0f921"
                          ]
                        ],
                        "type": "heatmap"
                      }
                    ],
                    "heatmapgl": [
                      {
                        "colorbar": {
                          "outlinewidth": 0,
                          "ticks": ""
                        },
                        "colorscale": [
                          [
                            0,
                            "#0d0887"
                          ],
                          [
                            0.1111111111111111,
                            "#46039f"
                          ],
                          [
                            0.2222222222222222,
                            "#7201a8"
                          ],
                          [
                            0.3333333333333333,
                            "#9c179e"
                          ],
                          [
                            0.4444444444444444,
                            "#bd3786"
                          ],
                          [
                            0.5555555555555556,
                            "#d8576b"
                          ],
                          [
                            0.6666666666666666,
                            "#ed7953"
                          ],
                          [
                            0.7777777777777778,
                            "#fb9f3a"
                          ],
                          [
                            0.8888888888888888,
                            "#fdca26"
                          ],
                          [
                            1,
                            "#f0f921"
                          ]
                        ],
                        "type": "heatmapgl"
                      }
                    ],
                    "histogram": [
                      {
                        "marker": {
                          "pattern": {
                            "fillmode": "overlay",
                            "size": 10,
                            "solidity": 0.2
                          }
                        },
                        "type": "histogram"
                      }
                    ],
                    "histogram2d": [
                      {
                        "colorbar": {
                          "outlinewidth": 0,
                          "ticks": ""
                        },
                        "colorscale": [
                          [
                            0,
                            "#0d0887"
                          ],
                          [
                            0.1111111111111111,
                            "#46039f"
                          ],
                          [
                            0.2222222222222222,
                            "#7201a8"
                          ],
                          [
                            0.3333333333333333,
                            "#9c179e"
                          ],
                          [
                            0.4444444444444444,
                            "#bd3786"
                          ],
                          [
                            0.5555555555555556,
                            "#d8576b"
                          ],
                          [
                            0.6666666666666666,
                            "#ed7953"
                          ],
                          [
                            0.7777777777777778,
                            "#fb9f3a"
                          ],
                          [
                            0.8888888888888888,
                            "#fdca26"
                          ],
                          [
                            1,
                            "#f0f921"
                          ]
                        ],
                        "type": "histogram2d"
                      }
                    ],
                    "histogram2dcontour": [
                      {
                        "colorbar": {
                          "outlinewidth": 0,
                          "ticks": ""
                        },
                        "colorscale": [
                          [
                            0,
                            "#0d0887"
                          ],
                          [
                            0.1111111111111111,
                            "#46039f"
                          ],
                          [
                            0.2222222222222222,
                            "#7201a8"
                          ],
                          [
                            0.3333333333333333,
                            "#9c179e"
                          ],
                          [
                            0.4444444444444444,
                            "#bd3786"
                          ],
                          [
                            0.5555555555555556,
                            "#d8576b"
                          ],
                          [
                            0.6666666666666666,
                            "#ed7953"
                          ],
                          [
                            0.7777777777777778,
                            "#fb9f3a"
                          ],
                          [
                            0.8888888888888888,
                            "#fdca26"
                          ],
                          [
                            1,
                            "#f0f921"
                          ]
                        ],
                        "type": "histogram2dcontour"
                      }
                    ],
                    "mesh3d": [
                      {
                        "colorbar": {
                          "outlinewidth": 0,
                          "ticks": ""
                        },
                        "type": "mesh3d"
                      }
                    ],
                    "parcoords": [
                      {
                        "line": {
                          "colorbar": {
                            "outlinewidth": 0,
                            "ticks": ""
                          }
                        },
                        "type": "parcoords"
                      }
                    ],
                    "pie": [
                      {
                        "automargin": true,
                        "type": "pie"
                      }
                    ],
                    "scatter": [
                      {
                        "fillpattern": {
                          "fillmode": "overlay",
                          "size": 10,
                          "solidity": 0.2
                        },
                        "type": "scatter"
                      }
                    ],
                    "scatter3d": [
                      {
                        "line": {
                          "colorbar": {
                            "outlinewidth": 0,
                            "ticks": ""
                          }
                        },
                        "marker": {
                          "colorbar": {
                            "outlinewidth": 0,
                            "ticks": ""
                          }
                        },
                        "type": "scatter3d"
                      }
                    ],
                    "scattercarpet": [
                      {
                        "marker": {
                          "colorbar": {
                            "outlinewidth": 0,
                            "ticks": ""
                          }
                        },
                        "type": "scattercarpet"
                      }
                    ],
                    "scattergeo": [
                      {
                        "marker": {
                          "colorbar": {
                            "outlinewidth": 0,
                            "ticks": ""
                          }
                        },
                        "type": "scattergeo"
                      }
                    ],
                    "scattergl": [
                      {
                        "marker": {
                          "colorbar": {
                            "outlinewidth": 0,
                            "ticks": ""
                          }
                        },
                        "type": "scattergl"
                      }
                    ],
                    "scattermapbox": [
                      {
                        "marker": {
                          "colorbar": {
                            "outlinewidth": 0,
                            "ticks": ""
                          }
                        },
                        "type": "scattermapbox"
                      }
                    ],
                    "scatterpolar": [
                      {
                        "marker": {
                          "colorbar": {
                            "outlinewidth": 0,
                            "ticks": ""
                          }
                        },
                        "type": "scatterpolar"
                      }
                    ],
                    "scatterpolargl": [
                      {
                        "marker": {
                          "colorbar": {
                            "outlinewidth": 0,
                            "ticks": ""
                          }
                        },
                        "type": "scatterpolargl"
                      }
                    ],
                    "scatterternary": [
                      {
                        "marker": {
                          "colorbar": {
                            "outlinewidth": 0,
                            "ticks": ""
                          }
                        },
                        "type": "scatterternary"
                      }
                    ],
                    "surface": [
                      {
                        "colorbar": {
                          "outlinewidth": 0,
                          "ticks": ""
                        },
                        "colorscale": [
                          [
                            0,
                            "#0d0887"
                          ],
                          [
                            0.1111111111111111,
                            "#46039f"
                          ],
                          [
                            0.2222222222222222,
                            "#7201a8"
                          ],
                          [
                            0.3333333333333333,
                            "#9c179e"
                          ],
                          [
                            0.4444444444444444,
                            "#bd3786"
                          ],
                          [
                            0.5555555555555556,
                            "#d8576b"
                          ],
                          [
                            0.6666666666666666,
                            "#ed7953"
                          ],
                          [
                            0.7777777777777778,
                            "#fb9f3a"
                          ],
                          [
                            0.8888888888888888,
                            "#fdca26"
                          ],
                          [
                            1,
                            "#f0f921"
                          ]
                        ],
                        "type": "surface"
                      }
                    ],
                    "table": [
                      {
                        "cells": {
                          "fill": {
                            "color": "#EBF0F8"
                          },
                          "line": {
                            "color": "white"
                          }
                        },
                        "header": {
                          "fill": {
                            "color": "#C8D4E3"
                          },
                          "line": {
                            "color": "white"
                          }
                        },
                        "type": "table"
                      }
                    ]
                  },
                  "layout": {
                    "annotationdefaults": {
                      "arrowcolor": "#2a3f5f",
                      "arrowhead": 0,
                      "arrowwidth": 1
                    },
                    "autotypenumbers": "strict",
                    "coloraxis": {
                      "colorbar": {
                        "outlinewidth": 0,
                        "ticks": ""
                      }
                    },
                    "colorscale": {
                      "diverging": [
                        [
                          0,
                          "#8e0152"
                        ],
                        [
                          0.1,
                          "#c51b7d"
                        ],
                        [
                          0.2,
                          "#de77ae"
                        ],
                        [
                          0.3,
                          "#f1b6da"
                        ],
                        [
                          0.4,
                          "#fde0ef"
                        ],
                        [
                          0.5,
                          "#f7f7f7"
                        ],
                        [
                          0.6,
                          "#e6f5d0"
                        ],
                        [
                          0.7,
                          "#b8e186"
                        ],
                        [
                          0.8,
                          "#7fbc41"
                        ],
                        [
                          0.9,
                          "#4d9221"
                        ],
                        [
                          1,
                          "#276419"
                        ]
                      ],
                      "sequential": [
                        [
                          0,
                          "#0d0887"
                        ],
                        [
                          0.1111111111111111,
                          "#46039f"
                        ],
                        [
                          0.2222222222222222,
                          "#7201a8"
                        ],
                        [
                          0.3333333333333333,
                          "#9c179e"
                        ],
                        [
                          0.4444444444444444,
                          "#bd3786"
                        ],
                        [
                          0.5555555555555556,
                          "#d8576b"
                        ],
                        [
                          0.6666666666666666,
                          "#ed7953"
                        ],
                        [
                          0.7777777777777778,
                          "#fb9f3a"
                        ],
                        [
                          0.8888888888888888,
                          "#fdca26"
                        ],
                        [
                          1,
                          "#f0f921"
                        ]
                      ],
                      "sequentialminus": [
                        [
                          0,
                          "#0d0887"
                        ],
                        [
                          0.1111111111111111,
                          "#46039f"
                        ],
                        [
                          0.2222222222222222,
                          "#7201a8"
                        ],
                        [
                          0.3333333333333333,
                          "#9c179e"
                        ],
                        [
                          0.4444444444444444,
                          "#bd3786"
                        ],
                        [
                          0.5555555555555556,
                          "#d8576b"
                        ],
                        [
                          0.6666666666666666,
                          "#ed7953"
                        ],
                        [
                          0.7777777777777778,
                          "#fb9f3a"
                        ],
                        [
                          0.8888888888888888,
                          "#fdca26"
                        ],
                        [
                          1,
                          "#f0f921"
                        ]
                      ]
                    },
                    "colorway": [
                      "#636efa",
                      "#EF553B",
                      "#00cc96",
                      "#ab63fa",
                      "#FFA15A",
                      "#19d3f3",
                      "#FF6692",
                      "#B6E880",
                      "#FF97FF",
                      "#FECB52"
                    ],
                    "font": {
                      "color": "#2a3f5f"
                    },
                    "geo": {
                      "bgcolor": "white",
                      "lakecolor": "white",
                      "landcolor": "white",
                      "showlakes": true,
                      "showland": true,
                      "subunitcolor": "#C8D4E3"
                    },
                    "hoverlabel": {
                      "align": "left"
                    },
                    "hovermode": "closest",
                    "mapbox": {
                      "style": "light"
                    },
                    "paper_bgcolor": "white",
                    "plot_bgcolor": "white",
                    "polar": {
                      "angularaxis": {
                        "gridcolor": "#EBF0F8",
                        "linecolor": "#EBF0F8",
                        "ticks": ""
                      },
                      "bgcolor": "white",
                      "radialaxis": {
                        "gridcolor": "#EBF0F8",
                        "linecolor": "#EBF0F8",
                        "ticks": ""
                      }
                    },
                    "scene": {
                      "xaxis": {
                        "backgroundcolor": "white",
                        "gridcolor": "#DFE8F3",
                        "gridwidth": 2,
                        "linecolor": "#EBF0F8",
                        "showbackground": true,
                        "ticks": "",
                        "zerolinecolor": "#EBF0F8"
                      },
                      "yaxis": {
                        "backgroundcolor": "white",
                        "gridcolor": "#DFE8F3",
                        "gridwidth": 2,
                        "linecolor": "#EBF0F8",
                        "showbackground": true,
                        "ticks": "",
                        "zerolinecolor": "#EBF0F8"
                      },
                      "zaxis": {
                        "backgroundcolor": "white",
                        "gridcolor": "#DFE8F3",
                        "gridwidth": 2,
                        "linecolor": "#EBF0F8",
                        "showbackground": true,
                        "ticks": "",
                        "zerolinecolor": "#EBF0F8"
                      }
                    },
                    "shapedefaults": {
                      "line": {
                        "color": "#2a3f5f"
                      }
                    },
                    "ternary": {
                      "aaxis": {
                        "gridcolor": "#DFE8F3",
                        "linecolor": "#A2B1C6",
                        "ticks": ""
                      },
                      "baxis": {
                        "gridcolor": "#DFE8F3",
                        "linecolor": "#A2B1C6",
                        "ticks": ""
                      },
                      "bgcolor": "white",
                      "caxis": {
                        "gridcolor": "#DFE8F3",
                        "linecolor": "#A2B1C6",
                        "ticks": ""
                      }
                    },
                    "title": {
                      "x": 0.05
                    },
                    "xaxis": {
                      "automargin": true,
                      "gridcolor": "#EBF0F8",
                      "linecolor": "#EBF0F8",
                      "ticks": "",
                      "title": {
                        "standoff": 15
                      },
                      "zerolinecolor": "#EBF0F8",
                      "zerolinewidth": 2
                    },
                    "yaxis": {
                      "automargin": true,
                      "gridcolor": "#EBF0F8",
                      "linecolor": "#EBF0F8",
                      "ticks": "",
                      "title": {
                        "standoff": 15
                      },
                      "zerolinecolor": "#EBF0F8",
                      "zerolinewidth": 2
                    }
                  }
                },
                "title": {
                  "font": {
                    "color": "Black",
                    "size": 22
                  },
                  "text": "<b>Hierarchical Clustering</b>",
                  "x": 0.5,
                  "xanchor": "center",
                  "yanchor": "top"
                },
                "width": 1000,
                "xaxis": {
                  "mirror": "allticks",
                  "rangemode": "tozero",
                  "showgrid": false,
                  "showline": true,
                  "showticklabels": true,
                  "ticks": "outside",
                  "type": "linear",
                  "zeroline": false
                },
                "yaxis": {
                  "mirror": "allticks",
                  "range": [
                    -1370,
                    0
                  ],
                  "rangemode": "tozero",
                  "showgrid": false,
                  "showline": true,
                  "showticklabels": true,
                  "tickmode": "array",
                  "ticks": "outside",
                  "ticktext": [
                    "126_plateforme_workcity_emp...",
                    "116_workcity_plateforme_city",
                    "135_workcity_temps_plateforme",
                    "43_workcity_employé_city",
                    "61_hygiène_médecine_consent...",
                    "106_professionnel_hygiène_e...",
                    "46_workcity_café_industrie",
                    "123_sujet_café_hygiène",
                    "119_city_afterwork_york",
                    "37_city_manhattan_suite",
                    "98_semaine_workcity_classem...",
                    "66_capacité_fonctionnalité_...",
                    "16_vision_perception_dévelo...",
                    "21_management_manager_leade...",
                    "49_talent_compétence_ambition",
                    "50_culture_langue_impression",
                    "45_startup_employé_entrepre...",
                    "87_écosystème_environnement...",
                    "34_ensemble_société_genre",
                    "35_boîte_boulot_investissem...",
                    "8_investissement_capital_fi...",
                    "74_troisième_semaine_trois",
                    "36_temps_température_problé...",
                    "6_moment_faiblesse_mois",
                    "2_coup_entreprise_mission",
                    "1_entrepreneur_entrepreneur...",
                    "7_histoire_école_françois",
                    "42_train_locomotive_problème",
                    "57_marketing_market_commerce",
                    "3_téléphone_télécommunicati...",
                    "10_client_customer_consultant",
                    "33_plateforme_plate_demande",
                    "17_euro_franc_semaine",
                    "14_prix_véhicule_ferrari",
                    "62_design_fabrication_desig...",
                    "41_boutique_shop_retailer",
                    "38_marketplace_commerceur_c...",
                    "89_cancer_médecin_oncologue",
                    "32_médecine_médecin_profess...",
                    "31_robot_robotisation_robot...",
                    "44_algorithme_learning_soft...",
                    "30_vente_vent_affaire",
                    "101_logicielle_logiciel_pro...",
                    "120_prison_tribunal_comport...",
                    "118_cannabis_plante_champig...",
                    "104_biscuit_cookie_demande",
                    "102_chocolat_baguette_école",
                    "63_café_caféine_restaurant",
                    "85_square_paiement_vente",
                    "122_obsession_obsessionnel_...",
                    "132_cigarette_époque_copain",
                    "127_aquarium_scientifique_c...",
                    "86_nutrition_nutritionniste...",
                    "67_fruit_investissement_pro...",
                    "80_agriculture_agroalimenta...",
                    "96_animal_écosystème_organi...",
                    "71_méditation_utilisation_e...",
                    "58_yoga_posture_gym",
                    "99_karaté_martial_judo",
                    "129_box_boxe_vinyle",
                    "69_scooter_scoot_véhicule",
                    "78_accident_problème_examen",
                    "93_moto_motoblue_moteur",
                    "108_échec_énormément_épreuve",
                    "84_milliard_milliardaire_in...",
                    "107_ambition_accomplissemen...",
                    "133_fraude_audit_comportement",
                    "51_crédit_credit_financement",
                    "92_électricité_électricien_...",
                    "23_bitcoin_blockchain_crypto",
                    "109_hologramme_photocopie_p...",
                    "136_skin_game_problème",
                    "9_mean_idea_say",
                    "105_colis_problème_commande",
                    "95_rendez_communiqué_personne",
                    "18_mail_email_gmail",
                    "39_linkedin_personne_poste",
                    "117_tiktok_code_algorithme",
                    "15_podcasteur_podcasts_podc...",
                    "12_journaliste_journalisme_...",
                    "26_youtube_vidéo_youtubeur",
                    "56_radio_station_fm",
                    "79_émission_pilote_coupe",
                    "91_co2_carbone_écologie",
                    "125_bateau_batte_bataille",
                    "94_guerre_combat_pilote",
                    "70_virus_coronavirus_covid",
                    "68_confinement_sous_corse",
                    "29_voyage_voyageur_tourisme",
                    "59_pilote_aviation_pilotage",
                    "83_patron_patronne_ministère",
                    "19_état_etats_états",
                    "75_tunisien_tunisie_tunis",
                    "25_chef_cuisine_restaurant",
                    "73_cuisine_restaurant_chef",
                    "47_restaurant_restaurateur_...",
                    "77_hôtel_hôtelier_hôtellerie",
                    "128_airbnb_hôtel_booking",
                    "65_avocat_interne_appel",
                    "82_cabinet_auditeur_problème",
                    "52_théâtre_cinéma_histoire",
                    "22_film_cinéma_envie",
                    "0_musique_music_musicien",
                    "20_galerie_artiste_art",
                    "11_photographe_photographie...",
                    "100_courage_énormément_ambi...",
                    "60_intuition_décision_insti...",
                    "103_ceo_entreprise_coup",
                    "115_impression_enseignement...",
                    "88_sentiment_biais_émotion",
                    "64_émotion_mood_sentiment",
                    "81_neuroscience_psychologie...",
                    "55_mathématique_mathématici...",
                    "90_éducation_école_problème",
                    "4_parent_enfant_enfance",
                    "5_femme_féminisme_homme",
                    "97_passion_essaye_métier",
                    "54_conscience_contrôle_comp...",
                    "134_âge_agence_35",
                    "114_footballeur_entraîneur_...",
                    "27_coaché_coach_coaching",
                    "40_tennis_sport_école",
                    "28_sportif_entraînement_sport",
                    "72_ski_skieur_vêtement",
                    "53_marathon_entraînement_tr...",
                    "130_entrepreneur_entreprene...",
                    "48_entrepreneur_sponsor_moy...",
                    "112_entrepreneur_sponsor_mo...",
                    "113_classement_forme_mathieu",
                    "24_smartphone_téléphone_cla...",
                    "76_entrepreneur_entreprise_...",
                    "121_entrepreneur_entreprena...",
                    "131_juriste_législation_app...",
                    "111_code_juriste_commission",
                    "110_code_boutique_temps",
                    "124_code_ultra_promo",
                    "13_codé_code_coder"
                  ],
                  "tickvals": [
                    -5,
                    -15,
                    -25,
                    -35,
                    -45,
                    -55,
                    -65,
                    -75,
                    -85,
                    -95,
                    -105,
                    -115,
                    -125,
                    -135,
                    -145,
                    -155,
                    -165,
                    -175,
                    -185,
                    -195,
                    -205,
                    -215,
                    -225,
                    -235,
                    -245,
                    -255,
                    -265,
                    -275,
                    -285,
                    -295,
                    -305,
                    -315,
                    -325,
                    -335,
                    -345,
                    -355,
                    -365,
                    -375,
                    -385,
                    -395,
                    -405,
                    -415,
                    -425,
                    -435,
                    -445,
                    -455,
                    -465,
                    -475,
                    -485,
                    -495,
                    -505,
                    -515,
                    -525,
                    -535,
                    -545,
                    -555,
                    -565,
                    -575,
                    -585,
                    -595,
                    -605,
                    -615,
                    -625,
                    -635,
                    -645,
                    -655,
                    -665,
                    -675,
                    -685,
                    -695,
                    -705,
                    -715,
                    -725,
                    -735,
                    -745,
                    -755,
                    -765,
                    -775,
                    -785,
                    -795,
                    -805,
                    -815,
                    -825,
                    -835,
                    -845,
                    -855,
                    -865,
                    -875,
                    -885,
                    -895,
                    -905,
                    -915,
                    -925,
                    -935,
                    -945,
                    -955,
                    -965,
                    -975,
                    -985,
                    -995,
                    -1005,
                    -1015,
                    -1025,
                    -1035,
                    -1045,
                    -1055,
                    -1065,
                    -1075,
                    -1085,
                    -1095,
                    -1105,
                    -1115,
                    -1125,
                    -1135,
                    -1145,
                    -1155,
                    -1165,
                    -1175,
                    -1185,
                    -1195,
                    -1205,
                    -1215,
                    -1225,
                    -1235,
                    -1245,
                    -1255,
                    -1265,
                    -1275,
                    -1285,
                    -1295,
                    -1305,
                    -1315,
                    -1325,
                    -1335,
                    -1345,
                    -1355,
                    -1365
                  ],
                  "type": "linear",
                  "zeroline": false
                }
              }
            }
          },
          "metadata": {},
          "output_type": "display_data"
        }
      ],
      "source": [
        "topic_model.visualize_hierarchy(hierarchical_topics=hierarchical_topics)"
      ]
    },
    {
      "cell_type": "code",
      "execution_count": 10,
      "metadata": {},
      "outputs": [],
      "source": [
        "from datetime import datetime\n",
        "date_format = [datetime.strptime(date_time, \"%d/%m/%Y\") for date_time in date]"
      ]
    },
    {
      "cell_type": "code",
      "execution_count": 46,
      "metadata": {},
      "outputs": [
        {
          "name": "stderr",
          "output_type": "stream",
          "text": [
            "20it [02:42,  8.14s/it]\n"
          ]
        },
        {
          "data": {
            "application/vnd.plotly.v1+json": {
              "config": {
                "plotlyServerURL": "https://plot.ly"
              },
              "data": [
                {
                  "hoverinfo": "text",
                  "hovertext": [
                    "<b>Topic 0</b><br>Words: musique, artiste, piano, histoire, genre",
                    "<b>Topic 0</b><br>Words: musique, musicien, midi, piano, guitare",
                    "<b>Topic 0</b><br>Words: musique, artiste, concert, piano, étoile",
                    "<b>Topic 0</b><br>Words: musique, artiste, piano, ingénieur, demande",
                    "<b>Topic 0</b><br>Words: musique, piano, guitare, artiste, midi",
                    "<b>Topic 0</b><br>Words: musique, music, musical, musicien, artiste",
                    "<b>Topic 0</b><br>Words: musique, musicien, instrument, artiste, piano",
                    "<b>Topic 0</b><br>Words: musique, pianiste, music, musicien, piano",
                    "<b>Topic 0</b><br>Words: musique, piano, pianiste, musicien, instrument",
                    "<b>Topic 0</b><br>Words: musique, pianiste, piano, artiste, midi",
                    "<b>Topic 0</b><br>Words: musique, artiste, musicien, music, instrument",
                    "<b>Topic 0</b><br>Words: musique, piano, musicien, instrument, artiste",
                    "<b>Topic 0</b><br>Words: musique, piano, musicien, midi, guitare",
                    "<b>Topic 0</b><br>Words: musique, piano, musicien, musical, midi",
                    "<b>Topic 0</b><br>Words: musique, musicien, musical, artiste, piano",
                    "<b>Topic 0</b><br>Words: musique, pianiste, musicien, artiste, piano",
                    "<b>Topic 0</b><br>Words: rap, musique, rappeur, musicien, artiste",
                    "<b>Topic 0</b><br>Words: musique, artiste, piano, musicien, chant",
                    "<b>Topic 0</b><br>Words: musique, instrument, piano, midi, artiste",
                    "<b>Topic 0</b><br>Words: musique, musicien, music, artiste, piano"
                  ],
                  "marker": {
                    "color": "#E69F00"
                  },
                  "mode": "lines",
                  "name": "0_musique_music_musicien_musical",
                  "type": "scatter",
                  "x": [
                    "2017-02-19T17:28:19.200000",
                    "2017-06-15T14:24:00",
                    "2017-10-07T04:48:00",
                    "2018-01-28T19:12:00",
                    "2018-05-22T09:36:00",
                    "2018-09-13T00:00:00",
                    "2019-01-04T14:24:00",
                    "2019-04-28T04:48:00",
                    "2019-08-19T19:12:00",
                    "2019-12-11T09:36:00",
                    "2020-04-03T00:00:00",
                    "2020-07-25T14:24:00",
                    "2020-11-16T04:48:00",
                    "2021-03-09T19:12:00",
                    "2021-07-01T09:36:00",
                    "2021-10-23T00:00:00",
                    "2022-02-13T14:24:00",
                    "2022-06-07T04:48:00",
                    "2022-09-28T19:12:00",
                    "2023-01-20T09:36:00"
                  ],
                  "y": [
                    5,
                    16,
                    7,
                    10,
                    5,
                    16,
                    6,
                    49,
                    62,
                    14,
                    101,
                    48,
                    38,
                    50,
                    120,
                    40,
                    89,
                    37,
                    67,
                    137
                  ]
                },
                {
                  "hoverinfo": "text",
                  "hovertext": [
                    "<b>Topic 1</b><br>Words: entrepreneuriat, entrepreneur, investisseur, employé, entreprise",
                    "<b>Topic 1</b><br>Words: entrepreneuriat, entrepreneur, investissement, école, affaire",
                    "<b>Topic 1</b><br>Words: entrepreneur, entreprenariat, investissement, développement, investisseur",
                    "<b>Topic 1</b><br>Words: entrepreneuriat, entrepreneur, entreprenariat, investissement, business",
                    "<b>Topic 1</b><br>Words: entrepreneuriat, entrepreneur, entrepreneurial, entreprenariat, investissement",
                    "<b>Topic 1</b><br>Words: entrepreneuriat, entrepreneur, entrepreneurial, investissement, investisseur",
                    "<b>Topic 1</b><br>Words: entrepreneuriat, entrepreneur, entrepreneurial, investissement, investisseur",
                    "<b>Topic 1</b><br>Words: entrepreneuriat, entrepreneur, entrepreneurial, entreprenariat, investissement",
                    "<b>Topic 1</b><br>Words: entrepreneuriat, entrepreneur, entrepreneurial, investissement, investisseur",
                    "<b>Topic 1</b><br>Words: entrepreneuriat, entrepreneur, entreprenariat, investissement, investisseur",
                    "<b>Topic 1</b><br>Words: entrepreneuriat, entrepreneur, entreprenariat, investissement, investisseur",
                    "<b>Topic 1</b><br>Words: entrepreneuriat, entrepreneur, entreprenariat, investissement, investisseur",
                    "<b>Topic 1</b><br>Words: entrepreneuriat, entrepreneur, entrepreneurial, entreprenariat, investissement",
                    "<b>Topic 1</b><br>Words: entrepreneuriat, entrepreneur, investisseur, entreprise, opportunisme",
                    "<b>Topic 1</b><br>Words: entrepreneuriat, entrepreneur, entreprenariat, développement, investissement",
                    "<b>Topic 1</b><br>Words: entrepreneuriat, entrepreneur, entrepreneurial, entreprenariat, investissement",
                    "<b>Topic 1</b><br>Words: entrepreneuriat, entrepreneur, entreprenariat, investissement, business",
                    "<b>Topic 1</b><br>Words: entrepreneuriat, entrepreneur, entrepreneurial, investissement, investisseur",
                    "<b>Topic 1</b><br>Words: entrepreneuriat, entrepreneur, entreprenariat, investissement, business",
                    "<b>Topic 1</b><br>Words: entrepreneuriat, entrepreneur, entreprenariat, investissement, société"
                  ],
                  "marker": {
                    "color": "#56B4E9"
                  },
                  "mode": "lines",
                  "name": "1_entrepreneur_entrepreneuriat_entrepren...",
                  "type": "scatter",
                  "x": [
                    "2017-02-19T17:28:19.200000",
                    "2017-06-15T14:24:00",
                    "2017-10-07T04:48:00",
                    "2018-01-28T19:12:00",
                    "2018-05-22T09:36:00",
                    "2018-09-13T00:00:00",
                    "2019-01-04T14:24:00",
                    "2019-04-28T04:48:00",
                    "2019-08-19T19:12:00",
                    "2019-12-11T09:36:00",
                    "2020-04-03T00:00:00",
                    "2020-07-25T14:24:00",
                    "2020-11-16T04:48:00",
                    "2021-03-09T19:12:00",
                    "2021-07-01T09:36:00",
                    "2021-10-23T00:00:00",
                    "2022-02-13T14:24:00",
                    "2022-06-07T04:48:00",
                    "2022-09-28T19:12:00",
                    "2023-01-20T09:36:00"
                  ],
                  "y": [
                    18,
                    7,
                    8,
                    26,
                    11,
                    21,
                    37,
                    28,
                    54,
                    41,
                    27,
                    44,
                    74,
                    29,
                    30,
                    62,
                    53,
                    42,
                    51,
                    42
                  ]
                },
                {
                  "hoverinfo": "text",
                  "hovertext": [
                    "<b>Topic 2</b><br>Words: coup, entreprenariat, critère, plaisir, lancement",
                    "<b>Topic 2</b><br>Words: coup, forme, problème, groupe, employé",
                    "<b>Topic 2</b><br>Words: coup, registre, carrière, envie, argent",
                    "<b>Topic 2</b><br>Words: coup, carrière, semaine, forme, christophe",
                    "<b>Topic 2</b><br>Words: coup, bagarre, pratique, opportunité, promesse",
                    "<b>Topic 2</b><br>Words: coup, demande, maître, juriste, plaisir",
                    "<b>Topic 2</b><br>Words: coup, forme, affaire, financement, recrutement",
                    "<b>Topic 2</b><br>Words: coup, problème, changement, mérite, caractère",
                    "<b>Topic 2</b><br>Words: coup, énormément, établissement, économiste, domaine",
                    "<b>Topic 2</b><br>Words: coup, govoyage, changement, entreprise, enseignement",
                    "<b>Topic 2</b><br>Words: coup, contrôle, touriste, problème, process",
                    "<b>Topic 2</b><br>Words: coup, affaire, problème, fois, pilote",
                    "<b>Topic 2</b><br>Words: coup, fois, problème, poste, semaine",
                    "<b>Topic 2</b><br>Words: coup, changement, process, sujet, acquéreur",
                    "<b>Topic 2</b><br>Words: coup, contrôle, sujet, problème, envie",
                    "<b>Topic 2</b><br>Words: coup, forme, cerveau, problème, erreur",
                    "<b>Topic 2</b><br>Words: coup, problème, langue, forme, sujet",
                    "<b>Topic 2</b><br>Words: coup, affaire, intéressement, mécanisme, banque",
                    "<b>Topic 2</b><br>Words: coup, forme, fois, problème, attendre",
                    "<b>Topic 2</b><br>Words: coup, changement, énormément, sujet, mission"
                  ],
                  "marker": {
                    "color": "#009E73"
                  },
                  "mode": "lines",
                  "name": "2_coup_entreprise_mission_sujet",
                  "type": "scatter",
                  "x": [
                    "2017-02-19T17:28:19.200000",
                    "2017-06-15T14:24:00",
                    "2017-10-07T04:48:00",
                    "2018-01-28T19:12:00",
                    "2018-05-22T09:36:00",
                    "2018-09-13T00:00:00",
                    "2019-01-04T14:24:00",
                    "2019-04-28T04:48:00",
                    "2019-08-19T19:12:00",
                    "2019-12-11T09:36:00",
                    "2020-04-03T00:00:00",
                    "2020-07-25T14:24:00",
                    "2020-11-16T04:48:00",
                    "2021-03-09T19:12:00",
                    "2021-07-01T09:36:00",
                    "2021-10-23T00:00:00",
                    "2022-02-13T14:24:00",
                    "2022-06-07T04:48:00",
                    "2022-09-28T19:12:00",
                    "2023-01-20T09:36:00"
                  ],
                  "y": [
                    7,
                    3,
                    11,
                    23,
                    17,
                    29,
                    22,
                    14,
                    28,
                    29,
                    34,
                    31,
                    70,
                    40,
                    31,
                    47,
                    53,
                    36,
                    50,
                    49
                  ]
                },
                {
                  "hoverinfo": "text",
                  "hovertext": [
                    "<b>Topic 3</b><br>Words: app, android, smartphone, iphone, application",
                    "<b>Topic 3</b><br>Words: télé, téléphone, problème, télécommunication, commande",
                    "<b>Topic 3</b><br>Words: smartphone, app, téléphone, internet, opérateur",
                    "<b>Topic 3</b><br>Words: téléphone, télécommunication, téléchargement, télécom, phone",
                    "<b>Topic 3</b><br>Words: téléphone, télécommunication, télécom, téléphoner, smartphone",
                    "<b>Topic 3</b><br>Words: télécommunication, télécom, telecom, téléphone, opérateur",
                    "<b>Topic 3</b><br>Words: télécommunication, télécom, technologie, téléphone, carrière",
                    "<b>Topic 3</b><br>Words: fax, télécommunication, téléphone, télécom, téléphoner",
                    "<b>Topic 3</b><br>Words: téléphone, téléphoner, télécommunication, smartphone, mécanisme",
                    "<b>Topic 3</b><br>Words: téléphone, mobile, smartphone, application, télécommunication",
                    "<b>Topic 3</b><br>Words: logement, opérateur, téléphone, internet, web",
                    "<b>Topic 3</b><br>Words: téléphone, télécommunication, téléchargement, télécom, opérateur",
                    "<b>Topic 3</b><br>Words: mobile, smartphone, téléphone, télé, télécommunication",
                    "<b>Topic 3</b><br>Words: téléphone, produit, télécommunication, opérateur, application",
                    "<b>Topic 3</b><br>Words: téléphone, téléchargement, smartphone, télécommunication, télécom",
                    "<b>Topic 3</b><br>Words: téléphone, télécommunication, téléphoner, protocole, mobile",
                    "<b>Topic 3</b><br>Words: téléphone, minitel, opérateur, mobile, télécom",
                    "<b>Topic 3</b><br>Words: téléphone, smartphone, internet, télécommunication, problème",
                    "<b>Topic 3</b><br>Words: téléphone, smartphone, télécommunication, mobile, iphone",
                    "<b>Topic 3</b><br>Words: apple, smartphone, iphone, mobile, ipad"
                  ],
                  "marker": {
                    "color": "#F0E442"
                  },
                  "mode": "lines",
                  "name": "3_téléphone_télécommunication_télécom_té...",
                  "type": "scatter",
                  "x": [
                    "2017-02-19T17:28:19.200000",
                    "2017-06-15T14:24:00",
                    "2017-10-07T04:48:00",
                    "2018-01-28T19:12:00",
                    "2018-05-22T09:36:00",
                    "2018-09-13T00:00:00",
                    "2019-01-04T14:24:00",
                    "2019-04-28T04:48:00",
                    "2019-08-19T19:12:00",
                    "2019-12-11T09:36:00",
                    "2020-04-03T00:00:00",
                    "2020-07-25T14:24:00",
                    "2020-11-16T04:48:00",
                    "2021-03-09T19:12:00",
                    "2021-07-01T09:36:00",
                    "2021-10-23T00:00:00",
                    "2022-02-13T14:24:00",
                    "2022-06-07T04:48:00",
                    "2022-09-28T19:12:00",
                    "2023-01-20T09:36:00"
                  ],
                  "y": [
                    15,
                    5,
                    10,
                    16,
                    17,
                    26,
                    36,
                    35,
                    21,
                    38,
                    36,
                    48,
                    32,
                    33,
                    42,
                    30,
                    40,
                    29,
                    49,
                    51
                  ]
                },
                {
                  "hoverinfo": "text",
                  "hovertext": [
                    "<b>Topic 4</b><br>Words: parent, enfant, promesse, salarié, recommandation",
                    "<b>Topic 4</b><br>Words: demande, parent, financement, employé, parenthèse",
                    "<b>Topic 4</b><br>Words: parent, origine, critère, carrière, argent",
                    "<b>Topic 4</b><br>Words: parent, hébergement, entreprenariat, auditeur, apprentissage",
                    "<b>Topic 4</b><br>Words: parent, affaire, enfant, marée, enfance",
                    "<b>Topic 4</b><br>Words: parent, fois, européen, enfant, frère",
                    "<b>Topic 4</b><br>Words: parent, fois, frère, enfant, seigneur",
                    "<b>Topic 4</b><br>Words: parent, enfant, enfance, parenthèse, côté",
                    "<b>Topic 4</b><br>Words: parent, parenthèse, enfant, enfance, envie",
                    "<b>Topic 4</b><br>Words: parent, propriété, employé, verger, enfance",
                    "<b>Topic 4</b><br>Words: parent, enfant, papa, sujet, commerce",
                    "<b>Topic 4</b><br>Words: parent, enfant, enfance, intérieur, faute",
                    "<b>Topic 4</b><br>Words: parent, prélèvement, argent, adulte, enfant",
                    "<b>Topic 4</b><br>Words: parent, enfant, école, faute, envie",
                    "<b>Topic 4</b><br>Words: parent, enfant, enfance, étude, descendant",
                    "<b>Topic 4</b><br>Words: parent, enfance, enfant, problème, école",
                    "<b>Topic 4</b><br>Words: parent, père, langue, enfant, gueule",
                    "<b>Topic 4</b><br>Words: parent, enfant, enfance, huit, méthode",
                    "<b>Topic 4</b><br>Words: parent, enfant, enfance, envie, biais",
                    "<b>Topic 4</b><br>Words: parent, enfant, enfance, fonctionnaire, père"
                  ],
                  "marker": {
                    "color": "#D55E00"
                  },
                  "mode": "lines",
                  "name": "4_parent_enfant_enfance_papa",
                  "type": "scatter",
                  "x": [
                    "2017-02-19T17:28:19.200000",
                    "2017-06-15T14:24:00",
                    "2017-10-07T04:48:00",
                    "2018-01-28T19:12:00",
                    "2018-05-22T09:36:00",
                    "2018-09-13T00:00:00",
                    "2019-01-04T14:24:00",
                    "2019-04-28T04:48:00",
                    "2019-08-19T19:12:00",
                    "2019-12-11T09:36:00",
                    "2020-04-03T00:00:00",
                    "2020-07-25T14:24:00",
                    "2020-11-16T04:48:00",
                    "2021-03-09T19:12:00",
                    "2021-07-01T09:36:00",
                    "2021-10-23T00:00:00",
                    "2022-02-13T14:24:00",
                    "2022-06-07T04:48:00",
                    "2022-09-28T19:12:00",
                    "2023-01-20T09:36:00"
                  ],
                  "y": [
                    10,
                    6,
                    6,
                    7,
                    17,
                    17,
                    19,
                    41,
                    47,
                    18,
                    50,
                    26,
                    40,
                    39,
                    42,
                    44,
                    49,
                    46,
                    46,
                    36
                  ]
                },
                {
                  "hoverinfo": "text",
                  "hovertext": [
                    "<b>Topic 5</b><br>Words: femme, féminisme, problème, accès, fois",
                    "<b>Topic 5</b><br>Words: interaction, femme, relation, moitié, féminisme",
                    "<b>Topic 5</b><br>Words: homme, entreprenariat, changement, personne, biais",
                    "<b>Topic 5</b><br>Words: femme, homme, affaire, épouse, année",
                    "<b>Topic 5</b><br>Words: femme, connaissance, affaire, maison, fondamentau",
                    "<b>Topic 5</b><br>Words: fois, homme, femme, féminisme, problème",
                    "<b>Topic 5</b><br>Words: femme, homme, société, politique, projet",
                    "<b>Topic 5</b><br>Words: femme, homme, personne, veste, maison",
                    "<b>Topic 5</b><br>Words: femme, problème, histoire, homme, fois",
                    "<b>Topic 5</b><br>Words: femme, affaire, women, fois, société",
                    "<b>Topic 5</b><br>Words: femme, homme, essaye, personne, fois",
                    "<b>Topic 5</b><br>Words: femme, homme, fois, problème, pilote",
                    "<b>Topic 5</b><br>Words: femme, féminisme, homme, maison, fois",
                    "<b>Topic 5</b><br>Words: femme, féminisme, homme, maison, genre",
                    "<b>Topic 5</b><br>Words: femme, homme, sexualité, sexe, fois",
                    "<b>Topic 5</b><br>Words: femme, homme, personne, problème, sexe",
                    "<b>Topic 5</b><br>Words: féminisme, femme, homme, fois, sexualité",
                    "<b>Topic 5</b><br>Words: femme, féminisme, homme, problème, personne",
                    "<b>Topic 5</b><br>Words: femme, homme, féminisme, problème, personne",
                    "<b>Topic 5</b><br>Words: femme, homme, féminisme, société, monsieur"
                  ],
                  "marker": {
                    "color": "#0072B2"
                  },
                  "mode": "lines",
                  "name": "5_femme_féminisme_homme_fois",
                  "type": "scatter",
                  "x": [
                    "2017-02-19T17:28:19.200000",
                    "2017-06-15T14:24:00",
                    "2017-10-07T04:48:00",
                    "2018-01-28T19:12:00",
                    "2018-05-22T09:36:00",
                    "2018-09-13T00:00:00",
                    "2019-01-04T14:24:00",
                    "2019-04-28T04:48:00",
                    "2019-08-19T19:12:00",
                    "2019-12-11T09:36:00",
                    "2020-04-03T00:00:00",
                    "2020-07-25T14:24:00",
                    "2020-11-16T04:48:00",
                    "2021-03-09T19:12:00",
                    "2021-07-01T09:36:00",
                    "2021-10-23T00:00:00",
                    "2022-02-13T14:24:00",
                    "2022-06-07T04:48:00",
                    "2022-09-28T19:12:00",
                    "2023-01-20T09:36:00"
                  ],
                  "y": [
                    1,
                    1,
                    8,
                    8,
                    15,
                    4,
                    18,
                    15,
                    20,
                    36,
                    31,
                    22,
                    13,
                    50,
                    48,
                    31,
                    71,
                    34,
                    53,
                    56
                  ]
                },
                {
                  "hoverinfo": "text",
                  "hovertext": [
                    "<b>Topic 6</b><br>Words: moment, développement, plaisir, modèle, projet",
                    "<b>Topic 6</b><br>Words: solidarité, problème, période, projet, semaine",
                    "<b>Topic 6</b><br>Words: moment, développement, problème, méthode, historique",
                    "<b>Topic 6</b><br>Words: moment, statistique, market, modèle, occurrence",
                    "<b>Topic 6</b><br>Words: moment, demande, jugement, réflexe, pratique",
                    "<b>Topic 6</b><br>Words: moment, fois, salarié, société, maîtrise",
                    "<b>Topic 6</b><br>Words: moment, période, alignement, modèle, problème",
                    "<b>Topic 6</b><br>Words: moment, fois, sérieux, professionnel, encontre",
                    "<b>Topic 6</b><br>Words: moment, période, meilleur, semestre, classe",
                    "<b>Topic 6</b><br>Words: moment, période, alignement, ange, enseigne",
                    "<b>Topic 6</b><br>Words: moment, changement, renseignement, fois, salarié",
                    "<b>Topic 6</b><br>Words: moment, période, ambition, problème, occasion",
                    "<b>Topic 6</b><br>Words: moment, période, réalisme, problème, affaire",
                    "<b>Topic 6</b><br>Words: moment, période, essaye, problème, accompagnement",
                    "<b>Topic 6</b><br>Words: moment, période, problème, occasion, développement",
                    "<b>Topic 6</b><br>Words: moment, période, problème, réflexion, fois",
                    "<b>Topic 6</b><br>Words: moment, changement, salarié, étoile, période",
                    "<b>Topic 6</b><br>Words: moment, changement, période, contexte, forme",
                    "<b>Topic 6</b><br>Words: moment, période, problème, event, projet",
                    "<b>Topic 6</b><br>Words: moment, projet, personne, sujet, problème"
                  ],
                  "marker": {
                    "color": "#CC79A7"
                  },
                  "mode": "lines",
                  "name": "6_moment_faiblesse_mois_période",
                  "type": "scatter",
                  "x": [
                    "2017-02-19T17:28:19.200000",
                    "2017-06-15T14:24:00",
                    "2017-10-07T04:48:00",
                    "2018-01-28T19:12:00",
                    "2018-05-22T09:36:00",
                    "2018-09-13T00:00:00",
                    "2019-01-04T14:24:00",
                    "2019-04-28T04:48:00",
                    "2019-08-19T19:12:00",
                    "2019-12-11T09:36:00",
                    "2020-04-03T00:00:00",
                    "2020-07-25T14:24:00",
                    "2020-11-16T04:48:00",
                    "2021-03-09T19:12:00",
                    "2021-07-01T09:36:00",
                    "2021-10-23T00:00:00",
                    "2022-02-13T14:24:00",
                    "2022-06-07T04:48:00",
                    "2022-09-28T19:12:00",
                    "2023-01-20T09:36:00"
                  ],
                  "y": [
                    7,
                    1,
                    4,
                    18,
                    5,
                    15,
                    21,
                    22,
                    27,
                    12,
                    26,
                    30,
                    30,
                    33,
                    33,
                    33,
                    36,
                    29,
                    54,
                    62
                  ]
                },
                {
                  "hoverinfo": "text",
                  "hovertext": [
                    "<b>Topic 7</b><br>Words: histoire, éditeur, cerveau, romancier, oeuvre",
                    "<b>Topic 7</b><br>Words: histoire, hébergement, marché, alignement, bienveillance",
                    "<b>Topic 7</b><br>Words: histoire, journaliste, biais, mouvement, réalisme",
                    "<b>Topic 7</b><br>Words: histoire, demande, langue, carrière, angleterre",
                    "<b>Topic 7</b><br>Words: histoire, journaliste, historique, langue, roman",
                    "<b>Topic 7</b><br>Words: histoire, fois, biographie, roman, claude",
                    "<b>Topic 7</b><br>Words: histoire, semaine, fenêtre, joueur, personne",
                    "<b>Topic 7</b><br>Words: histoire, langue, fois, envie, projet",
                    "<b>Topic 7</b><br>Words: histoire, langue, école, antoine, changement",
                    "<b>Topic 7</b><br>Words: histoire, investisseur, semaine, marché, langue",
                    "<b>Topic 7</b><br>Words: histoire, connaissance, langage, partenaire, personne",
                    "<b>Topic 7</b><br>Words: histoire, roman, personne, lancement, éditeur",
                    "<b>Topic 7</b><br>Words: histoire, françois, antoine, matheux, orateur",
                    "<b>Topic 7</b><br>Words: histoire, étoile, connaissai, époque, envie",
                    "<b>Topic 7</b><br>Words: histoire, école, asiatique, semaine, projet",
                    "<b>Topic 7</b><br>Words: histoire, cerveau, école, examen, fois",
                    "<b>Topic 7</b><br>Words: histoire, foncière, fois, cobaye, envie",
                    "<b>Topic 7</b><br>Words: histoire, musée, origine, personne, envie",
                    "<b>Topic 7</b><br>Words: histoire, edouard, seine, classe, événement"
                  ],
                  "marker": {
                    "color": "#E69F00"
                  },
                  "mode": "lines",
                  "name": "7_histoire_école_françois_langue",
                  "type": "scatter",
                  "x": [
                    "2017-02-19T17:28:19.200000",
                    "2017-10-07T04:48:00",
                    "2018-01-28T19:12:00",
                    "2018-05-22T09:36:00",
                    "2018-09-13T00:00:00",
                    "2019-01-04T14:24:00",
                    "2019-04-28T04:48:00",
                    "2019-08-19T19:12:00",
                    "2019-12-11T09:36:00",
                    "2020-04-03T00:00:00",
                    "2020-07-25T14:24:00",
                    "2020-11-16T04:48:00",
                    "2021-03-09T19:12:00",
                    "2021-07-01T09:36:00",
                    "2021-10-23T00:00:00",
                    "2022-02-13T14:24:00",
                    "2022-06-07T04:48:00",
                    "2022-09-28T19:12:00",
                    "2023-01-20T09:36:00"
                  ],
                  "y": [
                    6,
                    7,
                    9,
                    6,
                    14,
                    14,
                    14,
                    48,
                    25,
                    27,
                    21,
                    33,
                    29,
                    27,
                    24,
                    40,
                    48,
                    43,
                    44
                  ]
                },
                {
                  "hoverinfo": "text",
                  "hovertext": [
                    "<b>Topic 8</b><br>Words: investissement, financement, investisseur, danse, paiement",
                    "<b>Topic 8</b><br>Words: investissement, financement, finance, investisseur, société",
                    "<b>Topic 8</b><br>Words: capital, investissement, financement, société, investisseur",
                    "<b>Topic 8</b><br>Words: investissement, financement, investisseur, capital, finance",
                    "<b>Topic 8</b><br>Words: investissement, investisseur, invest, financement, investissant",
                    "<b>Topic 8</b><br>Words: investissement, investisseur, financement, société, capital",
                    "<b>Topic 8</b><br>Words: investissement, financement, investisseur, investment, finance",
                    "<b>Topic 8</b><br>Words: investissement, financement, capital, investisseur, finance",
                    "<b>Topic 8</b><br>Words: investissement, capitalisation, capital, financement, investisseur",
                    "<b>Topic 8</b><br>Words: investissement, capital, financement, capitalisation, finance",
                    "<b>Topic 8</b><br>Words: investissement, financement, capitale, investisseur, equity",
                    "<b>Topic 8</b><br>Words: investissement, investisseur, financement, capitalisation, capital",
                    "<b>Topic 8</b><br>Words: investissement, financement, capital, capitalisation, finance",
                    "<b>Topic 8</b><br>Words: investissement, financement, investisseur, société, financier",
                    "<b>Topic 8</b><br>Words: financement, investissement, finance, investisseur, financier",
                    "<b>Topic 8</b><br>Words: investissement, capital, investisseur, financement, finance",
                    "<b>Topic 8</b><br>Words: investissement, financement, equity, investisseur, investment",
                    "<b>Topic 8</b><br>Words: financement, finance, investissement, investment, investisseur",
                    "<b>Topic 8</b><br>Words: investissement, investisseur, financement, investment, capitalisation",
                    "<b>Topic 8</b><br>Words: investissement, investisseur, financement, investment, capitale"
                  ],
                  "marker": {
                    "color": "#56B4E9"
                  },
                  "mode": "lines",
                  "name": "8_investissement_capital_financement_cap...",
                  "type": "scatter",
                  "x": [
                    "2017-02-19T17:28:19.200000",
                    "2017-06-15T14:24:00",
                    "2017-10-07T04:48:00",
                    "2018-01-28T19:12:00",
                    "2018-05-22T09:36:00",
                    "2018-09-13T00:00:00",
                    "2019-01-04T14:24:00",
                    "2019-04-28T04:48:00",
                    "2019-08-19T19:12:00",
                    "2019-12-11T09:36:00",
                    "2020-04-03T00:00:00",
                    "2020-07-25T14:24:00",
                    "2020-11-16T04:48:00",
                    "2021-03-09T19:12:00",
                    "2021-07-01T09:36:00",
                    "2021-10-23T00:00:00",
                    "2022-02-13T14:24:00",
                    "2022-06-07T04:48:00",
                    "2022-09-28T19:12:00",
                    "2023-01-20T09:36:00"
                  ],
                  "y": [
                    7,
                    6,
                    14,
                    8,
                    7,
                    13,
                    34,
                    10,
                    27,
                    18,
                    17,
                    30,
                    32,
                    28,
                    18,
                    41,
                    29,
                    27,
                    35,
                    24
                  ]
                },
                {
                  "hoverinfo": "text",
                  "hovertext": [
                    "<b>Topic 9</b><br>Words: music, money, say, idea, think",
                    "<b>Topic 9</b><br>Words: say, be, said, think, haver",
                    "<b>Topic 9</b><br>Words: experience, mean, say, be, things"
                  ],
                  "marker": {
                    "color": "#009E73"
                  },
                  "mode": "lines",
                  "name": "9_mean_idea_say_life",
                  "type": "scatter",
                  "x": [
                    "2019-04-28T04:48:00",
                    "2022-02-13T14:24:00",
                    "2023-01-20T09:36:00"
                  ],
                  "y": [
                    90,
                    151,
                    143
                  ]
                }
              ],
              "layout": {
                "height": 450,
                "hoverlabel": {
                  "bgcolor": "white",
                  "font": {
                    "family": "Rockwell",
                    "size": 16
                  }
                },
                "legend": {
                  "title": {
                    "text": "<b>Global Topic Representation"
                  }
                },
                "template": {
                  "data": {
                    "bar": [
                      {
                        "error_x": {
                          "color": "rgb(36,36,36)"
                        },
                        "error_y": {
                          "color": "rgb(36,36,36)"
                        },
                        "marker": {
                          "line": {
                            "color": "white",
                            "width": 0.5
                          },
                          "pattern": {
                            "fillmode": "overlay",
                            "size": 10,
                            "solidity": 0.2
                          }
                        },
                        "type": "bar"
                      }
                    ],
                    "barpolar": [
                      {
                        "marker": {
                          "line": {
                            "color": "white",
                            "width": 0.5
                          },
                          "pattern": {
                            "fillmode": "overlay",
                            "size": 10,
                            "solidity": 0.2
                          }
                        },
                        "type": "barpolar"
                      }
                    ],
                    "carpet": [
                      {
                        "aaxis": {
                          "endlinecolor": "rgb(36,36,36)",
                          "gridcolor": "white",
                          "linecolor": "white",
                          "minorgridcolor": "white",
                          "startlinecolor": "rgb(36,36,36)"
                        },
                        "baxis": {
                          "endlinecolor": "rgb(36,36,36)",
                          "gridcolor": "white",
                          "linecolor": "white",
                          "minorgridcolor": "white",
                          "startlinecolor": "rgb(36,36,36)"
                        },
                        "type": "carpet"
                      }
                    ],
                    "choropleth": [
                      {
                        "colorbar": {
                          "outlinewidth": 1,
                          "tickcolor": "rgb(36,36,36)",
                          "ticks": "outside"
                        },
                        "type": "choropleth"
                      }
                    ],
                    "contour": [
                      {
                        "colorbar": {
                          "outlinewidth": 1,
                          "tickcolor": "rgb(36,36,36)",
                          "ticks": "outside"
                        },
                        "colorscale": [
                          [
                            0,
                            "#440154"
                          ],
                          [
                            0.1111111111111111,
                            "#482878"
                          ],
                          [
                            0.2222222222222222,
                            "#3e4989"
                          ],
                          [
                            0.3333333333333333,
                            "#31688e"
                          ],
                          [
                            0.4444444444444444,
                            "#26828e"
                          ],
                          [
                            0.5555555555555556,
                            "#1f9e89"
                          ],
                          [
                            0.6666666666666666,
                            "#35b779"
                          ],
                          [
                            0.7777777777777778,
                            "#6ece58"
                          ],
                          [
                            0.8888888888888888,
                            "#b5de2b"
                          ],
                          [
                            1,
                            "#fde725"
                          ]
                        ],
                        "type": "contour"
                      }
                    ],
                    "contourcarpet": [
                      {
                        "colorbar": {
                          "outlinewidth": 1,
                          "tickcolor": "rgb(36,36,36)",
                          "ticks": "outside"
                        },
                        "type": "contourcarpet"
                      }
                    ],
                    "heatmap": [
                      {
                        "colorbar": {
                          "outlinewidth": 1,
                          "tickcolor": "rgb(36,36,36)",
                          "ticks": "outside"
                        },
                        "colorscale": [
                          [
                            0,
                            "#440154"
                          ],
                          [
                            0.1111111111111111,
                            "#482878"
                          ],
                          [
                            0.2222222222222222,
                            "#3e4989"
                          ],
                          [
                            0.3333333333333333,
                            "#31688e"
                          ],
                          [
                            0.4444444444444444,
                            "#26828e"
                          ],
                          [
                            0.5555555555555556,
                            "#1f9e89"
                          ],
                          [
                            0.6666666666666666,
                            "#35b779"
                          ],
                          [
                            0.7777777777777778,
                            "#6ece58"
                          ],
                          [
                            0.8888888888888888,
                            "#b5de2b"
                          ],
                          [
                            1,
                            "#fde725"
                          ]
                        ],
                        "type": "heatmap"
                      }
                    ],
                    "heatmapgl": [
                      {
                        "colorbar": {
                          "outlinewidth": 1,
                          "tickcolor": "rgb(36,36,36)",
                          "ticks": "outside"
                        },
                        "colorscale": [
                          [
                            0,
                            "#440154"
                          ],
                          [
                            0.1111111111111111,
                            "#482878"
                          ],
                          [
                            0.2222222222222222,
                            "#3e4989"
                          ],
                          [
                            0.3333333333333333,
                            "#31688e"
                          ],
                          [
                            0.4444444444444444,
                            "#26828e"
                          ],
                          [
                            0.5555555555555556,
                            "#1f9e89"
                          ],
                          [
                            0.6666666666666666,
                            "#35b779"
                          ],
                          [
                            0.7777777777777778,
                            "#6ece58"
                          ],
                          [
                            0.8888888888888888,
                            "#b5de2b"
                          ],
                          [
                            1,
                            "#fde725"
                          ]
                        ],
                        "type": "heatmapgl"
                      }
                    ],
                    "histogram": [
                      {
                        "marker": {
                          "line": {
                            "color": "white",
                            "width": 0.6
                          }
                        },
                        "type": "histogram"
                      }
                    ],
                    "histogram2d": [
                      {
                        "colorbar": {
                          "outlinewidth": 1,
                          "tickcolor": "rgb(36,36,36)",
                          "ticks": "outside"
                        },
                        "colorscale": [
                          [
                            0,
                            "#440154"
                          ],
                          [
                            0.1111111111111111,
                            "#482878"
                          ],
                          [
                            0.2222222222222222,
                            "#3e4989"
                          ],
                          [
                            0.3333333333333333,
                            "#31688e"
                          ],
                          [
                            0.4444444444444444,
                            "#26828e"
                          ],
                          [
                            0.5555555555555556,
                            "#1f9e89"
                          ],
                          [
                            0.6666666666666666,
                            "#35b779"
                          ],
                          [
                            0.7777777777777778,
                            "#6ece58"
                          ],
                          [
                            0.8888888888888888,
                            "#b5de2b"
                          ],
                          [
                            1,
                            "#fde725"
                          ]
                        ],
                        "type": "histogram2d"
                      }
                    ],
                    "histogram2dcontour": [
                      {
                        "colorbar": {
                          "outlinewidth": 1,
                          "tickcolor": "rgb(36,36,36)",
                          "ticks": "outside"
                        },
                        "colorscale": [
                          [
                            0,
                            "#440154"
                          ],
                          [
                            0.1111111111111111,
                            "#482878"
                          ],
                          [
                            0.2222222222222222,
                            "#3e4989"
                          ],
                          [
                            0.3333333333333333,
                            "#31688e"
                          ],
                          [
                            0.4444444444444444,
                            "#26828e"
                          ],
                          [
                            0.5555555555555556,
                            "#1f9e89"
                          ],
                          [
                            0.6666666666666666,
                            "#35b779"
                          ],
                          [
                            0.7777777777777778,
                            "#6ece58"
                          ],
                          [
                            0.8888888888888888,
                            "#b5de2b"
                          ],
                          [
                            1,
                            "#fde725"
                          ]
                        ],
                        "type": "histogram2dcontour"
                      }
                    ],
                    "mesh3d": [
                      {
                        "colorbar": {
                          "outlinewidth": 1,
                          "tickcolor": "rgb(36,36,36)",
                          "ticks": "outside"
                        },
                        "type": "mesh3d"
                      }
                    ],
                    "parcoords": [
                      {
                        "line": {
                          "colorbar": {
                            "outlinewidth": 1,
                            "tickcolor": "rgb(36,36,36)",
                            "ticks": "outside"
                          }
                        },
                        "type": "parcoords"
                      }
                    ],
                    "pie": [
                      {
                        "automargin": true,
                        "type": "pie"
                      }
                    ],
                    "scatter": [
                      {
                        "fillpattern": {
                          "fillmode": "overlay",
                          "size": 10,
                          "solidity": 0.2
                        },
                        "type": "scatter"
                      }
                    ],
                    "scatter3d": [
                      {
                        "line": {
                          "colorbar": {
                            "outlinewidth": 1,
                            "tickcolor": "rgb(36,36,36)",
                            "ticks": "outside"
                          }
                        },
                        "marker": {
                          "colorbar": {
                            "outlinewidth": 1,
                            "tickcolor": "rgb(36,36,36)",
                            "ticks": "outside"
                          }
                        },
                        "type": "scatter3d"
                      }
                    ],
                    "scattercarpet": [
                      {
                        "marker": {
                          "colorbar": {
                            "outlinewidth": 1,
                            "tickcolor": "rgb(36,36,36)",
                            "ticks": "outside"
                          }
                        },
                        "type": "scattercarpet"
                      }
                    ],
                    "scattergeo": [
                      {
                        "marker": {
                          "colorbar": {
                            "outlinewidth": 1,
                            "tickcolor": "rgb(36,36,36)",
                            "ticks": "outside"
                          }
                        },
                        "type": "scattergeo"
                      }
                    ],
                    "scattergl": [
                      {
                        "marker": {
                          "colorbar": {
                            "outlinewidth": 1,
                            "tickcolor": "rgb(36,36,36)",
                            "ticks": "outside"
                          }
                        },
                        "type": "scattergl"
                      }
                    ],
                    "scattermapbox": [
                      {
                        "marker": {
                          "colorbar": {
                            "outlinewidth": 1,
                            "tickcolor": "rgb(36,36,36)",
                            "ticks": "outside"
                          }
                        },
                        "type": "scattermapbox"
                      }
                    ],
                    "scatterpolar": [
                      {
                        "marker": {
                          "colorbar": {
                            "outlinewidth": 1,
                            "tickcolor": "rgb(36,36,36)",
                            "ticks": "outside"
                          }
                        },
                        "type": "scatterpolar"
                      }
                    ],
                    "scatterpolargl": [
                      {
                        "marker": {
                          "colorbar": {
                            "outlinewidth": 1,
                            "tickcolor": "rgb(36,36,36)",
                            "ticks": "outside"
                          }
                        },
                        "type": "scatterpolargl"
                      }
                    ],
                    "scatterternary": [
                      {
                        "marker": {
                          "colorbar": {
                            "outlinewidth": 1,
                            "tickcolor": "rgb(36,36,36)",
                            "ticks": "outside"
                          }
                        },
                        "type": "scatterternary"
                      }
                    ],
                    "surface": [
                      {
                        "colorbar": {
                          "outlinewidth": 1,
                          "tickcolor": "rgb(36,36,36)",
                          "ticks": "outside"
                        },
                        "colorscale": [
                          [
                            0,
                            "#440154"
                          ],
                          [
                            0.1111111111111111,
                            "#482878"
                          ],
                          [
                            0.2222222222222222,
                            "#3e4989"
                          ],
                          [
                            0.3333333333333333,
                            "#31688e"
                          ],
                          [
                            0.4444444444444444,
                            "#26828e"
                          ],
                          [
                            0.5555555555555556,
                            "#1f9e89"
                          ],
                          [
                            0.6666666666666666,
                            "#35b779"
                          ],
                          [
                            0.7777777777777778,
                            "#6ece58"
                          ],
                          [
                            0.8888888888888888,
                            "#b5de2b"
                          ],
                          [
                            1,
                            "#fde725"
                          ]
                        ],
                        "type": "surface"
                      }
                    ],
                    "table": [
                      {
                        "cells": {
                          "fill": {
                            "color": "rgb(237,237,237)"
                          },
                          "line": {
                            "color": "white"
                          }
                        },
                        "header": {
                          "fill": {
                            "color": "rgb(217,217,217)"
                          },
                          "line": {
                            "color": "white"
                          }
                        },
                        "type": "table"
                      }
                    ]
                  },
                  "layout": {
                    "annotationdefaults": {
                      "arrowhead": 0,
                      "arrowwidth": 1
                    },
                    "autotypenumbers": "strict",
                    "coloraxis": {
                      "colorbar": {
                        "outlinewidth": 1,
                        "tickcolor": "rgb(36,36,36)",
                        "ticks": "outside"
                      }
                    },
                    "colorscale": {
                      "diverging": [
                        [
                          0,
                          "rgb(103,0,31)"
                        ],
                        [
                          0.1,
                          "rgb(178,24,43)"
                        ],
                        [
                          0.2,
                          "rgb(214,96,77)"
                        ],
                        [
                          0.3,
                          "rgb(244,165,130)"
                        ],
                        [
                          0.4,
                          "rgb(253,219,199)"
                        ],
                        [
                          0.5,
                          "rgb(247,247,247)"
                        ],
                        [
                          0.6,
                          "rgb(209,229,240)"
                        ],
                        [
                          0.7,
                          "rgb(146,197,222)"
                        ],
                        [
                          0.8,
                          "rgb(67,147,195)"
                        ],
                        [
                          0.9,
                          "rgb(33,102,172)"
                        ],
                        [
                          1,
                          "rgb(5,48,97)"
                        ]
                      ],
                      "sequential": [
                        [
                          0,
                          "#440154"
                        ],
                        [
                          0.1111111111111111,
                          "#482878"
                        ],
                        [
                          0.2222222222222222,
                          "#3e4989"
                        ],
                        [
                          0.3333333333333333,
                          "#31688e"
                        ],
                        [
                          0.4444444444444444,
                          "#26828e"
                        ],
                        [
                          0.5555555555555556,
                          "#1f9e89"
                        ],
                        [
                          0.6666666666666666,
                          "#35b779"
                        ],
                        [
                          0.7777777777777778,
                          "#6ece58"
                        ],
                        [
                          0.8888888888888888,
                          "#b5de2b"
                        ],
                        [
                          1,
                          "#fde725"
                        ]
                      ],
                      "sequentialminus": [
                        [
                          0,
                          "#440154"
                        ],
                        [
                          0.1111111111111111,
                          "#482878"
                        ],
                        [
                          0.2222222222222222,
                          "#3e4989"
                        ],
                        [
                          0.3333333333333333,
                          "#31688e"
                        ],
                        [
                          0.4444444444444444,
                          "#26828e"
                        ],
                        [
                          0.5555555555555556,
                          "#1f9e89"
                        ],
                        [
                          0.6666666666666666,
                          "#35b779"
                        ],
                        [
                          0.7777777777777778,
                          "#6ece58"
                        ],
                        [
                          0.8888888888888888,
                          "#b5de2b"
                        ],
                        [
                          1,
                          "#fde725"
                        ]
                      ]
                    },
                    "colorway": [
                      "#1F77B4",
                      "#FF7F0E",
                      "#2CA02C",
                      "#D62728",
                      "#9467BD",
                      "#8C564B",
                      "#E377C2",
                      "#7F7F7F",
                      "#BCBD22",
                      "#17BECF"
                    ],
                    "font": {
                      "color": "rgb(36,36,36)"
                    },
                    "geo": {
                      "bgcolor": "white",
                      "lakecolor": "white",
                      "landcolor": "white",
                      "showlakes": true,
                      "showland": true,
                      "subunitcolor": "white"
                    },
                    "hoverlabel": {
                      "align": "left"
                    },
                    "hovermode": "closest",
                    "mapbox": {
                      "style": "light"
                    },
                    "paper_bgcolor": "white",
                    "plot_bgcolor": "white",
                    "polar": {
                      "angularaxis": {
                        "gridcolor": "rgb(232,232,232)",
                        "linecolor": "rgb(36,36,36)",
                        "showgrid": false,
                        "showline": true,
                        "ticks": "outside"
                      },
                      "bgcolor": "white",
                      "radialaxis": {
                        "gridcolor": "rgb(232,232,232)",
                        "linecolor": "rgb(36,36,36)",
                        "showgrid": false,
                        "showline": true,
                        "ticks": "outside"
                      }
                    },
                    "scene": {
                      "xaxis": {
                        "backgroundcolor": "white",
                        "gridcolor": "rgb(232,232,232)",
                        "gridwidth": 2,
                        "linecolor": "rgb(36,36,36)",
                        "showbackground": true,
                        "showgrid": false,
                        "showline": true,
                        "ticks": "outside",
                        "zeroline": false,
                        "zerolinecolor": "rgb(36,36,36)"
                      },
                      "yaxis": {
                        "backgroundcolor": "white",
                        "gridcolor": "rgb(232,232,232)",
                        "gridwidth": 2,
                        "linecolor": "rgb(36,36,36)",
                        "showbackground": true,
                        "showgrid": false,
                        "showline": true,
                        "ticks": "outside",
                        "zeroline": false,
                        "zerolinecolor": "rgb(36,36,36)"
                      },
                      "zaxis": {
                        "backgroundcolor": "white",
                        "gridcolor": "rgb(232,232,232)",
                        "gridwidth": 2,
                        "linecolor": "rgb(36,36,36)",
                        "showbackground": true,
                        "showgrid": false,
                        "showline": true,
                        "ticks": "outside",
                        "zeroline": false,
                        "zerolinecolor": "rgb(36,36,36)"
                      }
                    },
                    "shapedefaults": {
                      "fillcolor": "black",
                      "line": {
                        "width": 0
                      },
                      "opacity": 0.3
                    },
                    "ternary": {
                      "aaxis": {
                        "gridcolor": "rgb(232,232,232)",
                        "linecolor": "rgb(36,36,36)",
                        "showgrid": false,
                        "showline": true,
                        "ticks": "outside"
                      },
                      "baxis": {
                        "gridcolor": "rgb(232,232,232)",
                        "linecolor": "rgb(36,36,36)",
                        "showgrid": false,
                        "showline": true,
                        "ticks": "outside"
                      },
                      "bgcolor": "white",
                      "caxis": {
                        "gridcolor": "rgb(232,232,232)",
                        "linecolor": "rgb(36,36,36)",
                        "showgrid": false,
                        "showline": true,
                        "ticks": "outside"
                      }
                    },
                    "title": {
                      "x": 0.05
                    },
                    "xaxis": {
                      "automargin": true,
                      "gridcolor": "rgb(232,232,232)",
                      "linecolor": "rgb(36,36,36)",
                      "showgrid": false,
                      "showline": true,
                      "ticks": "outside",
                      "title": {
                        "standoff": 15
                      },
                      "zeroline": false,
                      "zerolinecolor": "rgb(36,36,36)"
                    },
                    "yaxis": {
                      "automargin": true,
                      "gridcolor": "rgb(232,232,232)",
                      "linecolor": "rgb(36,36,36)",
                      "showgrid": false,
                      "showline": true,
                      "ticks": "outside",
                      "title": {
                        "standoff": 15
                      },
                      "zeroline": false,
                      "zerolinecolor": "rgb(36,36,36)"
                    }
                  }
                },
                "title": {
                  "font": {
                    "color": "Black",
                    "size": 22
                  },
                  "text": "<b>Topics over Time</b>",
                  "x": 0.4,
                  "xanchor": "center",
                  "y": 0.95,
                  "yanchor": "top"
                },
                "width": 1250,
                "xaxis": {
                  "showgrid": true
                },
                "yaxis": {
                  "showgrid": true,
                  "title": {
                    "text": "Frequency"
                  }
                }
              }
            }
          },
          "metadata": {},
          "output_type": "display_data"
        }
      ],
      "source": [
        "topics_over_time = topic_model.topics_over_time(docs, date_format,\n",
        "                                                global_tuning=True,\n",
        "                                                evolution_tuning=True,\n",
        "                                                nr_bins=20)\n",
        "\n",
        "topic_model.visualize_topics_over_time(topics_over_time, top_n_topics=10)"
      ]
    },
    {
      "cell_type": "markdown",
      "metadata": {
        "id": "BbMq1EOB8dol"
      },
      "source": [
        "Enfin, on sauvegarder le modèle de la manière suivante :"
      ]
    },
    {
      "cell_type": "code",
      "execution_count": 50,
      "metadata": {
        "id": "OORSPVUFxIM1"
      },
      "outputs": [],
      "source": [
        "topic_model.save(\n",
        "    path='./BERTopic_Gdiy',\n",
        "    serialization=\"safetensors\",\n",
        "    save_ctfidf=True,\n",
        "    save_embedding_model='sentence-transformers/all-MiniLM-L6-v2'\n",
        ")"
      ]
    },
    {
      "cell_type": "markdown",
      "metadata": {
        "id": "pD45EVeNowEK"
      },
      "source": [
        "# **Modularités**\n",
        "\n",
        "- On peut tirer profit de la modularité pour entrainer chaque composant du modèle.\n",
        "- Les modèles UMAP et HDBSCAN seront entrainés avant des les mettre dans `BERTopic`"
      ]
    },
    {
      "cell_type": "markdown",
      "metadata": {
        "id": "HMVTNjkMzTSY"
      },
      "source": [
        "## UMAP\n",
        "\n",
        "- On peut jouer avec `n_components` qui donne la dimension du vecteur en sortie\n",
        "- `n_neighbors` contrôle la façon dont l'algorithme équilibre la structure locale par rapport à la structure globale dans les données.\n",
        "-  de faibles valeurs de `n_neighbors` se focalisent sur les détails locaux tandis que des valeurs élevées capturent les tendances globales des données, mais peuvent omettre certains détails.\n",
        "- `metric` désigne la métrique utilisée : `cosine`, `euclidean`"
      ]
    },
    {
      "cell_type": "code",
      "execution_count": 14,
      "metadata": {
        "id": "3OSVNctDzT_A"
      },
      "outputs": [
        {
          "name": "stdout",
          "output_type": "stream",
          "text": [
            "UMAP(angular_rp_forest=True, metric='cosine', n_components=5, random_state=42, verbose=True)\n",
            "Sat Nov 18 21:15:38 2023 Construct fuzzy simplicial set\n",
            "Sat Nov 18 21:15:38 2023 Finding Nearest Neighbors\n",
            "Sat Nov 18 21:15:38 2023 Building RP forest with 16 trees\n",
            "Sat Nov 18 21:15:38 2023 NN descent for 16 iterations\n",
            "\t 1  /  16\n",
            "\t 2  /  16\n",
            "\t 3  /  16\n",
            "\t 4  /  16\n",
            "\t 5  /  16\n",
            "\t 6  /  16\n",
            "\t 7  /  16\n",
            "\t 8  /  16\n",
            "\tStopping threshold met -- exiting after 8 iterations\n",
            "Sat Nov 18 21:15:40 2023 Finished Nearest Neighbor Search\n",
            "Sat Nov 18 21:15:41 2023 Construct embedding\n"
          ]
        },
        {
          "data": {
            "application/vnd.jupyter.widget-view+json": {
              "model_id": "23d34861a85b4f758b34e7acd0ac2e96",
              "version_major": 2,
              "version_minor": 0
            },
            "text/plain": [
              "Epochs completed:   0%|            0/200 [00:00]"
            ]
          },
          "metadata": {},
          "output_type": "display_data"
        },
        {
          "name": "stdout",
          "output_type": "stream",
          "text": [
            "Sat Nov 18 21:16:15 2023 Finished embedding\n"
          ]
        }
      ],
      "source": [
        "from umap import UMAP\n",
        "\n",
        "# On va appliquer une réduction de dimension avec une sortie de dimension 5\n",
        "# et une distance cosinus\n",
        "# On va également utiliser 15 voisins\n",
        "\n",
        "umap_model = UMAP(n_components=5, n_neighbors=15, random_state=42, \n",
        "                  metric=\"cosine\", verbose=True)\n",
        "reduced_embeddings = umap_model.fit_transform(embeddings)"
      ]
    },
    {
      "cell_type": "markdown",
      "metadata": {
        "id": "j9f-f0OtAZuG"
      },
      "source": [
        "Similarly, we can also prepare the UMAP-reduced embeddings for visualizing documents in 2D:"
      ]
    },
    {
      "cell_type": "code",
      "execution_count": 15,
      "metadata": {
        "id": "jRTwZ-PLxglI"
      },
      "outputs": [
        {
          "name": "stdout",
          "output_type": "stream",
          "text": [
            "UMAP(angular_rp_forest=True, metric='cosine', random_state=42, verbose=True)\n",
            "Sat Nov 18 21:16:15 2023 Construct fuzzy simplicial set\n",
            "Sat Nov 18 21:16:15 2023 Finding Nearest Neighbors\n",
            "Sat Nov 18 21:16:15 2023 Building RP forest with 16 trees\n",
            "Sat Nov 18 21:16:16 2023 NN descent for 16 iterations\n",
            "\t 1  /  16\n",
            "\t 2  /  16\n",
            "\t 3  /  16\n",
            "\t 4  /  16\n",
            "\t 5  /  16\n",
            "\t 6  /  16\n",
            "\t 7  /  16\n",
            "\t 8  /  16\n",
            "\tStopping threshold met -- exiting after 8 iterations\n",
            "Sat Nov 18 21:16:18 2023 Finished Nearest Neighbor Search\n",
            "Sat Nov 18 21:16:18 2023 Construct embedding\n"
          ]
        },
        {
          "data": {
            "application/vnd.jupyter.widget-view+json": {
              "model_id": "ec7cc603d8304dc791f5754ebc8ed99a",
              "version_major": 2,
              "version_minor": 0
            },
            "text/plain": [
              "Epochs completed:   0%|            0/200 [00:00]"
            ]
          },
          "metadata": {},
          "output_type": "display_data"
        },
        {
          "name": "stdout",
          "output_type": "stream",
          "text": [
            "Sat Nov 18 21:16:50 2023 Finished embedding\n"
          ]
        }
      ],
      "source": [
        "from umap import UMAP\n",
        "\n",
        "# On applique ici une réduction de dimension avec une sortie de dimension 2\n",
        "umap_model = UMAP(n_components=2, n_neighbors=15, random_state=42,\n",
        "                  metric=\"cosine\", verbose=True)\n",
        "\n",
        "reduced_embeddings_2d = umap_model.fit_transform(embeddings)"
      ]
    },
    {
      "cell_type": "markdown",
      "metadata": {
        "id": "Gt-zQjd6qltP"
      },
      "source": [
        "## HDBSCAN\n",
        "\n",
        "Pour le clustering:\n",
        "- `min_samples` désigne  le nombre minimum d'exemples requis dans un voisinage pour qu'un point soit considéré comme un noyau.\n",
        "- `min_cluster_size` définit la taille minimale d'un cluster\n",
        "- `gen_min_span_tree` générer l'arbre"
      ]
    },
    {
      "cell_type": "code",
      "execution_count": 16,
      "metadata": {
        "id": "oGQnu6lO9SrE"
      },
      "outputs": [],
      "source": [
        "from hdbscan import HDBSCAN\n",
        "\n",
        "# Find clusters of semantically similar documents\n",
        "hdbscan_model = HDBSCAN(min_samples=30, gen_min_span_tree=True,\n",
        "                        prediction_data=False, min_cluster_size=30)\n",
        "clusters = hdbscan_model.fit(reduced_embeddings).labels_"
      ]
    },
    {
      "cell_type": "markdown",
      "metadata": {
        "id": "Ls2Q-iccGs7O"
      },
      "source": [
        "## Manual BERTopic\n",
        "\n",
        "When we have pre-computed labels, we can pass them instead of having to calculate the clusters ourselves. This allows us to skip over the embedding, dimensionality, and clustering steps!\n",
        "\n",
        "There is one more trick though that we are going to use. We could directly give BERTopic the reduced embeddings but BERTopic will use those to create topic vectors which is not ideal. Instead, we are giving the model the full embeddings and create a custom dimensionality reduction class that will return the reduced embeddings. This gives us the best of both worlds!"
      ]
    },
    {
      "cell_type": "code",
      "execution_count": 20,
      "metadata": {
        "colab": {
          "base_uri": "https://localhost:8080/"
        },
        "id": "IpDyS8MLGOTe",
        "outputId": "62762003-bf39-402b-c54d-6f5f0b389635"
      },
      "outputs": [
        {
          "name": "stderr",
          "output_type": "stream",
          "text": [
            "2023-11-18 21:22:24,030 - BERTopic - The dimensionality reduction algorithm did not contain the `y` parameter and therefore the `y` parameter was not used\n",
            "2023-11-18 21:22:24,031 - BERTopic - Reduced dimensionality\n",
            "2023-11-18 21:22:24,039 - BERTopic - Clustered reduced embeddings\n",
            "c:\\Users\\MahamadiNikiema\\anaconda3\\envs\\podcast-env\\lib\\site-packages\\bertopic\\vectorizers\\_ctfidf.py:69: RuntimeWarning:\n",
            "\n",
            "divide by zero encountered in divide\n",
            "\n"
          ]
        }
      ],
      "source": [
        "from hdbscan import HDBSCAN\n",
        "from sentence_transformers import SentenceTransformer\n",
        "\n",
        "from bertopic import BERTopic\n",
        "from bertopic.cluster import BaseCluster\n",
        "from bertopic.representation import KeyBERTInspired\n",
        "\n",
        "\n",
        "class Dimensionality:\n",
        "  \"\"\" Use this for pre-calculated reduced embeddings \"\"\"\n",
        "  def __init__(self, reduced_embeddings):\n",
        "    self.reduced_embeddings = reduced_embeddings\n",
        "\n",
        "  def fit(self, X):\n",
        "    return self\n",
        "\n",
        "  def transform(self, X):\n",
        "    return self.reduced_embeddings\n",
        "\n",
        "\n",
        "# Prepare sub-models\n",
        "embedding_model = SentenceTransformer('sentence-transformers/all-MiniLM-L6-v2')\n",
        "umap_model = Dimensionality(reduced_embeddings)\n",
        "hdbscan_model = BaseCluster()\n",
        "vectorizer_model = CountVectorizer(vocabulary=vocab, stop_words=list(stopword))\n",
        "representation_model = KeyBERTInspired()\n",
        "\n",
        "# Fit BERTopic without actually performing any clustering\n",
        "topic_model= BERTopic(\n",
        "        embedding_model=embedding_model,\n",
        "        umap_model=umap_model,\n",
        "        hdbscan_model=hdbscan_model,\n",
        "        vectorizer_model=vectorizer_model,\n",
        "        representation_model=representation_model,\n",
        "        verbose=True\n",
        ").fit(docs, embeddings=embeddings, y=clusters)"
      ]
    },
    {
      "cell_type": "code",
      "execution_count": 19,
      "metadata": {
        "colab": {
          "base_uri": "https://localhost:8080/",
          "height": 624
        },
        "id": "c4X46XYpPdo-",
        "outputId": "77dc54f2-de4e-4a7b-8780-cf6268d15fd1"
      },
      "outputs": [
        {
          "data": {
            "application/vnd.plotly.v1+json": {
              "config": {
                "plotlyServerURL": "https://plot.ly"
              },
              "data": [
                {
                  "marker": {
                    "color": "#D55E00"
                  },
                  "orientation": "h",
                  "type": "bar",
                  "x": [
                    0.012496501236991264,
                    0.02775161905340701,
                    0.038959156229412956,
                    0.04757996460305364,
                    0.05269948042320101
                  ],
                  "xaxis": "x",
                  "y": [
                    "restauration  ",
                    "café  ",
                    "cuisine  ",
                    "chef  ",
                    "restaurant  "
                  ],
                  "yaxis": "y"
                },
                {
                  "marker": {
                    "color": "#0072B2"
                  },
                  "orientation": "h",
                  "type": "bar",
                  "x": [
                    0.016225477431255485,
                    0.01652761839367313,
                    0.018986472489905343,
                    0.0216815416962301,
                    0.09908545209266044
                  ],
                  "xaxis": "x2",
                  "y": [
                    "dj  ",
                    "disque  ",
                    "artiste  ",
                    "album  ",
                    "musique  "
                  ],
                  "yaxis": "y2"
                },
                {
                  "marker": {
                    "color": "#CC79A7"
                  },
                  "orientation": "h",
                  "type": "bar",
                  "x": [
                    0.008294709351013708,
                    0.009305752550232185,
                    0.012215258299121061,
                    0.014868912227941457,
                    0.06053613048825259
                  ],
                  "xaxis": "x3",
                  "y": [
                    "hec  ",
                    "projet  ",
                    "investisseur  ",
                    "entrepreneuriat  ",
                    "entrepreneur  "
                  ],
                  "yaxis": "y3"
                },
                {
                  "marker": {
                    "color": "#E69F00"
                  },
                  "orientation": "h",
                  "type": "bar",
                  "x": [
                    0.008257163601651013,
                    0.009788399583551953,
                    0.01032724542376612,
                    0.01083506494005407,
                    0.04445991362998283
                  ],
                  "xaxis": "x4",
                  "y": [
                    "projet  ",
                    "ontario  ",
                    "chance  ",
                    "armée  ",
                    "moment  "
                  ],
                  "yaxis": "y4"
                },
                {
                  "marker": {
                    "color": "#56B4E9"
                  },
                  "orientation": "h",
                  "type": "bar",
                  "x": [
                    0.01864252631912721,
                    0.021727869931301134,
                    0.02672372660036501,
                    0.03854783895654763,
                    0.04687676993220544
                  ],
                  "xaxis": "x5",
                  "y": [
                    "iphone  ",
                    "smartphone  ",
                    "apple  ",
                    "internet  ",
                    "téléphone  "
                  ],
                  "yaxis": "y5"
                },
                {
                  "marker": {
                    "color": "#009E73"
                  },
                  "orientation": "h",
                  "type": "bar",
                  "x": [
                    0.01613808455947627,
                    0.016726852561443448,
                    0.02267794019505214,
                    0.039265875394941085,
                    0.1041362793295109
                  ],
                  "xaxis": "x6",
                  "y": [
                    "grand  ",
                    "mère  ",
                    "père  ",
                    "enfant  ",
                    "parent  "
                  ],
                  "yaxis": "y6"
                },
                {
                  "marker": {
                    "color": "#F0E442"
                  },
                  "orientation": "h",
                  "type": "bar",
                  "x": [
                    0.024592266091902584,
                    0.04399425409878955,
                    0.04790772714955621,
                    0.06179465404120322,
                    0.08503137018567752
                  ],
                  "xaxis": "x7",
                  "y": [
                    "scène  ",
                    "cinéma  ",
                    "spectacle  ",
                    "théâtre  ",
                    "film  "
                  ],
                  "yaxis": "y7"
                },
                {
                  "marker": {
                    "color": "#D55E00"
                  },
                  "orientation": "h",
                  "type": "bar",
                  "x": [
                    0.007926865653055738,
                    0.007932595016651426,
                    0.01268200862554029,
                    0.014216090879596893,
                    0.08293508400639853
                  ],
                  "xaxis": "x8",
                  "y": [
                    "biographie  ",
                    "roman  ",
                    "bouquin  ",
                    "ah  ",
                    "histoire  "
                  ],
                  "yaxis": "y8"
                }
              ],
              "layout": {
                "annotations": [
                  {
                    "font": {
                      "size": 16
                    },
                    "showarrow": false,
                    "text": "Topic 0",
                    "x": 0.0875,
                    "xanchor": "center",
                    "xref": "paper",
                    "y": 1,
                    "yanchor": "bottom",
                    "yref": "paper"
                  },
                  {
                    "font": {
                      "size": 16
                    },
                    "showarrow": false,
                    "text": "Topic 1",
                    "x": 0.36250000000000004,
                    "xanchor": "center",
                    "xref": "paper",
                    "y": 1,
                    "yanchor": "bottom",
                    "yref": "paper"
                  },
                  {
                    "font": {
                      "size": 16
                    },
                    "showarrow": false,
                    "text": "Topic 2",
                    "x": 0.6375000000000001,
                    "xanchor": "center",
                    "xref": "paper",
                    "y": 1,
                    "yanchor": "bottom",
                    "yref": "paper"
                  },
                  {
                    "font": {
                      "size": 16
                    },
                    "showarrow": false,
                    "text": "Topic 3",
                    "x": 0.9125,
                    "xanchor": "center",
                    "xref": "paper",
                    "y": 1,
                    "yanchor": "bottom",
                    "yref": "paper"
                  },
                  {
                    "font": {
                      "size": 16
                    },
                    "showarrow": false,
                    "text": "Topic 4",
                    "x": 0.0875,
                    "xanchor": "center",
                    "xref": "paper",
                    "y": 0.4,
                    "yanchor": "bottom",
                    "yref": "paper"
                  },
                  {
                    "font": {
                      "size": 16
                    },
                    "showarrow": false,
                    "text": "Topic 5",
                    "x": 0.36250000000000004,
                    "xanchor": "center",
                    "xref": "paper",
                    "y": 0.4,
                    "yanchor": "bottom",
                    "yref": "paper"
                  },
                  {
                    "font": {
                      "size": 16
                    },
                    "showarrow": false,
                    "text": "Topic 6",
                    "x": 0.6375000000000001,
                    "xanchor": "center",
                    "xref": "paper",
                    "y": 0.4,
                    "yanchor": "bottom",
                    "yref": "paper"
                  },
                  {
                    "font": {
                      "size": 16
                    },
                    "showarrow": false,
                    "text": "Topic 7",
                    "x": 0.9125,
                    "xanchor": "center",
                    "xref": "paper",
                    "y": 0.4,
                    "yanchor": "bottom",
                    "yref": "paper"
                  }
                ],
                "height": 500,
                "hoverlabel": {
                  "bgcolor": "white",
                  "font": {
                    "family": "Rockwell",
                    "size": 16
                  }
                },
                "showlegend": false,
                "template": {
                  "data": {
                    "bar": [
                      {
                        "error_x": {
                          "color": "#2a3f5f"
                        },
                        "error_y": {
                          "color": "#2a3f5f"
                        },
                        "marker": {
                          "line": {
                            "color": "white",
                            "width": 0.5
                          },
                          "pattern": {
                            "fillmode": "overlay",
                            "size": 10,
                            "solidity": 0.2
                          }
                        },
                        "type": "bar"
                      }
                    ],
                    "barpolar": [
                      {
                        "marker": {
                          "line": {
                            "color": "white",
                            "width": 0.5
                          },
                          "pattern": {
                            "fillmode": "overlay",
                            "size": 10,
                            "solidity": 0.2
                          }
                        },
                        "type": "barpolar"
                      }
                    ],
                    "carpet": [
                      {
                        "aaxis": {
                          "endlinecolor": "#2a3f5f",
                          "gridcolor": "#C8D4E3",
                          "linecolor": "#C8D4E3",
                          "minorgridcolor": "#C8D4E3",
                          "startlinecolor": "#2a3f5f"
                        },
                        "baxis": {
                          "endlinecolor": "#2a3f5f",
                          "gridcolor": "#C8D4E3",
                          "linecolor": "#C8D4E3",
                          "minorgridcolor": "#C8D4E3",
                          "startlinecolor": "#2a3f5f"
                        },
                        "type": "carpet"
                      }
                    ],
                    "choropleth": [
                      {
                        "colorbar": {
                          "outlinewidth": 0,
                          "ticks": ""
                        },
                        "type": "choropleth"
                      }
                    ],
                    "contour": [
                      {
                        "colorbar": {
                          "outlinewidth": 0,
                          "ticks": ""
                        },
                        "colorscale": [
                          [
                            0,
                            "#0d0887"
                          ],
                          [
                            0.1111111111111111,
                            "#46039f"
                          ],
                          [
                            0.2222222222222222,
                            "#7201a8"
                          ],
                          [
                            0.3333333333333333,
                            "#9c179e"
                          ],
                          [
                            0.4444444444444444,
                            "#bd3786"
                          ],
                          [
                            0.5555555555555556,
                            "#d8576b"
                          ],
                          [
                            0.6666666666666666,
                            "#ed7953"
                          ],
                          [
                            0.7777777777777778,
                            "#fb9f3a"
                          ],
                          [
                            0.8888888888888888,
                            "#fdca26"
                          ],
                          [
                            1,
                            "#f0f921"
                          ]
                        ],
                        "type": "contour"
                      }
                    ],
                    "contourcarpet": [
                      {
                        "colorbar": {
                          "outlinewidth": 0,
                          "ticks": ""
                        },
                        "type": "contourcarpet"
                      }
                    ],
                    "heatmap": [
                      {
                        "colorbar": {
                          "outlinewidth": 0,
                          "ticks": ""
                        },
                        "colorscale": [
                          [
                            0,
                            "#0d0887"
                          ],
                          [
                            0.1111111111111111,
                            "#46039f"
                          ],
                          [
                            0.2222222222222222,
                            "#7201a8"
                          ],
                          [
                            0.3333333333333333,
                            "#9c179e"
                          ],
                          [
                            0.4444444444444444,
                            "#bd3786"
                          ],
                          [
                            0.5555555555555556,
                            "#d8576b"
                          ],
                          [
                            0.6666666666666666,
                            "#ed7953"
                          ],
                          [
                            0.7777777777777778,
                            "#fb9f3a"
                          ],
                          [
                            0.8888888888888888,
                            "#fdca26"
                          ],
                          [
                            1,
                            "#f0f921"
                          ]
                        ],
                        "type": "heatmap"
                      }
                    ],
                    "heatmapgl": [
                      {
                        "colorbar": {
                          "outlinewidth": 0,
                          "ticks": ""
                        },
                        "colorscale": [
                          [
                            0,
                            "#0d0887"
                          ],
                          [
                            0.1111111111111111,
                            "#46039f"
                          ],
                          [
                            0.2222222222222222,
                            "#7201a8"
                          ],
                          [
                            0.3333333333333333,
                            "#9c179e"
                          ],
                          [
                            0.4444444444444444,
                            "#bd3786"
                          ],
                          [
                            0.5555555555555556,
                            "#d8576b"
                          ],
                          [
                            0.6666666666666666,
                            "#ed7953"
                          ],
                          [
                            0.7777777777777778,
                            "#fb9f3a"
                          ],
                          [
                            0.8888888888888888,
                            "#fdca26"
                          ],
                          [
                            1,
                            "#f0f921"
                          ]
                        ],
                        "type": "heatmapgl"
                      }
                    ],
                    "histogram": [
                      {
                        "marker": {
                          "pattern": {
                            "fillmode": "overlay",
                            "size": 10,
                            "solidity": 0.2
                          }
                        },
                        "type": "histogram"
                      }
                    ],
                    "histogram2d": [
                      {
                        "colorbar": {
                          "outlinewidth": 0,
                          "ticks": ""
                        },
                        "colorscale": [
                          [
                            0,
                            "#0d0887"
                          ],
                          [
                            0.1111111111111111,
                            "#46039f"
                          ],
                          [
                            0.2222222222222222,
                            "#7201a8"
                          ],
                          [
                            0.3333333333333333,
                            "#9c179e"
                          ],
                          [
                            0.4444444444444444,
                            "#bd3786"
                          ],
                          [
                            0.5555555555555556,
                            "#d8576b"
                          ],
                          [
                            0.6666666666666666,
                            "#ed7953"
                          ],
                          [
                            0.7777777777777778,
                            "#fb9f3a"
                          ],
                          [
                            0.8888888888888888,
                            "#fdca26"
                          ],
                          [
                            1,
                            "#f0f921"
                          ]
                        ],
                        "type": "histogram2d"
                      }
                    ],
                    "histogram2dcontour": [
                      {
                        "colorbar": {
                          "outlinewidth": 0,
                          "ticks": ""
                        },
                        "colorscale": [
                          [
                            0,
                            "#0d0887"
                          ],
                          [
                            0.1111111111111111,
                            "#46039f"
                          ],
                          [
                            0.2222222222222222,
                            "#7201a8"
                          ],
                          [
                            0.3333333333333333,
                            "#9c179e"
                          ],
                          [
                            0.4444444444444444,
                            "#bd3786"
                          ],
                          [
                            0.5555555555555556,
                            "#d8576b"
                          ],
                          [
                            0.6666666666666666,
                            "#ed7953"
                          ],
                          [
                            0.7777777777777778,
                            "#fb9f3a"
                          ],
                          [
                            0.8888888888888888,
                            "#fdca26"
                          ],
                          [
                            1,
                            "#f0f921"
                          ]
                        ],
                        "type": "histogram2dcontour"
                      }
                    ],
                    "mesh3d": [
                      {
                        "colorbar": {
                          "outlinewidth": 0,
                          "ticks": ""
                        },
                        "type": "mesh3d"
                      }
                    ],
                    "parcoords": [
                      {
                        "line": {
                          "colorbar": {
                            "outlinewidth": 0,
                            "ticks": ""
                          }
                        },
                        "type": "parcoords"
                      }
                    ],
                    "pie": [
                      {
                        "automargin": true,
                        "type": "pie"
                      }
                    ],
                    "scatter": [
                      {
                        "fillpattern": {
                          "fillmode": "overlay",
                          "size": 10,
                          "solidity": 0.2
                        },
                        "type": "scatter"
                      }
                    ],
                    "scatter3d": [
                      {
                        "line": {
                          "colorbar": {
                            "outlinewidth": 0,
                            "ticks": ""
                          }
                        },
                        "marker": {
                          "colorbar": {
                            "outlinewidth": 0,
                            "ticks": ""
                          }
                        },
                        "type": "scatter3d"
                      }
                    ],
                    "scattercarpet": [
                      {
                        "marker": {
                          "colorbar": {
                            "outlinewidth": 0,
                            "ticks": ""
                          }
                        },
                        "type": "scattercarpet"
                      }
                    ],
                    "scattergeo": [
                      {
                        "marker": {
                          "colorbar": {
                            "outlinewidth": 0,
                            "ticks": ""
                          }
                        },
                        "type": "scattergeo"
                      }
                    ],
                    "scattergl": [
                      {
                        "marker": {
                          "colorbar": {
                            "outlinewidth": 0,
                            "ticks": ""
                          }
                        },
                        "type": "scattergl"
                      }
                    ],
                    "scattermapbox": [
                      {
                        "marker": {
                          "colorbar": {
                            "outlinewidth": 0,
                            "ticks": ""
                          }
                        },
                        "type": "scattermapbox"
                      }
                    ],
                    "scatterpolar": [
                      {
                        "marker": {
                          "colorbar": {
                            "outlinewidth": 0,
                            "ticks": ""
                          }
                        },
                        "type": "scatterpolar"
                      }
                    ],
                    "scatterpolargl": [
                      {
                        "marker": {
                          "colorbar": {
                            "outlinewidth": 0,
                            "ticks": ""
                          }
                        },
                        "type": "scatterpolargl"
                      }
                    ],
                    "scatterternary": [
                      {
                        "marker": {
                          "colorbar": {
                            "outlinewidth": 0,
                            "ticks": ""
                          }
                        },
                        "type": "scatterternary"
                      }
                    ],
                    "surface": [
                      {
                        "colorbar": {
                          "outlinewidth": 0,
                          "ticks": ""
                        },
                        "colorscale": [
                          [
                            0,
                            "#0d0887"
                          ],
                          [
                            0.1111111111111111,
                            "#46039f"
                          ],
                          [
                            0.2222222222222222,
                            "#7201a8"
                          ],
                          [
                            0.3333333333333333,
                            "#9c179e"
                          ],
                          [
                            0.4444444444444444,
                            "#bd3786"
                          ],
                          [
                            0.5555555555555556,
                            "#d8576b"
                          ],
                          [
                            0.6666666666666666,
                            "#ed7953"
                          ],
                          [
                            0.7777777777777778,
                            "#fb9f3a"
                          ],
                          [
                            0.8888888888888888,
                            "#fdca26"
                          ],
                          [
                            1,
                            "#f0f921"
                          ]
                        ],
                        "type": "surface"
                      }
                    ],
                    "table": [
                      {
                        "cells": {
                          "fill": {
                            "color": "#EBF0F8"
                          },
                          "line": {
                            "color": "white"
                          }
                        },
                        "header": {
                          "fill": {
                            "color": "#C8D4E3"
                          },
                          "line": {
                            "color": "white"
                          }
                        },
                        "type": "table"
                      }
                    ]
                  },
                  "layout": {
                    "annotationdefaults": {
                      "arrowcolor": "#2a3f5f",
                      "arrowhead": 0,
                      "arrowwidth": 1
                    },
                    "autotypenumbers": "strict",
                    "coloraxis": {
                      "colorbar": {
                        "outlinewidth": 0,
                        "ticks": ""
                      }
                    },
                    "colorscale": {
                      "diverging": [
                        [
                          0,
                          "#8e0152"
                        ],
                        [
                          0.1,
                          "#c51b7d"
                        ],
                        [
                          0.2,
                          "#de77ae"
                        ],
                        [
                          0.3,
                          "#f1b6da"
                        ],
                        [
                          0.4,
                          "#fde0ef"
                        ],
                        [
                          0.5,
                          "#f7f7f7"
                        ],
                        [
                          0.6,
                          "#e6f5d0"
                        ],
                        [
                          0.7,
                          "#b8e186"
                        ],
                        [
                          0.8,
                          "#7fbc41"
                        ],
                        [
                          0.9,
                          "#4d9221"
                        ],
                        [
                          1,
                          "#276419"
                        ]
                      ],
                      "sequential": [
                        [
                          0,
                          "#0d0887"
                        ],
                        [
                          0.1111111111111111,
                          "#46039f"
                        ],
                        [
                          0.2222222222222222,
                          "#7201a8"
                        ],
                        [
                          0.3333333333333333,
                          "#9c179e"
                        ],
                        [
                          0.4444444444444444,
                          "#bd3786"
                        ],
                        [
                          0.5555555555555556,
                          "#d8576b"
                        ],
                        [
                          0.6666666666666666,
                          "#ed7953"
                        ],
                        [
                          0.7777777777777778,
                          "#fb9f3a"
                        ],
                        [
                          0.8888888888888888,
                          "#fdca26"
                        ],
                        [
                          1,
                          "#f0f921"
                        ]
                      ],
                      "sequentialminus": [
                        [
                          0,
                          "#0d0887"
                        ],
                        [
                          0.1111111111111111,
                          "#46039f"
                        ],
                        [
                          0.2222222222222222,
                          "#7201a8"
                        ],
                        [
                          0.3333333333333333,
                          "#9c179e"
                        ],
                        [
                          0.4444444444444444,
                          "#bd3786"
                        ],
                        [
                          0.5555555555555556,
                          "#d8576b"
                        ],
                        [
                          0.6666666666666666,
                          "#ed7953"
                        ],
                        [
                          0.7777777777777778,
                          "#fb9f3a"
                        ],
                        [
                          0.8888888888888888,
                          "#fdca26"
                        ],
                        [
                          1,
                          "#f0f921"
                        ]
                      ]
                    },
                    "colorway": [
                      "#636efa",
                      "#EF553B",
                      "#00cc96",
                      "#ab63fa",
                      "#FFA15A",
                      "#19d3f3",
                      "#FF6692",
                      "#B6E880",
                      "#FF97FF",
                      "#FECB52"
                    ],
                    "font": {
                      "color": "#2a3f5f"
                    },
                    "geo": {
                      "bgcolor": "white",
                      "lakecolor": "white",
                      "landcolor": "white",
                      "showlakes": true,
                      "showland": true,
                      "subunitcolor": "#C8D4E3"
                    },
                    "hoverlabel": {
                      "align": "left"
                    },
                    "hovermode": "closest",
                    "mapbox": {
                      "style": "light"
                    },
                    "paper_bgcolor": "white",
                    "plot_bgcolor": "white",
                    "polar": {
                      "angularaxis": {
                        "gridcolor": "#EBF0F8",
                        "linecolor": "#EBF0F8",
                        "ticks": ""
                      },
                      "bgcolor": "white",
                      "radialaxis": {
                        "gridcolor": "#EBF0F8",
                        "linecolor": "#EBF0F8",
                        "ticks": ""
                      }
                    },
                    "scene": {
                      "xaxis": {
                        "backgroundcolor": "white",
                        "gridcolor": "#DFE8F3",
                        "gridwidth": 2,
                        "linecolor": "#EBF0F8",
                        "showbackground": true,
                        "ticks": "",
                        "zerolinecolor": "#EBF0F8"
                      },
                      "yaxis": {
                        "backgroundcolor": "white",
                        "gridcolor": "#DFE8F3",
                        "gridwidth": 2,
                        "linecolor": "#EBF0F8",
                        "showbackground": true,
                        "ticks": "",
                        "zerolinecolor": "#EBF0F8"
                      },
                      "zaxis": {
                        "backgroundcolor": "white",
                        "gridcolor": "#DFE8F3",
                        "gridwidth": 2,
                        "linecolor": "#EBF0F8",
                        "showbackground": true,
                        "ticks": "",
                        "zerolinecolor": "#EBF0F8"
                      }
                    },
                    "shapedefaults": {
                      "line": {
                        "color": "#2a3f5f"
                      }
                    },
                    "ternary": {
                      "aaxis": {
                        "gridcolor": "#DFE8F3",
                        "linecolor": "#A2B1C6",
                        "ticks": ""
                      },
                      "baxis": {
                        "gridcolor": "#DFE8F3",
                        "linecolor": "#A2B1C6",
                        "ticks": ""
                      },
                      "bgcolor": "white",
                      "caxis": {
                        "gridcolor": "#DFE8F3",
                        "linecolor": "#A2B1C6",
                        "ticks": ""
                      }
                    },
                    "title": {
                      "x": 0.05
                    },
                    "xaxis": {
                      "automargin": true,
                      "gridcolor": "#EBF0F8",
                      "linecolor": "#EBF0F8",
                      "ticks": "",
                      "title": {
                        "standoff": 15
                      },
                      "zerolinecolor": "#EBF0F8",
                      "zerolinewidth": 2
                    },
                    "yaxis": {
                      "automargin": true,
                      "gridcolor": "#EBF0F8",
                      "linecolor": "#EBF0F8",
                      "ticks": "",
                      "title": {
                        "standoff": 15
                      },
                      "zerolinecolor": "#EBF0F8",
                      "zerolinewidth": 2
                    }
                  }
                },
                "title": {
                  "font": {
                    "color": "Black",
                    "size": 22
                  },
                  "text": "Topic Word Scores",
                  "x": 0.5,
                  "xanchor": "center",
                  "yanchor": "top"
                },
                "width": 1000,
                "xaxis": {
                  "anchor": "y",
                  "domain": [
                    0,
                    0.175
                  ],
                  "showgrid": true
                },
                "xaxis2": {
                  "anchor": "y2",
                  "domain": [
                    0.275,
                    0.45
                  ],
                  "showgrid": true
                },
                "xaxis3": {
                  "anchor": "y3",
                  "domain": [
                    0.55,
                    0.7250000000000001
                  ],
                  "showgrid": true
                },
                "xaxis4": {
                  "anchor": "y4",
                  "domain": [
                    0.825,
                    1
                  ],
                  "showgrid": true
                },
                "xaxis5": {
                  "anchor": "y5",
                  "domain": [
                    0,
                    0.175
                  ],
                  "showgrid": true
                },
                "xaxis6": {
                  "anchor": "y6",
                  "domain": [
                    0.275,
                    0.45
                  ],
                  "showgrid": true
                },
                "xaxis7": {
                  "anchor": "y7",
                  "domain": [
                    0.55,
                    0.7250000000000001
                  ],
                  "showgrid": true
                },
                "xaxis8": {
                  "anchor": "y8",
                  "domain": [
                    0.825,
                    1
                  ],
                  "showgrid": true
                },
                "yaxis": {
                  "anchor": "x",
                  "domain": [
                    0.6000000000000001,
                    1
                  ],
                  "showgrid": true
                },
                "yaxis2": {
                  "anchor": "x2",
                  "domain": [
                    0.6000000000000001,
                    1
                  ],
                  "showgrid": true
                },
                "yaxis3": {
                  "anchor": "x3",
                  "domain": [
                    0.6000000000000001,
                    1
                  ],
                  "showgrid": true
                },
                "yaxis4": {
                  "anchor": "x4",
                  "domain": [
                    0.6000000000000001,
                    1
                  ],
                  "showgrid": true
                },
                "yaxis5": {
                  "anchor": "x5",
                  "domain": [
                    0,
                    0.4
                  ],
                  "showgrid": true
                },
                "yaxis6": {
                  "anchor": "x6",
                  "domain": [
                    0,
                    0.4
                  ],
                  "showgrid": true
                },
                "yaxis7": {
                  "anchor": "x7",
                  "domain": [
                    0,
                    0.4
                  ],
                  "showgrid": true
                },
                "yaxis8": {
                  "anchor": "x8",
                  "domain": [
                    0,
                    0.4
                  ],
                  "showgrid": true
                }
              }
            }
          },
          "metadata": {},
          "output_type": "display_data"
        }
      ],
      "source": [
        "topic_model.visualize_barchart()"
      ]
    },
    {
      "cell_type": "markdown",
      "metadata": {
        "id": "2Affr9_x9s0s"
      },
      "source": [
        "## Visualize Documents"
      ]
    },
    {
      "cell_type": "code",
      "execution_count": 42,
      "metadata": {
        "id": "XupETxy89uqd"
      },
      "outputs": [],
      "source": [
        "import itertools\n",
        "import pandas as pd\n",
        "\n",
        "# Couleurs pour la visalisation\n",
        "colors = itertools.cycle(['#e6194b', '#3cb44b', '#ffe119', '#4363d8', '#f58231',\n",
        "                           '#911eb4', '#46f0f0', '#f032e6', '#bcf60c', '#fabebe',\n",
        "                           '#008080', '#e6beff', '#9a6324', '#fffac8', '#800000',\n",
        "                           '#aaffc3', '#808000', '#ffd8b1', '#000075', '#808080',\n",
        "                           '#ffffff', '#000000'])\n",
        "\n",
        "color_key = {str(topic): next(colors) for topic in set(topic_model.topics_) if topic != -1}\n",
        "\n",
        "# Transformer les embeddings en dataframe\n",
        "df = pd.DataFrame({\"x\": reduced_embeddings_2d[:, 0], \"y\": reduced_embeddings_2d[:, 1],\n",
        "                   \"Topic\": [str(t) for t in topic_model.topics_]})\n",
        "\n",
        "df[\"Length\"] = [len(doc) for doc in docs]\n",
        "df = df.loc[df.Topic != \"-1\"]\n",
        "df = df.loc[(df.y > -10) & (df.y < 10) & (df.x < 10) & (df.x > -10), :]\n",
        "df[\"Topic\"] = df[\"Topic\"].astype(\"category\")\n",
        "\n",
        "# Calculer les centroids des clusters\n",
        "mean_df = df.groupby(\"Topic\").mean().reset_index()\n",
        "mean_df.Topic = mean_df.Topic.astype(int)\n",
        "mean_df = mean_df.sort_values(\"Topic\")"
      ]
    },
    {
      "cell_type": "code",
      "execution_count": 47,
      "metadata": {
        "colab": {
          "base_uri": "https://localhost:8080/",
          "height": 1000
        },
        "id": "DIv6fRecTvTw",
        "outputId": "5c9914f3-9f40-4e8c-f626-feee9c1bebae"
      },
      "outputs": [
        {
          "data": {
            "image/png": "[encoded data removed]",
            "text/plain": [
              "<Figure size 1600x1600 with 1 Axes>"
            ]
          },
          "metadata": {},
          "output_type": "display_data"
        },
        {
          "data": {
            "text/plain": [
              "<Figure size 640x480 with 0 Axes>"
            ]
          },
          "metadata": {},
          "output_type": "display_data"
        }
      ],
      "source": [
        "import seaborn as sns\n",
        "from matplotlib import pyplot as plt\n",
        "from adjustText import adjust_text\n",
        "import matplotlib.patheffects as pe\n",
        "\n",
        "fig = plt.figure(figsize=(16, 16))\n",
        "sns.scatterplot(data=df, x='x', y='y', c=df['Topic'].map(color_key), alpha=0.4,\n",
        "                sizes=(0.4, 10), size=\"Length\")\n",
        "\n",
        "# Annotater les 50 premiers tthèmes\n",
        "texts, xs, ys = [], [], []\n",
        "for row in mean_df.iterrows():\n",
        "  topic = row[1][\"Topic\"]\n",
        "  name = \" - \".join(list(zip(*topic_model.get_topic(int(topic))))[0][:3])\n",
        "\n",
        "  if int(topic) <= 50:\n",
        "    xs.append(row[1][\"x\"])\n",
        "    ys.append(row[1][\"y\"])\n",
        "    texts.append(plt.text(row[1][\"x\"], row[1][\"y\"], name, size=10, ha=\"center\",\n",
        "                          color=color_key[str(int(topic))],\n",
        "                          path_effects=[pe.withStroke(linewidth=0.5, foreground=\"black\")]))\n",
        "\n",
        "\n",
        "adjust_text(texts, x=xs, y=ys, time_lim=1, force_text=(0.01, 0.02),\n",
        "            force_static=(0.01, 0.02), force_pull=(0.5, 0.5))\n",
        "plt.show()\n",
        "plt.savefig(\"output.png\", dpi=600)"
      ]
    },
    {
      "cell_type": "code",
      "execution_count": null,
      "metadata": {},
      "outputs": [],
      "source": []
    }
  ],
  "metadata": {
    "accelerator": "GPU",
    "colab": {
      "gpuType": "T4",
      "machine_shape": "hm",
      "provenance": [],
      "toc_visible": true
    },
    "kernelspec": {
      "display_name": "Python 3",
      "name": "python3"
    },
    "language_info": {
      "codemirror_mode": {
        "name": "ipython",
        "version": 3
      },
      "file_extension": ".py",
      "mimetype": "text/x-python",
      "name": "python",
      "nbconvert_exporter": "python",
      "pygments_lexer": "ipython3",
      "version": "3.9.16"
    }
  },
  "nbformat": 4,
  "nbformat_minor": 0
}
